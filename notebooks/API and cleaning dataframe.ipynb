{
 "cells": [
  {
   "cell_type": "code",
   "execution_count": 148,
   "id": "f2d265bf",
   "metadata": {},
   "outputs": [],
   "source": [
    "import requests\n",
    "import pandas as pd\n",
    "import numpy as np"
   ]
  },
  {
   "cell_type": "code",
   "execution_count": 1,
   "id": "01b65fc3",
   "metadata": {},
   "outputs": [
    {
     "data": {
      "text/plain": [
       "'for i in range(1199,1356):\\n    name=data.loc[i,\"name\"]\\n    country=data.loc[i,\"departure\"]\\n    params={\"name\":name,\"country\":country,\"key\":\"GapZCmeSYJDaRQMBnRZmM4P3K7ZQqvveVavo\"}\\n    r=requests.get(\"https://gender-api.com/get\",params=params)\\n    accuracy=r.json()[\"accuracy\"]\\n    gender=r.json()[\"gender\"]\\n    data.loc[i,\"gender\"]=gender\\n    data.loc[i,\"accuracy\"]=accuracy\\n    '"
      ]
     },
     "execution_count": 1,
     "metadata": {},
     "output_type": "execute_result"
    }
   ],
   "source": [
    "\"\"\"for i in range(1199,1356):\n",
    "    name=data.loc[i,\"name\"]\n",
    "    country=data.loc[i,\"departure\"]\n",
    "    params={\"name\":name,\"country\":country,\"key\":\"GapZCmeSYJDaRQMBnRZmM4P3K7ZQqvveVavo\"}\n",
    "    r=requests.get(\"https://gender-api.com/get\",params=params)\n",
    "    accuracy=r.json()[\"accuracy\"]\n",
    "    gender=r.json()[\"gender\"]\n",
    "    data.loc[i,\"gender\"]=gender\n",
    "    data.loc[i,\"accuracy\"]=accuracy\n",
    "    \"\"\""
   ]
  },
  {
   "cell_type": "code",
   "execution_count": 155,
   "id": "074bc664",
   "metadata": {},
   "outputs": [
    {
     "data": {
      "text/html": [
       "<div>\n",
       "<style scoped>\n",
       "    .dataframe tbody tr th:only-of-type {\n",
       "        vertical-align: middle;\n",
       "    }\n",
       "\n",
       "    .dataframe tbody tr th {\n",
       "        vertical-align: top;\n",
       "    }\n",
       "\n",
       "    .dataframe thead th {\n",
       "        text-align: right;\n",
       "    }\n",
       "</style>\n",
       "<table border=\"1\" class=\"dataframe\">\n",
       "  <thead>\n",
       "    <tr style=\"text-align: right;\">\n",
       "      <th></th>\n",
       "      <th>arrival</th>\n",
       "      <th>number</th>\n",
       "    </tr>\n",
       "  </thead>\n",
       "  <tbody>\n",
       "    <tr>\n",
       "      <th>0</th>\n",
       "      <td>American Samoa</td>\n",
       "      <td>0</td>\n",
       "    </tr>\n",
       "    <tr>\n",
       "      <th>1</th>\n",
       "      <td>Lebanon</td>\n",
       "      <td>0</td>\n",
       "    </tr>\n",
       "    <tr>\n",
       "      <th>2</th>\n",
       "      <td>India</td>\n",
       "      <td>0</td>\n",
       "    </tr>\n",
       "    <tr>\n",
       "      <th>3</th>\n",
       "      <td>United States</td>\n",
       "      <td>0</td>\n",
       "    </tr>\n",
       "    <tr>\n",
       "      <th>4</th>\n",
       "      <td>['Sudan ', 'United Kingdom ']</td>\n",
       "      <td>1</td>\n",
       "    </tr>\n",
       "    <tr>\n",
       "      <th>...</th>\n",
       "      <td>...</td>\n",
       "      <td>...</td>\n",
       "    </tr>\n",
       "    <tr>\n",
       "      <th>1353</th>\n",
       "      <td>Libya</td>\n",
       "      <td>0</td>\n",
       "    </tr>\n",
       "    <tr>\n",
       "      <th>1354</th>\n",
       "      <td>Libya</td>\n",
       "      <td>0</td>\n",
       "    </tr>\n",
       "    <tr>\n",
       "      <th>1355</th>\n",
       "      <td>Libya</td>\n",
       "      <td>0</td>\n",
       "    </tr>\n",
       "    <tr>\n",
       "      <th>1356</th>\n",
       "      <td>['Italy ', 'Libya ']</td>\n",
       "      <td>1</td>\n",
       "    </tr>\n",
       "    <tr>\n",
       "      <th>1357</th>\n",
       "      <td>['Italy ', 'Libya ', 'Niger ']</td>\n",
       "      <td>1</td>\n",
       "    </tr>\n",
       "  </tbody>\n",
       "</table>\n",
       "<p>1358 rows × 2 columns</p>\n",
       "</div>"
      ],
      "text/plain": [
       "                             arrival  number\n",
       "0                    American Samoa        0\n",
       "1                           Lebanon        0\n",
       "2                             India        0\n",
       "3                     United States        0\n",
       "4      ['Sudan ', 'United Kingdom ']       1\n",
       "...                              ...     ...\n",
       "1353                          Libya        0\n",
       "1354                          Libya        0\n",
       "1355                          Libya        0\n",
       "1356            ['Italy ', 'Libya ']       1\n",
       "1357  ['Italy ', 'Libya ', 'Niger ']       1\n",
       "\n",
       "[1358 rows x 2 columns]"
      ]
     },
     "execution_count": 155,
     "metadata": {},
     "output_type": "execute_result"
    }
   ],
   "source": [
    "\"\"\"def fun(item):\n",
    "    find=re.findall(\"\\[.*\",str(item))\n",
    "    return len(find)\n",
    "s=a.apply(fun)\n",
    "final=pd.DataFrame({\"arrival\":a,\"number\":s})\n",
    "\n",
    "def fun_2(item):\n",
    "    if item.number==0:\n",
    "        return item.arrival\n",
    "    else:\n",
    "        lenght=len(item.arrival[1:-1].split(\",\"))\n",
    "        lista=item.arrival[1:-1].split(\",\")\n",
    "        real_list=[lista[i].replace(\"'\",\"\").strip() for i in range(lenght)]\n",
    "            \n",
    "            \n",
    "final.apply(fun_2,axis=1)\"\"\""
   ]
  },
  {
   "cell_type": "code",
   "execution_count": null,
   "id": "1090e6d1",
   "metadata": {},
   "outputs": [],
   "source": []
  },
  {
   "cell_type": "code",
   "execution_count": 184,
   "id": "52bd40a1",
   "metadata": {},
   "outputs": [],
   "source": [
    "\"\"\"def contries_count(element):\n",
    "    if type(element)==list:\n",
    "        return len(element)\n",
    "    else:\n",
    "        return 1\n",
    "df[\"arrival\"].apply(contries_count).max()\n",
    "def contries_to_list(element):\n",
    "    l= [np.nan]*3\n",
    "    if type(element)==list:\n",
    "        for i in range(len(element)):\n",
    "            l[i]=element[i]\n",
    "    else:\n",
    "        l[0]= element\n",
    "    \n",
    "    return l\n",
    "df[[\"arrival_1\",\"arrival_2\",\"arrival_3\"]]=pd.DataFrame(df[\"arrival\"].apply(contries_to_list).to_list())\"\"\"   "
   ]
  },
  {
   "cell_type": "code",
   "execution_count": 228,
   "id": "5e7e45b3",
   "metadata": {},
   "outputs": [
    {
     "data": {
      "text/plain": [
       "'def tran_date(item):\\n    return pd.to_datetime(item,format=\"%Y-%Y\")\\ndf_final_with_url.loc[2:,\\'date_slavery\\'].apply(tran_date)\\n'"
      ]
     },
     "execution_count": 228,
     "metadata": {},
     "output_type": "execute_result"
    }
   ],
   "source": [
    "\"\"\"def tran_date(item):\n",
    "    return pd.to_datetime(item,format=\"%Y-%Y\")\n",
    "df_final_with_url.loc[2:,'date_slavery'].apply(tran_date)\n",
    "\"\"\""
   ]
  },
  {
   "cell_type": "code",
   "execution_count": 260,
   "id": "b7765379",
   "metadata": {},
   "outputs": [],
   "source": [
    "df=pd.read_csv(\"/Users/fenice/code/QZKZ3/ht_project/raw_data/df_final_with_url_and_column_themes.csv\")"
   ]
  },
  {
   "cell_type": "code",
   "execution_count": null,
   "id": "64925737",
   "metadata": {},
   "outputs": [],
   "source": []
  },
  {
   "cell_type": "code",
   "execution_count": null,
   "id": "08307397",
   "metadata": {},
   "outputs": [],
   "source": []
  }
 ],
 "metadata": {
  "kernelspec": {
   "display_name": "lewagon",
   "language": "python",
   "name": "lewagon"
  },
  "language_info": {
   "codemirror_mode": {
    "name": "ipython",
    "version": 3
   },
   "file_extension": ".py",
   "mimetype": "text/x-python",
   "name": "python",
   "nbconvert_exporter": "python",
   "pygments_lexer": "ipython3",
   "version": "3.8.12"
  },
  "toc": {
   "base_numbering": 1,
   "nav_menu": {},
   "number_sections": true,
   "sideBar": true,
   "skip_h1_title": false,
   "title_cell": "Table of Contents",
   "title_sidebar": "Contents",
   "toc_cell": false,
   "toc_position": {},
   "toc_section_display": true,
   "toc_window_display": false
  }
 },
 "nbformat": 4,
 "nbformat_minor": 5
}
