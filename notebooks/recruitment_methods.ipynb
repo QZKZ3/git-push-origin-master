{
 "cells": [
  {
   "cell_type": "code",
   "execution_count": 1,
   "id": "62ffdf85",
   "metadata": {},
   "outputs": [],
   "source": [
    "import pandas as pd\n",
    "import matplotlib.pyplot as plt\n",
    "import seaborn as sns"
   ]
  },
  {
   "cell_type": "code",
   "execution_count": 2,
   "id": "ce8ec61d",
   "metadata": {
    "scrolled": true
   },
   "outputs": [
    {
     "name": "stderr",
     "output_type": "stream",
     "text": [
      "/Users/lega/.pyenv/versions/lewagon/lib/python3.8/site-packages/IPython/core/interactiveshell.py:3444: DtypeWarning: Columns (1,2,5,27,88,90,91,92,93,96,97,101,102,105,109,115,117) have mixed types.Specify dtype option on import or set low_memory=False.\n",
      "  exec(code_obj, self.user_global_ns, self.user_ns)\n"
     ]
    }
   ],
   "source": [
    "HT_df = pd.read_csv('gs://websitehumantrafficking/final_df.csv')"
   ]
  },
  {
   "cell_type": "code",
   "execution_count": 3,
   "id": "17f89a4c",
   "metadata": {},
   "outputs": [
    {
     "data": {
      "text/plain": [
       "array(['female', 'male', nan, 'Transgender/NonConforming'], dtype=object)"
      ]
     },
     "execution_count": 3,
     "metadata": {},
     "output_type": "execute_result"
    }
   ],
   "source": [
    "HT_df['gender'].unique()"
   ]
  },
  {
   "cell_type": "code",
   "execution_count": 4,
   "id": "c612d0b2",
   "metadata": {},
   "outputs": [],
   "source": [
    "HT_df['gender'].replace({'Male': 'male', 'Female': 'female'}, inplace=True)"
   ]
  },
  {
   "cell_type": "code",
   "execution_count": 5,
   "id": "60f198ab",
   "metadata": {},
   "outputs": [
    {
     "data": {
      "text/plain": [
       "array(['female', 'male', nan, 'Transgender/NonConforming'], dtype=object)"
      ]
     },
     "execution_count": 5,
     "metadata": {},
     "output_type": "execute_result"
    }
   ],
   "source": [
    "HT_df['gender'].unique()"
   ]
  },
  {
   "cell_type": "code",
   "execution_count": 6,
   "id": "43f3fe02",
   "metadata": {},
   "outputs": [
    {
     "data": {
      "text/plain": [
       "array([nan, '9-17', '0-8', '24-26', '18-20', '21-23', '39-47', '27-29',\n",
       "       '30-38', '48+'], dtype=object)"
      ]
     },
     "execution_count": 6,
     "metadata": {},
     "output_type": "execute_result"
    }
   ],
   "source": [
    "HT_df['ageBroad'].unique()"
   ]
  },
  {
   "cell_type": "code",
   "execution_count": 7,
   "id": "846e384d",
   "metadata": {},
   "outputs": [
    {
     "data": {
      "text/plain": [
       "0        American Samoa\n",
       "1               Lebanon\n",
       "2                 India\n",
       "3         United States\n",
       "4                 Sudan\n",
       "              ...      \n",
       "99103             Libya\n",
       "99104             Libya\n",
       "99105             Libya\n",
       "99106             Libya\n",
       "99107             Libya\n",
       "Name: arrival_1, Length: 99108, dtype: object"
      ]
     },
     "execution_count": 7,
     "metadata": {},
     "output_type": "execute_result"
    }
   ],
   "source": [
    "HT_df['arrival_1']"
   ]
  },
  {
   "cell_type": "code",
   "execution_count": 16,
   "id": "51cda1f3",
   "metadata": {},
   "outputs": [
    {
     "data": {
      "text/plain": [
       "0.0    31335\n",
       "1.0      445\n",
       "Name: isAbduction, dtype: int64"
      ]
     },
     "execution_count": 16,
     "metadata": {},
     "output_type": "execute_result"
    }
   ],
   "source": [
    "HT_df['isAbduction'].value_counts()"
   ]
  },
  {
   "cell_type": "code",
   "execution_count": 8,
   "id": "5bc0f49c",
   "metadata": {},
   "outputs": [],
   "source": [
    "scraped_data_only = HT_df[0:1358]"
   ]
  },
  {
   "cell_type": "code",
   "execution_count": 10,
   "id": "75cf1a26",
   "metadata": {},
   "outputs": [
    {
     "data": {
      "text/html": [
       "<div>\n",
       "<style scoped>\n",
       "    .dataframe tbody tr th:only-of-type {\n",
       "        vertical-align: middle;\n",
       "    }\n",
       "\n",
       "    .dataframe tbody tr th {\n",
       "        vertical-align: top;\n",
       "    }\n",
       "\n",
       "    .dataframe thead th {\n",
       "        text-align: right;\n",
       "    }\n",
       "</style>\n",
       "<table border=\"1\" class=\"dataframe\">\n",
       "  <thead>\n",
       "    <tr style=\"text-align: right;\">\n",
       "      <th></th>\n",
       "      <th>RecruiterRelationship</th>\n",
       "      <th>isAbduction</th>\n",
       "      <th>rec_method_online</th>\n",
       "      <th>rec_method_recagency</th>\n",
       "      <th>recruiterRelationIntimatePartner</th>\n",
       "      <th>recruiterRelationFamily</th>\n",
       "    </tr>\n",
       "  </thead>\n",
       "  <tbody>\n",
       "    <tr>\n",
       "      <th>0</th>\n",
       "      <td>0.0</td>\n",
       "      <td>0.0</td>\n",
       "      <td>0.0</td>\n",
       "      <td>1.0</td>\n",
       "      <td>0.0</td>\n",
       "      <td>0.0</td>\n",
       "    </tr>\n",
       "    <tr>\n",
       "      <th>1</th>\n",
       "      <td>0.0</td>\n",
       "      <td>0.0</td>\n",
       "      <td>0.0</td>\n",
       "      <td>1.0</td>\n",
       "      <td>0.0</td>\n",
       "      <td>0.0</td>\n",
       "    </tr>\n",
       "    <tr>\n",
       "      <th>2</th>\n",
       "      <td>0.0</td>\n",
       "      <td>0.0</td>\n",
       "      <td>0.0</td>\n",
       "      <td>0.0</td>\n",
       "      <td>0.0</td>\n",
       "      <td>0.0</td>\n",
       "    </tr>\n",
       "    <tr>\n",
       "      <th>3</th>\n",
       "      <td>0.0</td>\n",
       "      <td>0.0</td>\n",
       "      <td>0.0</td>\n",
       "      <td>0.0</td>\n",
       "      <td>0.0</td>\n",
       "      <td>0.0</td>\n",
       "    </tr>\n",
       "    <tr>\n",
       "      <th>4</th>\n",
       "      <td>0.0</td>\n",
       "      <td>0.0</td>\n",
       "      <td>0.0</td>\n",
       "      <td>0.0</td>\n",
       "      <td>0.0</td>\n",
       "      <td>0.0</td>\n",
       "    </tr>\n",
       "    <tr>\n",
       "      <th>...</th>\n",
       "      <td>...</td>\n",
       "      <td>...</td>\n",
       "      <td>...</td>\n",
       "      <td>...</td>\n",
       "      <td>...</td>\n",
       "      <td>...</td>\n",
       "    </tr>\n",
       "    <tr>\n",
       "      <th>1353</th>\n",
       "      <td>0.0</td>\n",
       "      <td>1.0</td>\n",
       "      <td>0.0</td>\n",
       "      <td>0.0</td>\n",
       "      <td>0.0</td>\n",
       "      <td>0.0</td>\n",
       "    </tr>\n",
       "    <tr>\n",
       "      <th>1354</th>\n",
       "      <td>0.0</td>\n",
       "      <td>0.0</td>\n",
       "      <td>0.0</td>\n",
       "      <td>0.0</td>\n",
       "      <td>0.0</td>\n",
       "      <td>0.0</td>\n",
       "    </tr>\n",
       "    <tr>\n",
       "      <th>1355</th>\n",
       "      <td>0.0</td>\n",
       "      <td>0.0</td>\n",
       "      <td>0.0</td>\n",
       "      <td>0.0</td>\n",
       "      <td>0.0</td>\n",
       "      <td>0.0</td>\n",
       "    </tr>\n",
       "    <tr>\n",
       "      <th>1356</th>\n",
       "      <td>0.0</td>\n",
       "      <td>0.0</td>\n",
       "      <td>0.0</td>\n",
       "      <td>0.0</td>\n",
       "      <td>0.0</td>\n",
       "      <td>0.0</td>\n",
       "    </tr>\n",
       "    <tr>\n",
       "      <th>1357</th>\n",
       "      <td>0.0</td>\n",
       "      <td>0.0</td>\n",
       "      <td>0.0</td>\n",
       "      <td>0.0</td>\n",
       "      <td>0.0</td>\n",
       "      <td>0.0</td>\n",
       "    </tr>\n",
       "  </tbody>\n",
       "</table>\n",
       "<p>1358 rows × 6 columns</p>\n",
       "</div>"
      ],
      "text/plain": [
       "     RecruiterRelationship  isAbduction  rec_method_online  \\\n",
       "0                      0.0          0.0                0.0   \n",
       "1                      0.0          0.0                0.0   \n",
       "2                      0.0          0.0                0.0   \n",
       "3                      0.0          0.0                0.0   \n",
       "4                      0.0          0.0                0.0   \n",
       "...                    ...          ...                ...   \n",
       "1353                   0.0          1.0                0.0   \n",
       "1354                   0.0          0.0                0.0   \n",
       "1355                   0.0          0.0                0.0   \n",
       "1356                   0.0          0.0                0.0   \n",
       "1357                   0.0          0.0                0.0   \n",
       "\n",
       "      rec_method_recagency  recruiterRelationIntimatePartner  \\\n",
       "0                      1.0                               0.0   \n",
       "1                      1.0                               0.0   \n",
       "2                      0.0                               0.0   \n",
       "3                      0.0                               0.0   \n",
       "4                      0.0                               0.0   \n",
       "...                    ...                               ...   \n",
       "1353                   0.0                               0.0   \n",
       "1354                   0.0                               0.0   \n",
       "1355                   0.0                               0.0   \n",
       "1356                   0.0                               0.0   \n",
       "1357                   0.0                               0.0   \n",
       "\n",
       "      recruiterRelationFamily  \n",
       "0                         0.0  \n",
       "1                         0.0  \n",
       "2                         0.0  \n",
       "3                         0.0  \n",
       "4                         0.0  \n",
       "...                       ...  \n",
       "1353                      0.0  \n",
       "1354                      0.0  \n",
       "1355                      0.0  \n",
       "1356                      0.0  \n",
       "1357                      0.0  \n",
       "\n",
       "[1358 rows x 6 columns]"
      ]
     },
     "execution_count": 10,
     "metadata": {},
     "output_type": "execute_result"
    }
   ],
   "source": [
    "scraped_data_only.iloc[:,27:33]"
   ]
  },
  {
   "cell_type": "code",
   "execution_count": 11,
   "id": "6ca9cb10",
   "metadata": {},
   "outputs": [],
   "source": [
    "rec_method = scraped_data_only[['isAbduction', 'rec_method_recagency', 'rec_method_online']]"
   ]
  }
 ],
 "metadata": {
  "kernelspec": {
   "display_name": "lewagon",
   "language": "python",
   "name": "lewagon"
  },
  "language_info": {
   "codemirror_mode": {
    "name": "ipython",
    "version": 3
   },
   "file_extension": ".py",
   "mimetype": "text/x-python",
   "name": "python",
   "nbconvert_exporter": "python",
   "pygments_lexer": "ipython3",
   "version": "3.8.12"
  },
  "toc": {
   "base_numbering": 1,
   "nav_menu": {},
   "number_sections": true,
   "sideBar": true,
   "skip_h1_title": false,
   "title_cell": "Table of Contents",
   "title_sidebar": "Contents",
   "toc_cell": false,
   "toc_position": {},
   "toc_section_display": true,
   "toc_window_display": false
  }
 },
 "nbformat": 4,
 "nbformat_minor": 5
}
