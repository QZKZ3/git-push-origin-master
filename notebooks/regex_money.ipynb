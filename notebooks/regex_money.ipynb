{
 "cells": [
  {
   "cell_type": "code",
   "execution_count": 206,
   "id": "098f0665",
   "metadata": {},
   "outputs": [],
   "source": [
    "import re"
   ]
  },
  {
   "cell_type": "code",
   "execution_count": 207,
   "id": "9b1596f2",
   "metadata": {},
   "outputs": [],
   "source": [
    "# I was sold for\n",
    "# sell me for\n",
    "# sold me for\n",
    "# bought me for\n",
    "# buy me for\n",
    "# I was bought for"
   ]
  },
  {
   "cell_type": "code",
   "execution_count": 208,
   "id": "0690fba6",
   "metadata": {},
   "outputs": [],
   "source": [
    "text = 'I was bought for $50. Then they wanted to buy me for $40. She sold me for 12 euros. I was sold for 300 pounds and then they tried to sell me for £40. They bought me for ¢5000 euros and ¢6 i have 2 trer and 500$ and also 12 rupees 300$. I was sold for 300 pounds and 30 dollars and 3£. They bought me for 5000 euros i have 2 trer and 500$ and also 12 rupees 300$'"
   ]
  },
  {
   "cell_type": "code",
   "execution_count": 209,
   "id": "958615c3",
   "metadata": {},
   "outputs": [],
   "source": [
    "specific_after = re.findall('(for)\\s(\\d+)\\s?(pounds|euros|rupees|Euros|dollars|cents|yen|yuan|takas|rubles|roubles|pesos|[\\£$¢€])',\\\n",
    "               text)"
   ]
  },
  {
   "cell_type": "code",
   "execution_count": 210,
   "id": "8cc67a06",
   "metadata": {},
   "outputs": [
    {
     "data": {
      "text/plain": [
       "[('for', '12', 'euros'),\n",
       " ('for', '300', 'pounds'),\n",
       " ('for', '300', 'pounds'),\n",
       " ('for', '5000', 'euros')]"
      ]
     },
     "execution_count": 210,
     "metadata": {},
     "output_type": "execute_result"
    }
   ],
   "source": [
    "specific_after"
   ]
  },
  {
   "cell_type": "code",
   "execution_count": 211,
   "id": "a8f0f8c7",
   "metadata": {},
   "outputs": [],
   "source": [
    "specific_before = re.findall('(for)\\s([\\£|$|¢|€])\\s?(\\d+)', text)"
   ]
  },
  {
   "cell_type": "code",
   "execution_count": 212,
   "id": "0d66a0d3",
   "metadata": {},
   "outputs": [
    {
     "name": "stdout",
     "output_type": "stream",
     "text": [
      "[('for', '$', '50'), ('for', '$', '40'), ('for', '£', '40'), ('for', '¢', '5000')]\n"
     ]
    }
   ],
   "source": [
    "print(specific_before)"
   ]
  },
  {
   "cell_type": "code",
   "execution_count": 213,
   "id": "a56b33de",
   "metadata": {},
   "outputs": [],
   "source": [
    "specific_before = [(c[0],c[2],c[1]) for c in specific_before]"
   ]
  },
  {
   "cell_type": "code",
   "execution_count": 214,
   "id": "f80c695d",
   "metadata": {},
   "outputs": [
    {
     "data": {
      "text/plain": [
       "[('for', '50', '$'),\n",
       " ('for', '40', '$'),\n",
       " ('for', '40', '£'),\n",
       " ('for', '5000', '¢')]"
      ]
     },
     "execution_count": 214,
     "metadata": {},
     "output_type": "execute_result"
    }
   ],
   "source": [
    "specific_before"
   ]
  },
  {
   "cell_type": "code",
   "execution_count": 215,
   "id": "d01300bc",
   "metadata": {},
   "outputs": [],
   "source": [
    "specific_all = specific_before + specific_after"
   ]
  },
  {
   "cell_type": "code",
   "execution_count": 216,
   "id": "318f9e12",
   "metadata": {},
   "outputs": [
    {
     "data": {
      "text/plain": [
       "[('for', '50', '$'),\n",
       " ('for', '40', '$'),\n",
       " ('for', '40', '£'),\n",
       " ('for', '5000', '¢'),\n",
       " ('for', '12', 'euros'),\n",
       " ('for', '300', 'pounds'),\n",
       " ('for', '300', 'pounds'),\n",
       " ('for', '5000', 'euros')]"
      ]
     },
     "execution_count": 216,
     "metadata": {},
     "output_type": "execute_result"
    }
   ],
   "source": [
    "specific_all"
   ]
  },
  {
   "cell_type": "code",
   "execution_count": 217,
   "id": "7443daee",
   "metadata": {},
   "outputs": [],
   "source": [
    "general_after = re.findall('(\\d+)\\s?(pounds|euros|rupees|Euros|dollars|cents|yen|yuan|takas|rubles|roubles|pesos|[\\£$¢€])',\\\n",
    "               text)"
   ]
  },
  {
   "cell_type": "code",
   "execution_count": 218,
   "id": "31024173",
   "metadata": {},
   "outputs": [
    {
     "data": {
      "text/plain": [
       "[('12', 'euros'),\n",
       " ('300', 'pounds'),\n",
       " ('5000', 'euros'),\n",
       " ('500', '$'),\n",
       " ('12', 'rupees'),\n",
       " ('300', '$'),\n",
       " ('300', 'pounds'),\n",
       " ('30', 'dollars'),\n",
       " ('3', '£'),\n",
       " ('5000', 'euros'),\n",
       " ('500', '$'),\n",
       " ('12', 'rupees'),\n",
       " ('300', '$')]"
      ]
     },
     "execution_count": 218,
     "metadata": {},
     "output_type": "execute_result"
    }
   ],
   "source": [
    "general_after"
   ]
  },
  {
   "cell_type": "code",
   "execution_count": 219,
   "id": "b93bdcbf",
   "metadata": {},
   "outputs": [],
   "source": [
    "general_before = re.findall('([\\£|$|¢|€])\\s?(\\d+)', text)"
   ]
  },
  {
   "cell_type": "code",
   "execution_count": 220,
   "id": "4f366f64",
   "metadata": {},
   "outputs": [],
   "source": [
    "general_before = [(c[1],c[0]) for c in general_before]"
   ]
  },
  {
   "cell_type": "code",
   "execution_count": 221,
   "id": "c3711cd5",
   "metadata": {},
   "outputs": [
    {
     "data": {
      "text/plain": [
       "[('50', '$'), ('40', '$'), ('40', '£'), ('5000', '¢'), ('6', '¢')]"
      ]
     },
     "execution_count": 221,
     "metadata": {},
     "output_type": "execute_result"
    }
   ],
   "source": [
    "general_before"
   ]
  },
  {
   "cell_type": "code",
   "execution_count": 222,
   "id": "118b3a5a",
   "metadata": {},
   "outputs": [],
   "source": [
    "general_all = general_before + general_after"
   ]
  },
  {
   "cell_type": "code",
   "execution_count": 223,
   "id": "f19229ea",
   "metadata": {
    "scrolled": true
   },
   "outputs": [
    {
     "data": {
      "text/plain": [
       "[('50', '$'),\n",
       " ('40', '$'),\n",
       " ('40', '£'),\n",
       " ('5000', '¢'),\n",
       " ('6', '¢'),\n",
       " ('12', 'euros'),\n",
       " ('300', 'pounds'),\n",
       " ('5000', 'euros'),\n",
       " ('500', '$'),\n",
       " ('12', 'rupees'),\n",
       " ('300', '$'),\n",
       " ('300', 'pounds'),\n",
       " ('30', 'dollars'),\n",
       " ('3', '£'),\n",
       " ('5000', 'euros'),\n",
       " ('500', '$'),\n",
       " ('12', 'rupees'),\n",
       " ('300', '$')]"
      ]
     },
     "execution_count": 223,
     "metadata": {},
     "output_type": "execute_result"
    }
   ],
   "source": [
    "general_all"
   ]
  },
  {
   "cell_type": "code",
   "execution_count": null,
   "id": "d77f6e97",
   "metadata": {},
   "outputs": [],
   "source": [
    "#standardise currencies\n",
    "#append specific_all to dataframe as single column\n",
    "#append general_add to dataframe as single column"
   ]
  },
  {
   "cell_type": "code",
   "execution_count": 229,
   "id": "e697a20f",
   "metadata": {},
   "outputs": [],
   "source": [
    "list_of_lists_general = [list(elem) for elem in general_all]"
   ]
  },
  {
   "cell_type": "code",
   "execution_count": 230,
   "id": "6bb95852",
   "metadata": {},
   "outputs": [
    {
     "data": {
      "text/plain": [
       "[['50', '$'],\n",
       " ['40', '$'],\n",
       " ['40', '£'],\n",
       " ['5000', '¢'],\n",
       " ['6', '¢'],\n",
       " ['12', 'euros'],\n",
       " ['300', 'pounds'],\n",
       " ['5000', 'euros'],\n",
       " ['500', '$'],\n",
       " ['12', 'rupees'],\n",
       " ['300', '$'],\n",
       " ['300', 'pounds'],\n",
       " ['30', 'dollars'],\n",
       " ['3', '£'],\n",
       " ['5000', 'euros'],\n",
       " ['500', '$'],\n",
       " ['12', 'rupees'],\n",
       " ['300', '$']]"
      ]
     },
     "execution_count": 230,
     "metadata": {},
     "output_type": "execute_result"
    }
   ],
   "source": [
    "list_of_lists_general"
   ]
  }
 ],
 "metadata": {
  "kernelspec": {
   "display_name": "lewagon",
   "language": "python",
   "name": "lewagon"
  },
  "language_info": {
   "codemirror_mode": {
    "name": "ipython",
    "version": 3
   },
   "file_extension": ".py",
   "mimetype": "text/x-python",
   "name": "python",
   "nbconvert_exporter": "python",
   "pygments_lexer": "ipython3",
   "version": "3.8.12"
  },
  "toc": {
   "base_numbering": 1,
   "nav_menu": {},
   "number_sections": true,
   "sideBar": true,
   "skip_h1_title": false,
   "title_cell": "Table of Contents",
   "title_sidebar": "Contents",
   "toc_cell": false,
   "toc_position": {},
   "toc_section_display": true,
   "toc_window_display": false
  }
 },
 "nbformat": 4,
 "nbformat_minor": 5
}
