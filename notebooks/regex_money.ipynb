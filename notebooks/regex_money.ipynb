{
 "cells": [
  {
   "cell_type": "code",
   "execution_count": 1,
   "id": "098f0665",
   "metadata": {},
   "outputs": [],
   "source": [
    "import re"
   ]
  },
  {
   "cell_type": "code",
   "execution_count": 14,
   "id": "958615c3",
   "metadata": {},
   "outputs": [],
   "source": [
    "z = re.findall('(\\d+)\\s?(pounds|euros|rupees|\\$)','I was sold for 300 pounds. They bought me for 5000 euros i have 2 trer and 500$ and also 12 rupees 300$')"
   ]
  },
  {
   "cell_type": "code",
   "execution_count": 15,
   "id": "8cc67a06",
   "metadata": {},
   "outputs": [
    {
     "data": {
      "text/plain": [
       "[('300', 'pounds'),\n",
       " ('5000', 'euros'),\n",
       " ('500', '$'),\n",
       " ('12', 'rupees'),\n",
       " ('300', '$')]"
      ]
     },
     "execution_count": 15,
     "metadata": {},
     "output_type": "execute_result"
    }
   ],
   "source": [
    "z"
   ]
  },
  {
   "cell_type": "code",
   "execution_count": 28,
   "id": "a8f0f8c7",
   "metadata": {},
   "outputs": [],
   "source": [
    "x = re.findall('(\\$|¢)\\s?(\\d+)','I was sold for $300 pounds. They bought me for ¢5000 euros i have 2 trer and 500$ and also 12 rupees 300$')"
   ]
  },
  {
   "cell_type": "code",
   "execution_count": 29,
   "id": "0d66a0d3",
   "metadata": {},
   "outputs": [
    {
     "data": {
      "text/plain": [
       "[('$', '300'), ('¢', '5000')]"
      ]
     },
     "execution_count": 29,
     "metadata": {},
     "output_type": "execute_result"
    }
   ],
   "source": [
    "x"
   ]
  },
  {
   "cell_type": "code",
   "execution_count": 31,
   "id": "a56b33de",
   "metadata": {},
   "outputs": [],
   "source": [
    "x = [(c[1],c[0]) for c in x]"
   ]
  },
  {
   "cell_type": "code",
   "execution_count": 32,
   "id": "f80c695d",
   "metadata": {},
   "outputs": [
    {
     "data": {
      "text/plain": [
       "[('300', '$'), ('5000', '¢')]"
      ]
     },
     "execution_count": 32,
     "metadata": {},
     "output_type": "execute_result"
    }
   ],
   "source": [
    "x"
   ]
  },
  {
   "cell_type": "code",
   "execution_count": null,
   "id": "48636778",
   "metadata": {},
   "outputs": [],
   "source": []
  }
 ],
 "metadata": {
  "kernelspec": {
   "display_name": "lewagon",
   "language": "python",
   "name": "lewagon"
  },
  "language_info": {
   "codemirror_mode": {
    "name": "ipython",
    "version": 3
   },
   "file_extension": ".py",
   "mimetype": "text/x-python",
   "name": "python",
   "nbconvert_exporter": "python",
   "pygments_lexer": "ipython3",
   "version": "3.8.12"
  },
  "toc": {
   "base_numbering": 1,
   "nav_menu": {},
   "number_sections": true,
   "sideBar": true,
   "skip_h1_title": false,
   "title_cell": "Table of Contents",
   "title_sidebar": "Contents",
   "toc_cell": false,
   "toc_position": {},
   "toc_section_display": true,
   "toc_window_display": false
  }
 },
 "nbformat": 4,
 "nbformat_minor": 5
}
