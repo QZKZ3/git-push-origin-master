{
 "cells": [
  {
   "cell_type": "markdown",
   "id": "5853321c",
   "metadata": {},
   "source": [
    "## Machine Learning Model"
   ]
  },
  {
   "cell_type": "code",
   "execution_count": 1,
   "id": "ad93dab4",
   "metadata": {},
   "outputs": [],
   "source": [
    "import numpy as np\n",
    "import pandas as pd\n",
    "from sklearn.linear_model import LinearRegression\n",
    "import matplotlib.pyplot as plt\n",
    "from sklearn.model_selection import learning_curve\n",
    "from sklearn.linear_model import LogisticRegression"
   ]
  },
  {
   "cell_type": "code",
   "execution_count": 2,
   "id": "6dc2b6ea",
   "metadata": {
    "scrolled": true
   },
   "outputs": [
    {
     "name": "stderr",
     "output_type": "stream",
     "text": [
      "/Users/paloma/.pyenv/versions/3.8.12/envs/ht_project/lib/python3.8/site-packages/IPython/core/interactiveshell.py:3444: DtypeWarning: Columns (0,1,4,26,87,89,90,91,92,95,96,100,101,104,108,114,116) have mixed types.Specify dtype option on import or set low_memory=False.\n",
      "  exec(code_obj, self.user_global_ns, self.user_ns)\n"
     ]
    }
   ],
   "source": [
    "data = pd.read_csv(\"/Users/paloma/Downloads/final_df.csv\")"
   ]
  },
  {
   "cell_type": "code",
   "execution_count": 3,
   "id": "56c79f29",
   "metadata": {
    "scrolled": true
   },
   "outputs": [
    {
     "data": {
      "text/html": [
       "<div>\n",
       "<style scoped>\n",
       "    .dataframe tbody tr th:only-of-type {\n",
       "        vertical-align: middle;\n",
       "    }\n",
       "\n",
       "    .dataframe tbody tr th {\n",
       "        vertical-align: top;\n",
       "    }\n",
       "\n",
       "    .dataframe thead th {\n",
       "        text-align: right;\n",
       "    }\n",
       "</style>\n",
       "<table border=\"1\" class=\"dataframe\">\n",
       "  <thead>\n",
       "    <tr style=\"text-align: right;\">\n",
       "      <th></th>\n",
       "      <th>text</th>\n",
       "      <th>name</th>\n",
       "      <th>year</th>\n",
       "      <th>departure</th>\n",
       "      <th>arrival</th>\n",
       "      <th>latitude</th>\n",
       "      <th>longitude</th>\n",
       "      <th>gender</th>\n",
       "      <th>accuracy</th>\n",
       "      <th>meansOfControlDebtBondage</th>\n",
       "      <th>...</th>\n",
       "      <th>typeOfLabourTransportation</th>\n",
       "      <th>typeOfLabourOther</th>\n",
       "      <th>typeOfLabourNotSpecified</th>\n",
       "      <th>typeOfLabourConcatenated</th>\n",
       "      <th>typeOfSexPrivateSexualServices</th>\n",
       "      <th>typeOfSexConcatenated</th>\n",
       "      <th>recruiterRelationFriend</th>\n",
       "      <th>recruiterRelationOther</th>\n",
       "      <th>recruiterRelationUnknown</th>\n",
       "      <th>alpha_3</th>\n",
       "    </tr>\n",
       "  </thead>\n",
       "  <tbody>\n",
       "    <tr>\n",
       "      <th>0</th>\n",
       "      <td>My name is Vi. And I am 28 years old. I arrive...</td>\n",
       "      <td>Vi</td>\n",
       "      <td>2001.0</td>\n",
       "      <td>Vietnam</td>\n",
       "      <td>American Samoa</td>\n",
       "      <td>-14.354000</td>\n",
       "      <td>-170.773600</td>\n",
       "      <td>female</td>\n",
       "      <td>67.0</td>\n",
       "      <td>1.0</td>\n",
       "      <td>...</td>\n",
       "      <td>NaN</td>\n",
       "      <td>NaN</td>\n",
       "      <td>NaN</td>\n",
       "      <td>NaN</td>\n",
       "      <td>NaN</td>\n",
       "      <td>NaN</td>\n",
       "      <td>NaN</td>\n",
       "      <td>NaN</td>\n",
       "      <td>NaN</td>\n",
       "      <td>ASM</td>\n",
       "    </tr>\n",
       "    <tr>\n",
       "      <th>1</th>\n",
       "      <td>Thank you for the opportunity to testify befor...</td>\n",
       "      <td>Beatrice</td>\n",
       "      <td>2005.0</td>\n",
       "      <td>Sri Lanka</td>\n",
       "      <td>Lebanon</td>\n",
       "      <td>33.900000</td>\n",
       "      <td>35.500000</td>\n",
       "      <td>female</td>\n",
       "      <td>98.0</td>\n",
       "      <td>0.0</td>\n",
       "      <td>...</td>\n",
       "      <td>NaN</td>\n",
       "      <td>NaN</td>\n",
       "      <td>NaN</td>\n",
       "      <td>NaN</td>\n",
       "      <td>NaN</td>\n",
       "      <td>NaN</td>\n",
       "      <td>NaN</td>\n",
       "      <td>NaN</td>\n",
       "      <td>NaN</td>\n",
       "      <td>LBN</td>\n",
       "    </tr>\n",
       "    <tr>\n",
       "      <th>2</th>\n",
       "      <td>My sister and I were living in a village. We w...</td>\n",
       "      <td>Kavita</td>\n",
       "      <td>2004.0</td>\n",
       "      <td>Sri Lanka</td>\n",
       "      <td>India</td>\n",
       "      <td>24.071318</td>\n",
       "      <td>79.652396</td>\n",
       "      <td>female</td>\n",
       "      <td>97.0</td>\n",
       "      <td>0.0</td>\n",
       "      <td>...</td>\n",
       "      <td>NaN</td>\n",
       "      <td>NaN</td>\n",
       "      <td>NaN</td>\n",
       "      <td>NaN</td>\n",
       "      <td>NaN</td>\n",
       "      <td>NaN</td>\n",
       "      <td>NaN</td>\n",
       "      <td>NaN</td>\n",
       "      <td>NaN</td>\n",
       "      <td>IND</td>\n",
       "    </tr>\n",
       "    <tr>\n",
       "      <th>3</th>\n",
       "      <td>I grew up in a village of between 500 and 700 ...</td>\n",
       "      <td>Maria</td>\n",
       "      <td>2005.0</td>\n",
       "      <td>Mexico</td>\n",
       "      <td>United States</td>\n",
       "      <td>40.412044</td>\n",
       "      <td>-96.870925</td>\n",
       "      <td>female</td>\n",
       "      <td>100.0</td>\n",
       "      <td>0.0</td>\n",
       "      <td>...</td>\n",
       "      <td>NaN</td>\n",
       "      <td>NaN</td>\n",
       "      <td>NaN</td>\n",
       "      <td>NaN</td>\n",
       "      <td>NaN</td>\n",
       "      <td>NaN</td>\n",
       "      <td>NaN</td>\n",
       "      <td>NaN</td>\n",
       "      <td>NaN</td>\n",
       "      <td>USA</td>\n",
       "    </tr>\n",
       "    <tr>\n",
       "      <th>4</th>\n",
       "      <td>I was living in a village, Karko, in the Nuba ...</td>\n",
       "      <td>Mende</td>\n",
       "      <td>2003.0</td>\n",
       "      <td>Sudan</td>\n",
       "      <td>['Sudan ', 'United Kingdom ']</td>\n",
       "      <td>16.865226</td>\n",
       "      <td>32.271106</td>\n",
       "      <td>male</td>\n",
       "      <td>90.0</td>\n",
       "      <td>0.0</td>\n",
       "      <td>...</td>\n",
       "      <td>NaN</td>\n",
       "      <td>NaN</td>\n",
       "      <td>NaN</td>\n",
       "      <td>NaN</td>\n",
       "      <td>NaN</td>\n",
       "      <td>NaN</td>\n",
       "      <td>NaN</td>\n",
       "      <td>NaN</td>\n",
       "      <td>NaN</td>\n",
       "      <td>SDN</td>\n",
       "    </tr>\n",
       "    <tr>\n",
       "      <th>...</th>\n",
       "      <td>...</td>\n",
       "      <td>...</td>\n",
       "      <td>...</td>\n",
       "      <td>...</td>\n",
       "      <td>...</td>\n",
       "      <td>...</td>\n",
       "      <td>...</td>\n",
       "      <td>...</td>\n",
       "      <td>...</td>\n",
       "      <td>...</td>\n",
       "      <td>...</td>\n",
       "      <td>...</td>\n",
       "      <td>...</td>\n",
       "      <td>...</td>\n",
       "      <td>...</td>\n",
       "      <td>...</td>\n",
       "      <td>...</td>\n",
       "      <td>...</td>\n",
       "      <td>...</td>\n",
       "      <td>...</td>\n",
       "      <td>...</td>\n",
       "    </tr>\n",
       "    <tr>\n",
       "      <th>99103</th>\n",
       "      <td>NaN</td>\n",
       "      <td>NaN</td>\n",
       "      <td>NaN</td>\n",
       "      <td>Cameroon</td>\n",
       "      <td>NaN</td>\n",
       "      <td>NaN</td>\n",
       "      <td>NaN</td>\n",
       "      <td>Male</td>\n",
       "      <td>NaN</td>\n",
       "      <td>NaN</td>\n",
       "      <td>...</td>\n",
       "      <td>NaN</td>\n",
       "      <td>NaN</td>\n",
       "      <td>NaN</td>\n",
       "      <td>NaN</td>\n",
       "      <td>NaN</td>\n",
       "      <td>NaN</td>\n",
       "      <td>0.0</td>\n",
       "      <td>0.0</td>\n",
       "      <td>1.0</td>\n",
       "      <td>LBY</td>\n",
       "    </tr>\n",
       "    <tr>\n",
       "      <th>99104</th>\n",
       "      <td>NaN</td>\n",
       "      <td>NaN</td>\n",
       "      <td>NaN</td>\n",
       "      <td>Cameroon</td>\n",
       "      <td>NaN</td>\n",
       "      <td>NaN</td>\n",
       "      <td>NaN</td>\n",
       "      <td>Male</td>\n",
       "      <td>NaN</td>\n",
       "      <td>NaN</td>\n",
       "      <td>...</td>\n",
       "      <td>NaN</td>\n",
       "      <td>NaN</td>\n",
       "      <td>NaN</td>\n",
       "      <td>NaN</td>\n",
       "      <td>NaN</td>\n",
       "      <td>NaN</td>\n",
       "      <td>0.0</td>\n",
       "      <td>0.0</td>\n",
       "      <td>1.0</td>\n",
       "      <td>LBY</td>\n",
       "    </tr>\n",
       "    <tr>\n",
       "      <th>99105</th>\n",
       "      <td>NaN</td>\n",
       "      <td>NaN</td>\n",
       "      <td>NaN</td>\n",
       "      <td>Cameroon</td>\n",
       "      <td>NaN</td>\n",
       "      <td>NaN</td>\n",
       "      <td>NaN</td>\n",
       "      <td>Male</td>\n",
       "      <td>NaN</td>\n",
       "      <td>NaN</td>\n",
       "      <td>...</td>\n",
       "      <td>NaN</td>\n",
       "      <td>NaN</td>\n",
       "      <td>NaN</td>\n",
       "      <td>NaN</td>\n",
       "      <td>NaN</td>\n",
       "      <td>NaN</td>\n",
       "      <td>0.0</td>\n",
       "      <td>0.0</td>\n",
       "      <td>1.0</td>\n",
       "      <td>LBY</td>\n",
       "    </tr>\n",
       "    <tr>\n",
       "      <th>99106</th>\n",
       "      <td>NaN</td>\n",
       "      <td>NaN</td>\n",
       "      <td>NaN</td>\n",
       "      <td>Cameroon</td>\n",
       "      <td>NaN</td>\n",
       "      <td>NaN</td>\n",
       "      <td>NaN</td>\n",
       "      <td>Male</td>\n",
       "      <td>NaN</td>\n",
       "      <td>NaN</td>\n",
       "      <td>...</td>\n",
       "      <td>NaN</td>\n",
       "      <td>NaN</td>\n",
       "      <td>NaN</td>\n",
       "      <td>NaN</td>\n",
       "      <td>NaN</td>\n",
       "      <td>NaN</td>\n",
       "      <td>0.0</td>\n",
       "      <td>0.0</td>\n",
       "      <td>1.0</td>\n",
       "      <td>LBY</td>\n",
       "    </tr>\n",
       "    <tr>\n",
       "      <th>99107</th>\n",
       "      <td>NaN</td>\n",
       "      <td>NaN</td>\n",
       "      <td>NaN</td>\n",
       "      <td>Cameroon</td>\n",
       "      <td>NaN</td>\n",
       "      <td>NaN</td>\n",
       "      <td>NaN</td>\n",
       "      <td>Male</td>\n",
       "      <td>NaN</td>\n",
       "      <td>NaN</td>\n",
       "      <td>...</td>\n",
       "      <td>NaN</td>\n",
       "      <td>NaN</td>\n",
       "      <td>NaN</td>\n",
       "      <td>NaN</td>\n",
       "      <td>NaN</td>\n",
       "      <td>NaN</td>\n",
       "      <td>0.0</td>\n",
       "      <td>0.0</td>\n",
       "      <td>1.0</td>\n",
       "      <td>LBY</td>\n",
       "    </tr>\n",
       "  </tbody>\n",
       "</table>\n",
       "<p>99108 rows × 121 columns</p>\n",
       "</div>"
      ],
      "text/plain": [
       "                                                    text      name    year  \\\n",
       "0      My name is Vi. And I am 28 years old. I arrive...        Vi  2001.0   \n",
       "1      Thank you for the opportunity to testify befor...  Beatrice  2005.0   \n",
       "2      My sister and I were living in a village. We w...    Kavita  2004.0   \n",
       "3      I grew up in a village of between 500 and 700 ...     Maria  2005.0   \n",
       "4      I was living in a village, Karko, in the Nuba ...     Mende  2003.0   \n",
       "...                                                  ...       ...     ...   \n",
       "99103                                                NaN       NaN     NaN   \n",
       "99104                                                NaN       NaN     NaN   \n",
       "99105                                                NaN       NaN     NaN   \n",
       "99106                                                NaN       NaN     NaN   \n",
       "99107                                                NaN       NaN     NaN   \n",
       "\n",
       "       departure                        arrival   latitude   longitude  \\\n",
       "0        Vietnam                 American Samoa -14.354000 -170.773600   \n",
       "1      Sri Lanka                        Lebanon  33.900000   35.500000   \n",
       "2      Sri Lanka                          India  24.071318   79.652396   \n",
       "3         Mexico                  United States  40.412044  -96.870925   \n",
       "4          Sudan  ['Sudan ', 'United Kingdom ']  16.865226   32.271106   \n",
       "...          ...                            ...        ...         ...   \n",
       "99103   Cameroon                            NaN        NaN         NaN   \n",
       "99104   Cameroon                            NaN        NaN         NaN   \n",
       "99105   Cameroon                            NaN        NaN         NaN   \n",
       "99106   Cameroon                            NaN        NaN         NaN   \n",
       "99107   Cameroon                            NaN        NaN         NaN   \n",
       "\n",
       "       gender  accuracy  meansOfControlDebtBondage  ...  \\\n",
       "0      female      67.0                        1.0  ...   \n",
       "1      female      98.0                        0.0  ...   \n",
       "2      female      97.0                        0.0  ...   \n",
       "3      female     100.0                        0.0  ...   \n",
       "4        male      90.0                        0.0  ...   \n",
       "...       ...       ...                        ...  ...   \n",
       "99103    Male       NaN                        NaN  ...   \n",
       "99104    Male       NaN                        NaN  ...   \n",
       "99105    Male       NaN                        NaN  ...   \n",
       "99106    Male       NaN                        NaN  ...   \n",
       "99107    Male       NaN                        NaN  ...   \n",
       "\n",
       "       typeOfLabourTransportation  typeOfLabourOther  \\\n",
       "0                             NaN                NaN   \n",
       "1                             NaN                NaN   \n",
       "2                             NaN                NaN   \n",
       "3                             NaN                NaN   \n",
       "4                             NaN                NaN   \n",
       "...                           ...                ...   \n",
       "99103                         NaN                NaN   \n",
       "99104                         NaN                NaN   \n",
       "99105                         NaN                NaN   \n",
       "99106                         NaN                NaN   \n",
       "99107                         NaN                NaN   \n",
       "\n",
       "       typeOfLabourNotSpecified  typeOfLabourConcatenated  \\\n",
       "0                           NaN                       NaN   \n",
       "1                           NaN                       NaN   \n",
       "2                           NaN                       NaN   \n",
       "3                           NaN                       NaN   \n",
       "4                           NaN                       NaN   \n",
       "...                         ...                       ...   \n",
       "99103                       NaN                       NaN   \n",
       "99104                       NaN                       NaN   \n",
       "99105                       NaN                       NaN   \n",
       "99106                       NaN                       NaN   \n",
       "99107                       NaN                       NaN   \n",
       "\n",
       "       typeOfSexPrivateSexualServices  typeOfSexConcatenated  \\\n",
       "0                                 NaN                    NaN   \n",
       "1                                 NaN                    NaN   \n",
       "2                                 NaN                    NaN   \n",
       "3                                 NaN                    NaN   \n",
       "4                                 NaN                    NaN   \n",
       "...                               ...                    ...   \n",
       "99103                             NaN                    NaN   \n",
       "99104                             NaN                    NaN   \n",
       "99105                             NaN                    NaN   \n",
       "99106                             NaN                    NaN   \n",
       "99107                             NaN                    NaN   \n",
       "\n",
       "       recruiterRelationFriend  recruiterRelationOther  \\\n",
       "0                          NaN                     NaN   \n",
       "1                          NaN                     NaN   \n",
       "2                          NaN                     NaN   \n",
       "3                          NaN                     NaN   \n",
       "4                          NaN                     NaN   \n",
       "...                        ...                     ...   \n",
       "99103                      0.0                     0.0   \n",
       "99104                      0.0                     0.0   \n",
       "99105                      0.0                     0.0   \n",
       "99106                      0.0                     0.0   \n",
       "99107                      0.0                     0.0   \n",
       "\n",
       "       recruiterRelationUnknown  alpha_3  \n",
       "0                           NaN      ASM  \n",
       "1                           NaN      LBN  \n",
       "2                           NaN      IND  \n",
       "3                           NaN      USA  \n",
       "4                           NaN      SDN  \n",
       "...                         ...      ...  \n",
       "99103                       1.0      LBY  \n",
       "99104                       1.0      LBY  \n",
       "99105                       1.0      LBY  \n",
       "99106                       1.0      LBY  \n",
       "99107                       1.0      LBY  \n",
       "\n",
       "[99108 rows x 121 columns]"
      ]
     },
     "execution_count": 3,
     "metadata": {},
     "output_type": "execute_result"
    }
   ],
   "source": [
    "data"
   ]
  },
  {
   "cell_type": "code",
   "execution_count": 4,
   "id": "b15fc18b",
   "metadata": {},
   "outputs": [],
   "source": [
    "data['gender'] = data['gender'].str.lower()"
   ]
  },
  {
   "cell_type": "code",
   "execution_count": 5,
   "id": "7756829f",
   "metadata": {},
   "outputs": [
    {
     "data": {
      "text/plain": [
       "97779"
      ]
     },
     "execution_count": 5,
     "metadata": {},
     "output_type": "execute_result"
    }
   ],
   "source": [
    "data['year'].isna().sum()"
   ]
  },
  {
   "cell_type": "code",
   "execution_count": 6,
   "id": "0cac1b97",
   "metadata": {},
   "outputs": [
    {
     "data": {
      "text/plain": [
       "female                       68795\n",
       "male                         21905\n",
       "unknown                        206\n",
       "transgender/nonconforming       64\n",
       "Name: gender, dtype: int64"
      ]
     },
     "execution_count": 6,
     "metadata": {},
     "output_type": "execute_result"
    }
   ],
   "source": [
    "data['gender'].value_counts()"
   ]
  },
  {
   "cell_type": "code",
   "execution_count": 7,
   "id": "448be297",
   "metadata": {},
   "outputs": [
    {
     "data": {
      "text/plain": [
       "departure    44602\n",
       "arrival_1    24353\n",
       "theme_1      97754\n",
       "dtype: int64"
      ]
     },
     "execution_count": 7,
     "metadata": {},
     "output_type": "execute_result"
    }
   ],
   "source": [
    "data[['departure', 'arrival_1','theme_1']].isna().sum(axis = 0)"
   ]
  },
  {
   "cell_type": "code",
   "execution_count": 8,
   "id": "a3268fe9",
   "metadata": {
    "scrolled": true
   },
   "outputs": [
    {
     "data": {
      "text/plain": [
       "0           Forced labour\n",
       "1        Domestic slavery\n",
       "2        Domestic slavery\n",
       "3        Domestic slavery\n",
       "4             War slavery\n",
       "               ...       \n",
       "99103                 NaN\n",
       "99104                 NaN\n",
       "99105                 NaN\n",
       "99106                 NaN\n",
       "99107                 NaN\n",
       "Name: theme_1, Length: 99108, dtype: object"
      ]
     },
     "execution_count": 8,
     "metadata": {},
     "output_type": "execute_result"
    }
   ],
   "source": [
    "data['theme_1']"
   ]
  },
  {
   "cell_type": "code",
   "execution_count": 9,
   "id": "dfc372f2",
   "metadata": {},
   "outputs": [
    {
     "data": {
      "text/plain": [
       "Philippines             11499\n",
       "Ukraine                 10005\n",
       "Moldova, Republic of     7593\n",
       "United States            6506\n",
       "Mexico                   2412\n",
       "                        ...  \n",
       "Tunisia                     1\n",
       "Poland                      1\n",
       "Sweden                      1\n",
       "Syria                       1\n",
       "Germany                     1\n",
       "Name: departure, Length: 110, dtype: int64"
      ]
     },
     "execution_count": 9,
     "metadata": {},
     "output_type": "execute_result"
    }
   ],
   "source": [
    "data['departure'].value_counts()"
   ]
  },
  {
   "cell_type": "code",
   "execution_count": 10,
   "id": "69e282ee",
   "metadata": {},
   "outputs": [
    {
     "data": {
      "text/plain": [
       "32349"
      ]
     },
     "execution_count": 10,
     "metadata": {},
     "output_type": "execute_result"
    }
   ],
   "source": [
    "data['isSexualExploit'].isna().sum()"
   ]
  },
  {
   "cell_type": "code",
   "execution_count": 11,
   "id": "e72b0663",
   "metadata": {},
   "outputs": [
    {
     "data": {
      "text/plain": [
       "32103"
      ]
     },
     "execution_count": 11,
     "metadata": {},
     "output_type": "execute_result"
    }
   ],
   "source": [
    "data['isForcedLabour'].isna().sum()"
   ]
  },
  {
   "cell_type": "code",
   "execution_count": 12,
   "id": "444d7256",
   "metadata": {},
   "outputs": [
    {
     "data": {
      "text/plain": [
       "gender        8138\n",
       "departure    44602\n",
       "dtype: int64"
      ]
     },
     "execution_count": 12,
     "metadata": {},
     "output_type": "execute_result"
    }
   ],
   "source": [
    "data[['gender', 'departure']].isna().sum(axis = 0)"
   ]
  },
  {
   "cell_type": "code",
   "execution_count": 13,
   "id": "66036c97",
   "metadata": {},
   "outputs": [
    {
     "data": {
      "text/html": [
       "<div>\n",
       "<style scoped>\n",
       "    .dataframe tbody tr th:only-of-type {\n",
       "        vertical-align: middle;\n",
       "    }\n",
       "\n",
       "    .dataframe tbody tr th {\n",
       "        vertical-align: top;\n",
       "    }\n",
       "\n",
       "    .dataframe thead th {\n",
       "        text-align: right;\n",
       "    }\n",
       "</style>\n",
       "<table border=\"1\" class=\"dataframe\">\n",
       "  <thead>\n",
       "    <tr style=\"text-align: right;\">\n",
       "      <th></th>\n",
       "      <th>gender</th>\n",
       "      <th>departure</th>\n",
       "    </tr>\n",
       "  </thead>\n",
       "  <tbody>\n",
       "    <tr>\n",
       "      <th>0</th>\n",
       "      <td>female</td>\n",
       "      <td>Vietnam</td>\n",
       "    </tr>\n",
       "    <tr>\n",
       "      <th>1</th>\n",
       "      <td>female</td>\n",
       "      <td>Sri Lanka</td>\n",
       "    </tr>\n",
       "    <tr>\n",
       "      <th>2</th>\n",
       "      <td>female</td>\n",
       "      <td>Sri Lanka</td>\n",
       "    </tr>\n",
       "    <tr>\n",
       "      <th>3</th>\n",
       "      <td>female</td>\n",
       "      <td>Mexico</td>\n",
       "    </tr>\n",
       "    <tr>\n",
       "      <th>4</th>\n",
       "      <td>male</td>\n",
       "      <td>Sudan</td>\n",
       "    </tr>\n",
       "    <tr>\n",
       "      <th>...</th>\n",
       "      <td>...</td>\n",
       "      <td>...</td>\n",
       "    </tr>\n",
       "    <tr>\n",
       "      <th>99103</th>\n",
       "      <td>male</td>\n",
       "      <td>Cameroon</td>\n",
       "    </tr>\n",
       "    <tr>\n",
       "      <th>99104</th>\n",
       "      <td>male</td>\n",
       "      <td>Cameroon</td>\n",
       "    </tr>\n",
       "    <tr>\n",
       "      <th>99105</th>\n",
       "      <td>male</td>\n",
       "      <td>Cameroon</td>\n",
       "    </tr>\n",
       "    <tr>\n",
       "      <th>99106</th>\n",
       "      <td>male</td>\n",
       "      <td>Cameroon</td>\n",
       "    </tr>\n",
       "    <tr>\n",
       "      <th>99107</th>\n",
       "      <td>male</td>\n",
       "      <td>Cameroon</td>\n",
       "    </tr>\n",
       "  </tbody>\n",
       "</table>\n",
       "<p>53561 rows × 2 columns</p>\n",
       "</div>"
      ],
      "text/plain": [
       "       gender  departure\n",
       "0      female    Vietnam\n",
       "1      female  Sri Lanka\n",
       "2      female  Sri Lanka\n",
       "3      female     Mexico\n",
       "4        male      Sudan\n",
       "...       ...        ...\n",
       "99103    male   Cameroon\n",
       "99104    male   Cameroon\n",
       "99105    male   Cameroon\n",
       "99106    male   Cameroon\n",
       "99107    male   Cameroon\n",
       "\n",
       "[53561 rows x 2 columns]"
      ]
     },
     "execution_count": 13,
     "metadata": {},
     "output_type": "execute_result"
    }
   ],
   "source": [
    "data[['gender', 'departure']].dropna()"
   ]
  },
  {
   "cell_type": "code",
   "execution_count": 14,
   "id": "1ef830d8",
   "metadata": {},
   "outputs": [
    {
     "data": {
      "text/plain": [
       "female                       68795\n",
       "male                         21905\n",
       "unknown                        206\n",
       "transgender/nonconforming       64\n",
       "Name: gender, dtype: int64"
      ]
     },
     "execution_count": 14,
     "metadata": {},
     "output_type": "execute_result"
    }
   ],
   "source": [
    "data['gender'].value_counts()"
   ]
  },
  {
   "cell_type": "code",
   "execution_count": 15,
   "id": "0d4f8a85",
   "metadata": {},
   "outputs": [
    {
     "data": {
      "text/plain": [
       "Philippines             11499\n",
       "Ukraine                 10005\n",
       "Moldova, Republic of     7593\n",
       "United States            6506\n",
       "Mexico                   2412\n",
       "                        ...  \n",
       "Tunisia                     1\n",
       "Poland                      1\n",
       "Sweden                      1\n",
       "Syria                       1\n",
       "Germany                     1\n",
       "Name: departure, Length: 110, dtype: int64"
      ]
     },
     "execution_count": 15,
     "metadata": {},
     "output_type": "execute_result"
    }
   ],
   "source": [
    "data['departure'].value_counts()"
   ]
  },
  {
   "cell_type": "code",
   "execution_count": 16,
   "id": "358477f3",
   "metadata": {},
   "outputs": [],
   "source": [
    "import sklearn"
   ]
  },
  {
   "cell_type": "code",
   "execution_count": 17,
   "id": "1440291b",
   "metadata": {},
   "outputs": [],
   "source": [
    "from sklearn.ensemble import RandomForestClassifier\n",
    "from sklearn.preprocessing import OrdinalEncoder"
   ]
  },
  {
   "cell_type": "code",
   "execution_count": 18,
   "id": "a9bc7c46",
   "metadata": {},
   "outputs": [],
   "source": [
    "data_model = data[['gender', 'departure', 'isForcedLabour', 'ageBroad']].copy()\n",
    "data_model.dropna(inplace = True)"
   ]
  },
  {
   "cell_type": "code",
   "execution_count": 19,
   "id": "332b542e",
   "metadata": {},
   "outputs": [],
   "source": [
    "model = RandomForestClassifier()\n",
    "\n",
    "# Define X and y\n",
    "X = data_model[['gender','departure']].copy()\n",
    "y = data_model[['isForcedLabour']].copy()\n",
    "\n",
    "#model.fit(X, y)\n"
   ]
  },
  {
   "cell_type": "code",
   "execution_count": 20,
   "id": "e3488fd8",
   "metadata": {},
   "outputs": [],
   "source": [
    "enc = OrdinalEncoder(handle_unknown='use_encoded_value', unknown_value=999)\n",
    "enc.fit(X)\n",
    "X_proc = enc.transform(X)"
   ]
  },
  {
   "cell_type": "code",
   "execution_count": 21,
   "id": "1361a91b",
   "metadata": {},
   "outputs": [
    {
     "data": {
      "text/plain": [
       "RandomForestClassifier()"
      ]
     },
     "execution_count": 21,
     "metadata": {},
     "output_type": "execute_result"
    }
   ],
   "source": [
    "model.fit(X_proc, y.values.flatten())"
   ]
  },
  {
   "cell_type": "code",
   "execution_count": 22,
   "id": "99237259",
   "metadata": {},
   "outputs": [],
   "source": [
    "y_pred = model.predict(X_proc)"
   ]
  },
  {
   "cell_type": "code",
   "execution_count": 23,
   "id": "17b245ce",
   "metadata": {},
   "outputs": [],
   "source": [
    "y['pred'] = y_pred"
   ]
  },
  {
   "cell_type": "code",
   "execution_count": 24,
   "id": "ba315d4d",
   "metadata": {},
   "outputs": [],
   "source": [
    "y['correct'] = y['isForcedLabour'] == y['pred']"
   ]
  },
  {
   "cell_type": "code",
   "execution_count": 25,
   "id": "0dc7c03b",
   "metadata": {},
   "outputs": [
    {
     "data": {
      "text/plain": [
       "True     17434\n",
       "False     1857\n",
       "Name: correct, dtype: int64"
      ]
     },
     "execution_count": 25,
     "metadata": {},
     "output_type": "execute_result"
    }
   ],
   "source": [
    "y['correct'].value_counts()"
   ]
  },
  {
   "cell_type": "code",
   "execution_count": 26,
   "id": "7dd588df",
   "metadata": {},
   "outputs": [
    {
     "data": {
      "text/html": [
       "<div>\n",
       "<style scoped>\n",
       "    .dataframe tbody tr th:only-of-type {\n",
       "        vertical-align: middle;\n",
       "    }\n",
       "\n",
       "    .dataframe tbody tr th {\n",
       "        vertical-align: top;\n",
       "    }\n",
       "\n",
       "    .dataframe thead th {\n",
       "        text-align: right;\n",
       "    }\n",
       "</style>\n",
       "<table border=\"1\" class=\"dataframe\">\n",
       "  <thead>\n",
       "    <tr style=\"text-align: right;\">\n",
       "      <th></th>\n",
       "      <th>isForcedLabour</th>\n",
       "      <th>pred</th>\n",
       "      <th>correct</th>\n",
       "    </tr>\n",
       "  </thead>\n",
       "  <tbody>\n",
       "    <tr>\n",
       "      <th>0</th>\n",
       "      <td>0.0</td>\n",
       "      <td>0.0</td>\n",
       "      <td>True</td>\n",
       "    </tr>\n",
       "    <tr>\n",
       "      <th>1</th>\n",
       "      <td>1.0</td>\n",
       "      <td>1.0</td>\n",
       "      <td>True</td>\n",
       "    </tr>\n",
       "    <tr>\n",
       "      <th>2</th>\n",
       "      <td>0.0</td>\n",
       "      <td>1.0</td>\n",
       "      <td>False</td>\n",
       "    </tr>\n",
       "    <tr>\n",
       "      <th>3</th>\n",
       "      <td>1.0</td>\n",
       "      <td>0.0</td>\n",
       "      <td>False</td>\n",
       "    </tr>\n",
       "    <tr>\n",
       "      <th>4</th>\n",
       "      <td>1.0</td>\n",
       "      <td>0.0</td>\n",
       "      <td>False</td>\n",
       "    </tr>\n",
       "    <tr>\n",
       "      <th>...</th>\n",
       "      <td>...</td>\n",
       "      <td>...</td>\n",
       "      <td>...</td>\n",
       "    </tr>\n",
       "    <tr>\n",
       "      <th>99103</th>\n",
       "      <td>1.0</td>\n",
       "      <td>1.0</td>\n",
       "      <td>True</td>\n",
       "    </tr>\n",
       "    <tr>\n",
       "      <th>99104</th>\n",
       "      <td>1.0</td>\n",
       "      <td>1.0</td>\n",
       "      <td>True</td>\n",
       "    </tr>\n",
       "    <tr>\n",
       "      <th>99105</th>\n",
       "      <td>1.0</td>\n",
       "      <td>1.0</td>\n",
       "      <td>True</td>\n",
       "    </tr>\n",
       "    <tr>\n",
       "      <th>99106</th>\n",
       "      <td>1.0</td>\n",
       "      <td>1.0</td>\n",
       "      <td>True</td>\n",
       "    </tr>\n",
       "    <tr>\n",
       "      <th>99107</th>\n",
       "      <td>1.0</td>\n",
       "      <td>1.0</td>\n",
       "      <td>True</td>\n",
       "    </tr>\n",
       "  </tbody>\n",
       "</table>\n",
       "<p>19291 rows × 3 columns</p>\n",
       "</div>"
      ],
      "text/plain": [
       "       isForcedLabour  pred  correct\n",
       "0                 0.0   0.0     True\n",
       "1                 1.0   1.0     True\n",
       "2                 0.0   1.0    False\n",
       "3                 1.0   0.0    False\n",
       "4                 1.0   0.0    False\n",
       "...               ...   ...      ...\n",
       "99103             1.0   1.0     True\n",
       "99104             1.0   1.0     True\n",
       "99105             1.0   1.0     True\n",
       "99106             1.0   1.0     True\n",
       "99107             1.0   1.0     True\n",
       "\n",
       "[19291 rows x 3 columns]"
      ]
     },
     "execution_count": 26,
     "metadata": {},
     "output_type": "execute_result"
    }
   ],
   "source": [
    "y"
   ]
  },
  {
   "cell_type": "code",
   "execution_count": 27,
   "id": "8d669c8a",
   "metadata": {},
   "outputs": [],
   "source": [
    "missing_data = data[data['isForcedLabour'].isna()].copy()"
   ]
  },
  {
   "cell_type": "code",
   "execution_count": 28,
   "id": "9bd99f2c",
   "metadata": {},
   "outputs": [],
   "source": [
    "missing_data = missing_data[['gender', 'departure', 'isForcedLabour']].copy()"
   ]
  },
  {
   "cell_type": "code",
   "execution_count": 29,
   "id": "3a7a34d7",
   "metadata": {},
   "outputs": [],
   "source": [
    "missing_data.dropna(subset=['gender', 'departure'], inplace=True)"
   ]
  },
  {
   "cell_type": "code",
   "execution_count": 30,
   "id": "4905382a",
   "metadata": {},
   "outputs": [],
   "source": [
    "X_missing = missing_data[['gender', 'departure']]\n",
    "X_missing_proc = enc.transform(X_missing)"
   ]
  },
  {
   "cell_type": "code",
   "execution_count": 31,
   "id": "091fcc3d",
   "metadata": {},
   "outputs": [],
   "source": [
    "y_missing_pred = model.predict(X_missing_proc)"
   ]
  },
  {
   "cell_type": "code",
   "execution_count": 32,
   "id": "6f0f5dc8",
   "metadata": {},
   "outputs": [],
   "source": [
    "missing_data['pred'] = y_missing_pred"
   ]
  },
  {
   "cell_type": "code",
   "execution_count": 33,
   "id": "c04504cc",
   "metadata": {},
   "outputs": [
    {
     "data": {
      "text/plain": [
       "0.0    18541\n",
       "1.0     8264\n",
       "Name: pred, dtype: int64"
      ]
     },
     "execution_count": 33,
     "metadata": {},
     "output_type": "execute_result"
    }
   ],
   "source": [
    "missing_data['pred'].value_counts()"
   ]
  },
  {
   "cell_type": "code",
   "execution_count": 34,
   "id": "02a172d8",
   "metadata": {},
   "outputs": [
    {
     "data": {
      "text/html": [
       "<div>\n",
       "<style scoped>\n",
       "    .dataframe tbody tr th:only-of-type {\n",
       "        vertical-align: middle;\n",
       "    }\n",
       "\n",
       "    .dataframe tbody tr th {\n",
       "        vertical-align: top;\n",
       "    }\n",
       "\n",
       "    .dataframe thead th {\n",
       "        text-align: right;\n",
       "    }\n",
       "</style>\n",
       "<table border=\"1\" class=\"dataframe\">\n",
       "  <thead>\n",
       "    <tr style=\"text-align: right;\">\n",
       "      <th></th>\n",
       "      <th>gender</th>\n",
       "      <th>departure</th>\n",
       "      <th>isForcedLabour</th>\n",
       "      <th>pred</th>\n",
       "    </tr>\n",
       "  </thead>\n",
       "  <tbody>\n",
       "    <tr>\n",
       "      <th>1491</th>\n",
       "      <td>female</td>\n",
       "      <td>Moldova, Republic of</td>\n",
       "      <td>NaN</td>\n",
       "      <td>0.0</td>\n",
       "    </tr>\n",
       "    <tr>\n",
       "      <th>1492</th>\n",
       "      <td>female</td>\n",
       "      <td>Moldova, Republic of</td>\n",
       "      <td>NaN</td>\n",
       "      <td>0.0</td>\n",
       "    </tr>\n",
       "    <tr>\n",
       "      <th>1493</th>\n",
       "      <td>female</td>\n",
       "      <td>Moldova, Republic of</td>\n",
       "      <td>NaN</td>\n",
       "      <td>0.0</td>\n",
       "    </tr>\n",
       "    <tr>\n",
       "      <th>1494</th>\n",
       "      <td>female</td>\n",
       "      <td>Moldova, Republic of</td>\n",
       "      <td>NaN</td>\n",
       "      <td>0.0</td>\n",
       "    </tr>\n",
       "    <tr>\n",
       "      <th>1495</th>\n",
       "      <td>female</td>\n",
       "      <td>Moldova, Republic of</td>\n",
       "      <td>NaN</td>\n",
       "      <td>0.0</td>\n",
       "    </tr>\n",
       "    <tr>\n",
       "      <th>...</th>\n",
       "      <td>...</td>\n",
       "      <td>...</td>\n",
       "      <td>...</td>\n",
       "      <td>...</td>\n",
       "    </tr>\n",
       "    <tr>\n",
       "      <th>98584</th>\n",
       "      <td>female</td>\n",
       "      <td>Cameroon</td>\n",
       "      <td>NaN</td>\n",
       "      <td>1.0</td>\n",
       "    </tr>\n",
       "    <tr>\n",
       "      <th>98585</th>\n",
       "      <td>female</td>\n",
       "      <td>Cameroon</td>\n",
       "      <td>NaN</td>\n",
       "      <td>1.0</td>\n",
       "    </tr>\n",
       "    <tr>\n",
       "      <th>98586</th>\n",
       "      <td>female</td>\n",
       "      <td>Cameroon</td>\n",
       "      <td>NaN</td>\n",
       "      <td>1.0</td>\n",
       "    </tr>\n",
       "    <tr>\n",
       "      <th>98587</th>\n",
       "      <td>female</td>\n",
       "      <td>Cameroon</td>\n",
       "      <td>NaN</td>\n",
       "      <td>1.0</td>\n",
       "    </tr>\n",
       "    <tr>\n",
       "      <th>98588</th>\n",
       "      <td>female</td>\n",
       "      <td>Cameroon</td>\n",
       "      <td>NaN</td>\n",
       "      <td>1.0</td>\n",
       "    </tr>\n",
       "  </tbody>\n",
       "</table>\n",
       "<p>26805 rows × 4 columns</p>\n",
       "</div>"
      ],
      "text/plain": [
       "       gender             departure  isForcedLabour  pred\n",
       "1491   female  Moldova, Republic of             NaN   0.0\n",
       "1492   female  Moldova, Republic of             NaN   0.0\n",
       "1493   female  Moldova, Republic of             NaN   0.0\n",
       "1494   female  Moldova, Republic of             NaN   0.0\n",
       "1495   female  Moldova, Republic of             NaN   0.0\n",
       "...       ...                   ...             ...   ...\n",
       "98584  female              Cameroon             NaN   1.0\n",
       "98585  female              Cameroon             NaN   1.0\n",
       "98586  female              Cameroon             NaN   1.0\n",
       "98587  female              Cameroon             NaN   1.0\n",
       "98588  female              Cameroon             NaN   1.0\n",
       "\n",
       "[26805 rows x 4 columns]"
      ]
     },
     "execution_count": 34,
     "metadata": {},
     "output_type": "execute_result"
    }
   ],
   "source": [
    "missing_data"
   ]
  },
  {
   "cell_type": "code",
   "execution_count": 35,
   "id": "d1b41bf8",
   "metadata": {},
   "outputs": [
    {
     "data": {
      "text/plain": [
       "9--17           12507\n",
       "30--38          10135\n",
       "18--20           6040\n",
       "21--23           5421\n",
       "24--26           4583\n",
       "39--47           4135\n",
       "27--29           3555\n",
       "48+              2300\n",
       "0--8             2291\n",
       "Unknown          1014\n",
       "age_9_to_17       201\n",
       "age_0_to_8        102\n",
       "age_18_to_20       24\n",
       "age_21_to_23        8\n",
       "age_24_to_26        4\n",
       "age_30-38           2\n",
       "age_27_to_29        2\n",
       "age_39_47           1\n",
       "Name: ageBroad, dtype: int64"
      ]
     },
     "execution_count": 35,
     "metadata": {},
     "output_type": "execute_result"
    }
   ],
   "source": [
    "data['ageBroad'].value_counts()"
   ]
  },
  {
   "cell_type": "code",
   "execution_count": 36,
   "id": "7d508417",
   "metadata": {},
   "outputs": [
    {
     "data": {
      "text/plain": [
       "dtype('O')"
      ]
     },
     "execution_count": 36,
     "metadata": {},
     "output_type": "execute_result"
    }
   ],
   "source": [
    "data['ageBroad'].dtype"
   ]
  },
  {
   "cell_type": "code",
   "execution_count": 37,
   "id": "615f1bfe",
   "metadata": {},
   "outputs": [],
   "source": [
    "def ages(n):\n",
    "    if n == 'age_9_to_17':\n",
    "        return '9--17'\n",
    "    if n == 'age_0_to_8':\n",
    "        return '0--8 '\n",
    "    if n == 'age_18_to_20':\n",
    "        return '18--20'\n",
    "    if n == 'age_21_to_23':\n",
    "        return '21--23'\n",
    "    if n == 'age_24_to_26':\n",
    "        return '24--26'\n",
    "    if n == 'age_30-38':\n",
    "        return '30--38'\n",
    "    if n == 'age_27_to_29':\n",
    "        return '27--29'\n",
    "    if n == 'age_39_47':\n",
    "        return '39--47'\n",
    "    if n == 'Unknown':\n",
    "        return 'nan'\n",
    "    else:\n",
    "        return n\n",
    " "
   ]
  },
  {
   "cell_type": "code",
   "execution_count": 38,
   "id": "fcecff57",
   "metadata": {},
   "outputs": [],
   "source": [
    "data['ageBroad'] = data['ageBroad'].map(ages)"
   ]
  },
  {
   "cell_type": "code",
   "execution_count": 39,
   "id": "95a7052e",
   "metadata": {},
   "outputs": [
    {
     "data": {
      "text/plain": [
       "9--17     12708\n",
       "30--38    10137\n",
       "18--20     6064\n",
       "21--23     5429\n",
       "24--26     4587\n",
       "39--47     4136\n",
       "27--29     3557\n",
       "48+        2300\n",
       "0--8       2291\n",
       "nan        1014\n",
       "0--8        102\n",
       "Name: ageBroad, dtype: int64"
      ]
     },
     "execution_count": 39,
     "metadata": {},
     "output_type": "execute_result"
    }
   ],
   "source": [
    "data['ageBroad'].value_counts()"
   ]
  },
  {
   "cell_type": "code",
   "execution_count": 40,
   "id": "8ebd1f2a",
   "metadata": {},
   "outputs": [
    {
     "data": {
      "text/plain": [
       "46783"
      ]
     },
     "execution_count": 40,
     "metadata": {},
     "output_type": "execute_result"
    }
   ],
   "source": [
    "data['ageBroad'].isna().sum()"
   ]
  },
  {
   "cell_type": "code",
   "execution_count": 41,
   "id": "dfbfcbc8",
   "metadata": {},
   "outputs": [],
   "source": [
    "data_model = data[['gender', 'departure', 'isForcedLabour', 'ageBroad']].copy()\n",
    "data_model.dropna(inplace = True)"
   ]
  },
  {
   "cell_type": "markdown",
   "id": "e968c44b",
   "metadata": {},
   "source": [
    "### First model: RandomForestClassifier. Predicting if it is forced labour"
   ]
  },
  {
   "cell_type": "code",
   "execution_count": 101,
   "id": "d3e3072a",
   "metadata": {},
   "outputs": [],
   "source": [
    "import sklearn \n",
    "from sklearn.ensemble import RandomForestClassifier\n",
    "from sklearn.preprocessing import OrdinalEncoder\n",
    "from sklearn.model_selection import train_test_split\n"
   ]
  },
  {
   "cell_type": "code",
   "execution_count": 102,
   "id": "e5bfe67e",
   "metadata": {},
   "outputs": [
    {
     "name": "stderr",
     "output_type": "stream",
     "text": [
      "/Users/paloma/.pyenv/versions/3.8.12/envs/ht_project/lib/python3.8/site-packages/IPython/core/interactiveshell.py:3444: DtypeWarning: Columns (0,1,4,26,87,89,90,91,92,95,96,100,101,104,108,114,116) have mixed types.Specify dtype option on import or set low_memory=False.\n",
      "  exec(code_obj, self.user_global_ns, self.user_ns)\n"
     ]
    }
   ],
   "source": [
    "data = pd.read_csv(\"/Users/paloma/Downloads/final_df.csv\")"
   ]
  },
  {
   "cell_type": "code",
   "execution_count": 103,
   "id": "b3eb32bb",
   "metadata": {},
   "outputs": [],
   "source": [
    "def ages(n):\n",
    "    if n == 'age_9_to_17':\n",
    "        return '9--17'\n",
    "    if n == 'age_0_to_8':\n",
    "        return '0--8 '\n",
    "    if n == 'age_18_to_20':\n",
    "        return '18--20'\n",
    "    if n == 'age_21_to_23':\n",
    "        return '21--23'\n",
    "    if n == 'age_24_to_26':\n",
    "        return '24--26'\n",
    "    if n == 'age_30-38':\n",
    "        return '30--38'\n",
    "    if n == 'age_27_to_29':\n",
    "        return '27--29'\n",
    "    if n == 'age_39_47':\n",
    "        return '39--47'\n",
    "    if n == 'Unknown':\n",
    "        return 'nan'\n",
    "    else:\n",
    "        return n\n",
    " "
   ]
  },
  {
   "cell_type": "code",
   "execution_count": 104,
   "id": "9aa644ef",
   "metadata": {},
   "outputs": [],
   "source": [
    "data['ageBroad'] = data['ageBroad'].map(ages)"
   ]
  },
  {
   "cell_type": "code",
   "execution_count": 105,
   "id": "db8ce82f",
   "metadata": {},
   "outputs": [],
   "source": [
    "data_model = data[['gender', 'departure', 'isForcedLabour', 'ageBroad']].copy()\n",
    "data_model.dropna(inplace = True)"
   ]
  },
  {
   "cell_type": "code",
   "execution_count": 106,
   "id": "fca17660",
   "metadata": {},
   "outputs": [],
   "source": [
    "model = RandomForestClassifier()\n",
    "\n",
    "# Define X and y\n",
    "X = data_model[['gender','departure', 'ageBroad']].copy()\n",
    "y = data_model[['isForcedLabour']].copy()\n",
    "\n",
    "#model.fit(X, y)\n",
    "\n"
   ]
  },
  {
   "cell_type": "code",
   "execution_count": 107,
   "id": "28a0627b",
   "metadata": {},
   "outputs": [],
   "source": [
    "enc = OrdinalEncoder(handle_unknown='use_encoded_value', unknown_value=999)\n",
    "enc.fit(X)\n",
    "X_proc = enc.transform(X)"
   ]
  },
  {
   "cell_type": "code",
   "execution_count": 108,
   "id": "3073303f",
   "metadata": {},
   "outputs": [
    {
     "data": {
      "text/plain": [
       "RandomForestClassifier()"
      ]
     },
     "execution_count": 108,
     "metadata": {},
     "output_type": "execute_result"
    }
   ],
   "source": [
    "classifier = model.fit(X_proc, y.values.flatten())\n",
    "classifier"
   ]
  },
  {
   "cell_type": "code",
   "execution_count": 109,
   "id": "fd587647",
   "metadata": {},
   "outputs": [],
   "source": [
    "y_pred = model.predict(X_proc)"
   ]
  },
  {
   "cell_type": "code",
   "execution_count": 110,
   "id": "95d2cc5c",
   "metadata": {},
   "outputs": [],
   "source": [
    "y['pred'] = y_pred"
   ]
  },
  {
   "cell_type": "code",
   "execution_count": 111,
   "id": "0704897f",
   "metadata": {},
   "outputs": [
    {
     "data": {
      "text/html": [
       "<div>\n",
       "<style scoped>\n",
       "    .dataframe tbody tr th:only-of-type {\n",
       "        vertical-align: middle;\n",
       "    }\n",
       "\n",
       "    .dataframe tbody tr th {\n",
       "        vertical-align: top;\n",
       "    }\n",
       "\n",
       "    .dataframe thead th {\n",
       "        text-align: right;\n",
       "    }\n",
       "</style>\n",
       "<table border=\"1\" class=\"dataframe\">\n",
       "  <thead>\n",
       "    <tr style=\"text-align: right;\">\n",
       "      <th></th>\n",
       "      <th>isForcedLabour</th>\n",
       "      <th>pred</th>\n",
       "    </tr>\n",
       "  </thead>\n",
       "  <tbody>\n",
       "    <tr>\n",
       "      <th>0</th>\n",
       "      <td>0.0</td>\n",
       "      <td>0.0</td>\n",
       "    </tr>\n",
       "    <tr>\n",
       "      <th>1</th>\n",
       "      <td>1.0</td>\n",
       "      <td>0.0</td>\n",
       "    </tr>\n",
       "    <tr>\n",
       "      <th>2</th>\n",
       "      <td>0.0</td>\n",
       "      <td>0.0</td>\n",
       "    </tr>\n",
       "    <tr>\n",
       "      <th>3</th>\n",
       "      <td>1.0</td>\n",
       "      <td>0.0</td>\n",
       "    </tr>\n",
       "    <tr>\n",
       "      <th>4</th>\n",
       "      <td>1.0</td>\n",
       "      <td>1.0</td>\n",
       "    </tr>\n",
       "    <tr>\n",
       "      <th>...</th>\n",
       "      <td>...</td>\n",
       "      <td>...</td>\n",
       "    </tr>\n",
       "    <tr>\n",
       "      <th>99103</th>\n",
       "      <td>1.0</td>\n",
       "      <td>1.0</td>\n",
       "    </tr>\n",
       "    <tr>\n",
       "      <th>99104</th>\n",
       "      <td>1.0</td>\n",
       "      <td>1.0</td>\n",
       "    </tr>\n",
       "    <tr>\n",
       "      <th>99105</th>\n",
       "      <td>1.0</td>\n",
       "      <td>1.0</td>\n",
       "    </tr>\n",
       "    <tr>\n",
       "      <th>99106</th>\n",
       "      <td>1.0</td>\n",
       "      <td>1.0</td>\n",
       "    </tr>\n",
       "    <tr>\n",
       "      <th>99107</th>\n",
       "      <td>1.0</td>\n",
       "      <td>1.0</td>\n",
       "    </tr>\n",
       "  </tbody>\n",
       "</table>\n",
       "<p>19291 rows × 2 columns</p>\n",
       "</div>"
      ],
      "text/plain": [
       "       isForcedLabour  pred\n",
       "0                 0.0   0.0\n",
       "1                 1.0   0.0\n",
       "2                 0.0   0.0\n",
       "3                 1.0   0.0\n",
       "4                 1.0   1.0\n",
       "...               ...   ...\n",
       "99103             1.0   1.0\n",
       "99104             1.0   1.0\n",
       "99105             1.0   1.0\n",
       "99106             1.0   1.0\n",
       "99107             1.0   1.0\n",
       "\n",
       "[19291 rows x 2 columns]"
      ]
     },
     "execution_count": 111,
     "metadata": {},
     "output_type": "execute_result"
    }
   ],
   "source": [
    "y"
   ]
  },
  {
   "cell_type": "code",
   "execution_count": null,
   "id": "1710a7e9",
   "metadata": {},
   "outputs": [],
   "source": []
  },
  {
   "cell_type": "code",
   "execution_count": 112,
   "id": "3abdf466",
   "metadata": {},
   "outputs": [],
   "source": [
    "y['correct'] = y['isForcedLabour'] == y['pred']"
   ]
  },
  {
   "cell_type": "code",
   "execution_count": 113,
   "id": "63ba3d89",
   "metadata": {},
   "outputs": [
    {
     "data": {
      "text/plain": [
       "True     18129\n",
       "False     1162\n",
       "Name: correct, dtype: int64"
      ]
     },
     "execution_count": 113,
     "metadata": {},
     "output_type": "execute_result"
    }
   ],
   "source": [
    "y['correct'].value_counts()"
   ]
  },
  {
   "cell_type": "code",
   "execution_count": 114,
   "id": "13e18ee5",
   "metadata": {
    "scrolled": true
   },
   "outputs": [
    {
     "data": {
      "text/plain": [
       "True     18129\n",
       "False     1162\n",
       "Name: correct, dtype: int64"
      ]
     },
     "execution_count": 114,
     "metadata": {},
     "output_type": "execute_result"
    }
   ],
   "source": [
    "y['correct'].value_counts()"
   ]
  },
  {
   "cell_type": "code",
   "execution_count": 115,
   "id": "c4a43342",
   "metadata": {},
   "outputs": [
    {
     "name": "stderr",
     "output_type": "stream",
     "text": [
      "/Users/paloma/.pyenv/versions/3.8.12/envs/ht_project/lib/python3.8/site-packages/sklearn/utils/deprecation.py:87: FutureWarning: Function plot_confusion_matrix is deprecated; Function `plot_confusion_matrix` is deprecated in 1.0 and will be removed in 1.2. Use one of the class methods: ConfusionMatrixDisplay.from_predictions or ConfusionMatrixDisplay.from_estimator.\n",
      "  warnings.warn(msg, category=FutureWarning)\n"
     ]
    },
    {
     "data": {
      "image/png": "[encoded data removed]",
      "text/plain": [
       "<Figure size 432x288 with 2 Axes>"
      ]
     },
     "metadata": {
      "needs_background": "light"
     },
     "output_type": "display_data"
    }
   ],
   "source": [
    "plot_confusion_matrix(classifier, X_proc, y['isForcedLabour'])  \n",
    "plt.show()"
   ]
  },
  {
   "cell_type": "code",
   "execution_count": 116,
   "id": "003615be",
   "metadata": {},
   "outputs": [],
   "source": [
    "from sklearn.model_selection import train_test_split\n",
    "X_train, X_test, y_train, y_test = train_test_split(X_proc, y['isForcedLabour'], random_state = 1, \n",
    "                                                    test_size= 0.2)"
   ]
  },
  {
   "cell_type": "code",
   "execution_count": 117,
   "id": "2b216167",
   "metadata": {},
   "outputs": [],
   "source": [
    "model = RandomForestClassifier()\n",
    "\n",
    "classifier = model.fit(X_train, y_train.values.flatten())"
   ]
  },
  {
   "cell_type": "code",
   "execution_count": 118,
   "id": "f27df0a5",
   "metadata": {
    "scrolled": true
   },
   "outputs": [
    {
     "name": "stderr",
     "output_type": "stream",
     "text": [
      "/Users/paloma/.pyenv/versions/3.8.12/envs/ht_project/lib/python3.8/site-packages/sklearn/utils/deprecation.py:87: FutureWarning: Function plot_confusion_matrix is deprecated; Function `plot_confusion_matrix` is deprecated in 1.0 and will be removed in 1.2. Use one of the class methods: ConfusionMatrixDisplay.from_predictions or ConfusionMatrixDisplay.from_estimator.\n",
      "  warnings.warn(msg, category=FutureWarning)\n"
     ]
    },
    {
     "data": {
      "image/png": "[encoded data removed]",
      "text/plain": [
       "<Figure size 432x288 with 2 Axes>"
      ]
     },
     "metadata": {
      "needs_background": "light"
     },
     "output_type": "display_data"
    }
   ],
   "source": [
    "from sklearn.metrics import plot_confusion_matrix\n",
    "plot_confusion_matrix(classifier, X_train, y_train)  \n",
    "plt.show()"
   ]
  },
  {
   "cell_type": "code",
   "execution_count": 119,
   "id": "42fe1a5f",
   "metadata": {},
   "outputs": [
    {
     "name": "stderr",
     "output_type": "stream",
     "text": [
      "/Users/paloma/.pyenv/versions/3.8.12/envs/ht_project/lib/python3.8/site-packages/sklearn/utils/deprecation.py:87: FutureWarning: Function plot_confusion_matrix is deprecated; Function `plot_confusion_matrix` is deprecated in 1.0 and will be removed in 1.2. Use one of the class methods: ConfusionMatrixDisplay.from_predictions or ConfusionMatrixDisplay.from_estimator.\n",
      "  warnings.warn(msg, category=FutureWarning)\n"
     ]
    },
    {
     "data": {
      "image/png": "[encoded data removed]",
      "text/plain": [
       "<Figure size 432x288 with 2 Axes>"
      ]
     },
     "metadata": {
      "needs_background": "light"
     },
     "output_type": "display_data"
    }
   ],
   "source": [
    "from sklearn.metrics import plot_confusion_matrix\n",
    "plot_confusion_matrix(classifier, X_test, y_test)  \n",
    "plt.show()"
   ]
  },
  {
   "cell_type": "code",
   "execution_count": 120,
   "id": "822c72c1",
   "metadata": {},
   "outputs": [
    {
     "data": {
      "text/plain": [
       "array([[  651,   511],\n",
       "       [10450,  7679]])"
      ]
     },
     "execution_count": 120,
     "metadata": {},
     "output_type": "execute_result"
    }
   ],
   "source": [
    "from sklearn.metrics import confusion_matrix\n",
    "confusion_matrix(y['correct'], y['pred'])"
   ]
  },
  {
   "cell_type": "code",
   "execution_count": null,
   "id": "14bf383b",
   "metadata": {},
   "outputs": [],
   "source": []
  },
  {
   "cell_type": "code",
   "execution_count": 59,
   "id": "231ae9f5",
   "metadata": {},
   "outputs": [],
   "source": [
    "missing_data = data[data['isForcedLabour'].isna()].copy()"
   ]
  },
  {
   "cell_type": "code",
   "execution_count": 60,
   "id": "7c10a53c",
   "metadata": {},
   "outputs": [],
   "source": [
    "missing_data = missing_data[['gender', 'departure', 'isForcedLabour', 'ageBroad']].copy()"
   ]
  },
  {
   "cell_type": "code",
   "execution_count": 61,
   "id": "ecf53763",
   "metadata": {},
   "outputs": [],
   "source": [
    "missing_data.dropna(subset=['gender', 'departure','ageBroad'], inplace=True)"
   ]
  },
  {
   "cell_type": "code",
   "execution_count": 62,
   "id": "e68f3f2b",
   "metadata": {},
   "outputs": [],
   "source": [
    "X_missing = missing_data[['gender', 'departure', 'ageBroad']]\n",
    "X_missing_proc = enc.transform(X_missing)"
   ]
  },
  {
   "cell_type": "code",
   "execution_count": 63,
   "id": "cbc7dc8b",
   "metadata": {},
   "outputs": [],
   "source": [
    "y_missing_pred = model.predict(X_missing_proc)"
   ]
  },
  {
   "cell_type": "code",
   "execution_count": 64,
   "id": "1eb0fdf3",
   "metadata": {},
   "outputs": [],
   "source": [
    "missing_data['pred'] = y_missing_pred"
   ]
  },
  {
   "cell_type": "code",
   "execution_count": 65,
   "id": "47072275",
   "metadata": {},
   "outputs": [
    {
     "data": {
      "text/plain": [
       "0.0    9907\n",
       "1.0    7528\n",
       "Name: pred, dtype: int64"
      ]
     },
     "execution_count": 65,
     "metadata": {},
     "output_type": "execute_result"
    }
   ],
   "source": [
    "missing_data['pred'].value_counts()"
   ]
  },
  {
   "cell_type": "code",
   "execution_count": 66,
   "id": "2953eb11",
   "metadata": {},
   "outputs": [
    {
     "data": {
      "text/html": [
       "<div>\n",
       "<style scoped>\n",
       "    .dataframe tbody tr th:only-of-type {\n",
       "        vertical-align: middle;\n",
       "    }\n",
       "\n",
       "    .dataframe tbody tr th {\n",
       "        vertical-align: top;\n",
       "    }\n",
       "\n",
       "    .dataframe thead th {\n",
       "        text-align: right;\n",
       "    }\n",
       "</style>\n",
       "<table border=\"1\" class=\"dataframe\">\n",
       "  <thead>\n",
       "    <tr style=\"text-align: right;\">\n",
       "      <th></th>\n",
       "      <th>gender</th>\n",
       "      <th>departure</th>\n",
       "      <th>isForcedLabour</th>\n",
       "      <th>ageBroad</th>\n",
       "      <th>pred</th>\n",
       "    </tr>\n",
       "  </thead>\n",
       "  <tbody>\n",
       "    <tr>\n",
       "      <th>1491</th>\n",
       "      <td>Female</td>\n",
       "      <td>Moldova, Republic of</td>\n",
       "      <td>NaN</td>\n",
       "      <td>18--20</td>\n",
       "      <td>0.0</td>\n",
       "    </tr>\n",
       "    <tr>\n",
       "      <th>1492</th>\n",
       "      <td>Female</td>\n",
       "      <td>Moldova, Republic of</td>\n",
       "      <td>NaN</td>\n",
       "      <td>18--20</td>\n",
       "      <td>0.0</td>\n",
       "    </tr>\n",
       "    <tr>\n",
       "      <th>1493</th>\n",
       "      <td>Female</td>\n",
       "      <td>Moldova, Republic of</td>\n",
       "      <td>NaN</td>\n",
       "      <td>18--20</td>\n",
       "      <td>0.0</td>\n",
       "    </tr>\n",
       "    <tr>\n",
       "      <th>1494</th>\n",
       "      <td>Female</td>\n",
       "      <td>Moldova, Republic of</td>\n",
       "      <td>NaN</td>\n",
       "      <td>18--20</td>\n",
       "      <td>0.0</td>\n",
       "    </tr>\n",
       "    <tr>\n",
       "      <th>1495</th>\n",
       "      <td>Female</td>\n",
       "      <td>Moldova, Republic of</td>\n",
       "      <td>NaN</td>\n",
       "      <td>18--20</td>\n",
       "      <td>0.0</td>\n",
       "    </tr>\n",
       "    <tr>\n",
       "      <th>...</th>\n",
       "      <td>...</td>\n",
       "      <td>...</td>\n",
       "      <td>...</td>\n",
       "      <td>...</td>\n",
       "      <td>...</td>\n",
       "    </tr>\n",
       "    <tr>\n",
       "      <th>98584</th>\n",
       "      <td>Female</td>\n",
       "      <td>Cameroon</td>\n",
       "      <td>NaN</td>\n",
       "      <td>30--38</td>\n",
       "      <td>1.0</td>\n",
       "    </tr>\n",
       "    <tr>\n",
       "      <th>98585</th>\n",
       "      <td>Female</td>\n",
       "      <td>Cameroon</td>\n",
       "      <td>NaN</td>\n",
       "      <td>30--38</td>\n",
       "      <td>1.0</td>\n",
       "    </tr>\n",
       "    <tr>\n",
       "      <th>98586</th>\n",
       "      <td>Female</td>\n",
       "      <td>Cameroon</td>\n",
       "      <td>NaN</td>\n",
       "      <td>30--38</td>\n",
       "      <td>1.0</td>\n",
       "    </tr>\n",
       "    <tr>\n",
       "      <th>98587</th>\n",
       "      <td>Female</td>\n",
       "      <td>Cameroon</td>\n",
       "      <td>NaN</td>\n",
       "      <td>30--38</td>\n",
       "      <td>1.0</td>\n",
       "    </tr>\n",
       "    <tr>\n",
       "      <th>98588</th>\n",
       "      <td>Female</td>\n",
       "      <td>Cameroon</td>\n",
       "      <td>NaN</td>\n",
       "      <td>30--38</td>\n",
       "      <td>1.0</td>\n",
       "    </tr>\n",
       "  </tbody>\n",
       "</table>\n",
       "<p>17435 rows × 5 columns</p>\n",
       "</div>"
      ],
      "text/plain": [
       "       gender             departure  isForcedLabour ageBroad  pred\n",
       "1491   Female  Moldova, Republic of             NaN   18--20   0.0\n",
       "1492   Female  Moldova, Republic of             NaN   18--20   0.0\n",
       "1493   Female  Moldova, Republic of             NaN   18--20   0.0\n",
       "1494   Female  Moldova, Republic of             NaN   18--20   0.0\n",
       "1495   Female  Moldova, Republic of             NaN   18--20   0.0\n",
       "...       ...                   ...             ...      ...   ...\n",
       "98584  Female              Cameroon             NaN   30--38   1.0\n",
       "98585  Female              Cameroon             NaN   30--38   1.0\n",
       "98586  Female              Cameroon             NaN   30--38   1.0\n",
       "98587  Female              Cameroon             NaN   30--38   1.0\n",
       "98588  Female              Cameroon             NaN   30--38   1.0\n",
       "\n",
       "[17435 rows x 5 columns]"
      ]
     },
     "execution_count": 66,
     "metadata": {},
     "output_type": "execute_result"
    }
   ],
   "source": [
    "missing_data"
   ]
  },
  {
   "cell_type": "markdown",
   "id": "23d0361b",
   "metadata": {},
   "source": [
    "### Second model: RandomForestClassifier. Predicting if it is forced labour"
   ]
  },
  {
   "cell_type": "code",
   "execution_count": 127,
   "id": "f5e7f1de",
   "metadata": {},
   "outputs": [],
   "source": [
    "data_model = data[['gender', 'departure', 'ageBroad', 'isSexualExploit']].copy()\n",
    "data_model.dropna(inplace = True)"
   ]
  },
  {
   "cell_type": "code",
   "execution_count": 128,
   "id": "e58cee11",
   "metadata": {},
   "outputs": [],
   "source": [
    "model = RandomForestClassifier()\n",
    "\n",
    "# Define X and y\n",
    "X = data_model[['gender','departure', 'ageBroad']].copy()\n",
    "y = data_model[['isSexualExploit']].copy()\n",
    "\n",
    "#model.fit(X, y)\n",
    "\n",
    "\n"
   ]
  },
  {
   "cell_type": "code",
   "execution_count": 129,
   "id": "aa48e99c",
   "metadata": {},
   "outputs": [],
   "source": [
    "enc = OrdinalEncoder(handle_unknown='use_encoded_value', unknown_value=999)\n",
    "enc.fit(X)\n",
    "X_proc = enc.transform(X)"
   ]
  },
  {
   "cell_type": "code",
   "execution_count": 130,
   "id": "7b6be12f",
   "metadata": {},
   "outputs": [
    {
     "data": {
      "text/plain": [
       "RandomForestClassifier()"
      ]
     },
     "execution_count": 130,
     "metadata": {},
     "output_type": "execute_result"
    }
   ],
   "source": [
    "model.fit(X_proc, y.values.flatten())"
   ]
  },
  {
   "cell_type": "code",
   "execution_count": 131,
   "id": "c5f16f46",
   "metadata": {},
   "outputs": [],
   "source": [
    "y_pred = model.predict(X_proc)"
   ]
  },
  {
   "cell_type": "code",
   "execution_count": 132,
   "id": "9f4ecfc8",
   "metadata": {},
   "outputs": [],
   "source": [
    "y['pred'] = y_pred"
   ]
  },
  {
   "cell_type": "code",
   "execution_count": 133,
   "id": "ef4444ef",
   "metadata": {},
   "outputs": [
    {
     "data": {
      "text/html": [
       "<div>\n",
       "<style scoped>\n",
       "    .dataframe tbody tr th:only-of-type {\n",
       "        vertical-align: middle;\n",
       "    }\n",
       "\n",
       "    .dataframe tbody tr th {\n",
       "        vertical-align: top;\n",
       "    }\n",
       "\n",
       "    .dataframe thead th {\n",
       "        text-align: right;\n",
       "    }\n",
       "</style>\n",
       "<table border=\"1\" class=\"dataframe\">\n",
       "  <thead>\n",
       "    <tr style=\"text-align: right;\">\n",
       "      <th></th>\n",
       "      <th>isSexualExploit</th>\n",
       "      <th>pred</th>\n",
       "    </tr>\n",
       "  </thead>\n",
       "  <tbody>\n",
       "    <tr>\n",
       "      <th>0</th>\n",
       "      <td>1.0</td>\n",
       "      <td>0.0</td>\n",
       "    </tr>\n",
       "    <tr>\n",
       "      <th>1</th>\n",
       "      <td>0.0</td>\n",
       "      <td>0.0</td>\n",
       "    </tr>\n",
       "    <tr>\n",
       "      <th>2</th>\n",
       "      <td>0.0</td>\n",
       "      <td>0.0</td>\n",
       "    </tr>\n",
       "    <tr>\n",
       "      <th>3</th>\n",
       "      <td>1.0</td>\n",
       "      <td>1.0</td>\n",
       "    </tr>\n",
       "    <tr>\n",
       "      <th>4</th>\n",
       "      <td>1.0</td>\n",
       "      <td>1.0</td>\n",
       "    </tr>\n",
       "    <tr>\n",
       "      <th>...</th>\n",
       "      <td>...</td>\n",
       "      <td>...</td>\n",
       "    </tr>\n",
       "    <tr>\n",
       "      <th>98584</th>\n",
       "      <td>1.0</td>\n",
       "      <td>1.0</td>\n",
       "    </tr>\n",
       "    <tr>\n",
       "      <th>98585</th>\n",
       "      <td>1.0</td>\n",
       "      <td>1.0</td>\n",
       "    </tr>\n",
       "    <tr>\n",
       "      <th>98586</th>\n",
       "      <td>1.0</td>\n",
       "      <td>1.0</td>\n",
       "    </tr>\n",
       "    <tr>\n",
       "      <th>98587</th>\n",
       "      <td>1.0</td>\n",
       "      <td>1.0</td>\n",
       "    </tr>\n",
       "    <tr>\n",
       "      <th>98588</th>\n",
       "      <td>1.0</td>\n",
       "      <td>1.0</td>\n",
       "    </tr>\n",
       "  </tbody>\n",
       "</table>\n",
       "<p>21103 rows × 2 columns</p>\n",
       "</div>"
      ],
      "text/plain": [
       "       isSexualExploit  pred\n",
       "0                  1.0   0.0\n",
       "1                  0.0   0.0\n",
       "2                  0.0   0.0\n",
       "3                  1.0   1.0\n",
       "4                  1.0   1.0\n",
       "...                ...   ...\n",
       "98584              1.0   1.0\n",
       "98585              1.0   1.0\n",
       "98586              1.0   1.0\n",
       "98587              1.0   1.0\n",
       "98588              1.0   1.0\n",
       "\n",
       "[21103 rows x 2 columns]"
      ]
     },
     "execution_count": 133,
     "metadata": {},
     "output_type": "execute_result"
    }
   ],
   "source": [
    "y"
   ]
  },
  {
   "cell_type": "code",
   "execution_count": 134,
   "id": "0d145b53",
   "metadata": {},
   "outputs": [],
   "source": [
    "y['correct'] = y['isSexualExploit'] == y['pred']"
   ]
  },
  {
   "cell_type": "code",
   "execution_count": 135,
   "id": "578631bd",
   "metadata": {},
   "outputs": [
    {
     "data": {
      "text/plain": [
       "True     18923\n",
       "False     2180\n",
       "Name: correct, dtype: int64"
      ]
     },
     "execution_count": 135,
     "metadata": {},
     "output_type": "execute_result"
    }
   ],
   "source": [
    "y['correct'].value_counts()"
   ]
  },
  {
   "cell_type": "code",
   "execution_count": 136,
   "id": "9ff880e0",
   "metadata": {
    "scrolled": true
   },
   "outputs": [
    {
     "data": {
      "text/html": [
       "<div>\n",
       "<style scoped>\n",
       "    .dataframe tbody tr th:only-of-type {\n",
       "        vertical-align: middle;\n",
       "    }\n",
       "\n",
       "    .dataframe tbody tr th {\n",
       "        vertical-align: top;\n",
       "    }\n",
       "\n",
       "    .dataframe thead th {\n",
       "        text-align: right;\n",
       "    }\n",
       "</style>\n",
       "<table border=\"1\" class=\"dataframe\">\n",
       "  <thead>\n",
       "    <tr style=\"text-align: right;\">\n",
       "      <th></th>\n",
       "      <th>isSexualExploit</th>\n",
       "      <th>pred</th>\n",
       "      <th>correct</th>\n",
       "    </tr>\n",
       "  </thead>\n",
       "  <tbody>\n",
       "    <tr>\n",
       "      <th>0</th>\n",
       "      <td>1.0</td>\n",
       "      <td>0.0</td>\n",
       "      <td>False</td>\n",
       "    </tr>\n",
       "    <tr>\n",
       "      <th>1</th>\n",
       "      <td>0.0</td>\n",
       "      <td>0.0</td>\n",
       "      <td>True</td>\n",
       "    </tr>\n",
       "    <tr>\n",
       "      <th>2</th>\n",
       "      <td>0.0</td>\n",
       "      <td>0.0</td>\n",
       "      <td>True</td>\n",
       "    </tr>\n",
       "    <tr>\n",
       "      <th>3</th>\n",
       "      <td>1.0</td>\n",
       "      <td>1.0</td>\n",
       "      <td>True</td>\n",
       "    </tr>\n",
       "    <tr>\n",
       "      <th>4</th>\n",
       "      <td>1.0</td>\n",
       "      <td>1.0</td>\n",
       "      <td>True</td>\n",
       "    </tr>\n",
       "    <tr>\n",
       "      <th>...</th>\n",
       "      <td>...</td>\n",
       "      <td>...</td>\n",
       "      <td>...</td>\n",
       "    </tr>\n",
       "    <tr>\n",
       "      <th>98584</th>\n",
       "      <td>1.0</td>\n",
       "      <td>1.0</td>\n",
       "      <td>True</td>\n",
       "    </tr>\n",
       "    <tr>\n",
       "      <th>98585</th>\n",
       "      <td>1.0</td>\n",
       "      <td>1.0</td>\n",
       "      <td>True</td>\n",
       "    </tr>\n",
       "    <tr>\n",
       "      <th>98586</th>\n",
       "      <td>1.0</td>\n",
       "      <td>1.0</td>\n",
       "      <td>True</td>\n",
       "    </tr>\n",
       "    <tr>\n",
       "      <th>98587</th>\n",
       "      <td>1.0</td>\n",
       "      <td>1.0</td>\n",
       "      <td>True</td>\n",
       "    </tr>\n",
       "    <tr>\n",
       "      <th>98588</th>\n",
       "      <td>1.0</td>\n",
       "      <td>1.0</td>\n",
       "      <td>True</td>\n",
       "    </tr>\n",
       "  </tbody>\n",
       "</table>\n",
       "<p>21103 rows × 3 columns</p>\n",
       "</div>"
      ],
      "text/plain": [
       "       isSexualExploit  pred  correct\n",
       "0                  1.0   0.0    False\n",
       "1                  0.0   0.0     True\n",
       "2                  0.0   0.0     True\n",
       "3                  1.0   1.0     True\n",
       "4                  1.0   1.0     True\n",
       "...                ...   ...      ...\n",
       "98584              1.0   1.0     True\n",
       "98585              1.0   1.0     True\n",
       "98586              1.0   1.0     True\n",
       "98587              1.0   1.0     True\n",
       "98588              1.0   1.0     True\n",
       "\n",
       "[21103 rows x 3 columns]"
      ]
     },
     "execution_count": 136,
     "metadata": {},
     "output_type": "execute_result"
    }
   ],
   "source": [
    "y"
   ]
  },
  {
   "cell_type": "code",
   "execution_count": 137,
   "id": "94de518e",
   "metadata": {},
   "outputs": [
    {
     "name": "stderr",
     "output_type": "stream",
     "text": [
      "/Users/paloma/.pyenv/versions/3.8.12/envs/ht_project/lib/python3.8/site-packages/sklearn/utils/deprecation.py:87: FutureWarning: Function plot_confusion_matrix is deprecated; Function `plot_confusion_matrix` is deprecated in 1.0 and will be removed in 1.2. Use one of the class methods: ConfusionMatrixDisplay.from_predictions or ConfusionMatrixDisplay.from_estimator.\n",
      "  warnings.warn(msg, category=FutureWarning)\n"
     ]
    },
    {
     "data": {
      "image/png": "[encoded data removed]",
      "text/plain": [
       "<Figure size 432x288 with 2 Axes>"
      ]
     },
     "metadata": {
      "needs_background": "light"
     },
     "output_type": "display_data"
    }
   ],
   "source": [
    "plot_confusion_matrix(classifier, X_proc, y['isSexualExploit'])  \n",
    "plt.show()"
   ]
  },
  {
   "cell_type": "code",
   "execution_count": 138,
   "id": "7690b737",
   "metadata": {},
   "outputs": [],
   "source": [
    "from sklearn.model_selection import train_test_split\n",
    "X_train, X_test, y_train, y_test = train_test_split(X_proc, y['isSexualExploit'], random_state = 1, \n",
    "                                                    test_size= 0.2)"
   ]
  },
  {
   "cell_type": "code",
   "execution_count": 139,
   "id": "12f4cbbe",
   "metadata": {},
   "outputs": [],
   "source": [
    "model = RandomForestClassifier()\n",
    "\n",
    "classifier = model.fit(X_train, y_train.values.flatten())"
   ]
  },
  {
   "cell_type": "code",
   "execution_count": 140,
   "id": "55b259ab",
   "metadata": {
    "scrolled": true
   },
   "outputs": [
    {
     "name": "stderr",
     "output_type": "stream",
     "text": [
      "/Users/paloma/.pyenv/versions/3.8.12/envs/ht_project/lib/python3.8/site-packages/sklearn/utils/deprecation.py:87: FutureWarning: Function plot_confusion_matrix is deprecated; Function `plot_confusion_matrix` is deprecated in 1.0 and will be removed in 1.2. Use one of the class methods: ConfusionMatrixDisplay.from_predictions or ConfusionMatrixDisplay.from_estimator.\n",
      "  warnings.warn(msg, category=FutureWarning)\n"
     ]
    },
    {
     "data": {
      "image/png": "[encoded data removed]",
      "text/plain": [
       "<Figure size 432x288 with 2 Axes>"
      ]
     },
     "metadata": {
      "needs_background": "light"
     },
     "output_type": "display_data"
    }
   ],
   "source": [
    "from sklearn.metrics import plot_confusion_matrix\n",
    "plot_confusion_matrix(classifier, X_train, y_train)  \n",
    "plt.show()"
   ]
  },
  {
   "cell_type": "code",
   "execution_count": 141,
   "id": "739b5f4d",
   "metadata": {},
   "outputs": [
    {
     "name": "stderr",
     "output_type": "stream",
     "text": [
      "/Users/paloma/.pyenv/versions/3.8.12/envs/ht_project/lib/python3.8/site-packages/sklearn/utils/deprecation.py:87: FutureWarning: Function plot_confusion_matrix is deprecated; Function `plot_confusion_matrix` is deprecated in 1.0 and will be removed in 1.2. Use one of the class methods: ConfusionMatrixDisplay.from_predictions or ConfusionMatrixDisplay.from_estimator.\n",
      "  warnings.warn(msg, category=FutureWarning)\n"
     ]
    },
    {
     "data": {
      "image/png": "[encoded data removed]",
      "text/plain": [
       "<Figure size 432x288 with 2 Axes>"
      ]
     },
     "metadata": {
      "needs_background": "light"
     },
     "output_type": "display_data"
    }
   ],
   "source": [
    "from sklearn.metrics import plot_confusion_matrix\n",
    "plot_confusion_matrix(classifier, X_test, y_test)  \n",
    "plt.show()"
   ]
  },
  {
   "cell_type": "code",
   "execution_count": null,
   "id": "dcfab5a2",
   "metadata": {},
   "outputs": [],
   "source": [
    "missing_data = data[data['isSexualExploit'].isna()].copy()"
   ]
  },
  {
   "cell_type": "code",
   "execution_count": null,
   "id": "c458b32f",
   "metadata": {},
   "outputs": [],
   "source": [
    "missing_data = missing_data[['gender', 'departure', 'isSexualExploit', 'ageBroad']].copy()"
   ]
  },
  {
   "cell_type": "code",
   "execution_count": null,
   "id": "56ec4761",
   "metadata": {},
   "outputs": [],
   "source": [
    "missing_data.dropna(subset=['gender', 'departure','ageBroad'], inplace=True)"
   ]
  },
  {
   "cell_type": "code",
   "execution_count": null,
   "id": "f2aa6745",
   "metadata": {},
   "outputs": [],
   "source": [
    "X_missing = missing_data[['gender', 'departure', 'ageBroad']]\n",
    "X_missing_proc = enc.transform(X_missing)"
   ]
  },
  {
   "cell_type": "code",
   "execution_count": null,
   "id": "39eaddfe",
   "metadata": {},
   "outputs": [],
   "source": [
    "y_missing_pred = model.predict(X_missing_proc)"
   ]
  },
  {
   "cell_type": "code",
   "execution_count": null,
   "id": "fd9eb76c",
   "metadata": {},
   "outputs": [],
   "source": [
    "missing_data['pred'] = y_missing_pred"
   ]
  },
  {
   "cell_type": "code",
   "execution_count": null,
   "id": "404dcf0b",
   "metadata": {},
   "outputs": [],
   "source": [
    "missing_data['pred'].value_counts()"
   ]
  },
  {
   "cell_type": "code",
   "execution_count": null,
   "id": "58494b80",
   "metadata": {},
   "outputs": [],
   "source": []
  },
  {
   "cell_type": "code",
   "execution_count": null,
   "id": "639f5e63",
   "metadata": {},
   "outputs": [],
   "source": []
  }
 ],
 "metadata": {
  "kernelspec": {
   "display_name": "Python 3 (ipykernel)",
   "language": "python",
   "name": "python3"
  },
  "language_info": {
   "codemirror_mode": {
    "name": "ipython",
    "version": 3
   },
   "file_extension": ".py",
   "mimetype": "text/x-python",
   "name": "python",
   "nbconvert_exporter": "python",
   "pygments_lexer": "ipython3",
   "version": "3.8.12"
  },
  "toc": {
   "base_numbering": 1,
   "nav_menu": {},
   "number_sections": true,
   "sideBar": true,
   "skip_h1_title": false,
   "title_cell": "Table of Contents",
   "title_sidebar": "Contents",
   "toc_cell": false,
   "toc_position": {},
   "toc_section_display": true,
   "toc_window_display": false
  }
 },
 "nbformat": 4,
 "nbformat_minor": 5
}
