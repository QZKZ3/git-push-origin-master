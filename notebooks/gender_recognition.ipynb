{
 "cells": [
  {
   "cell_type": "markdown",
   "id": "d164b5d4",
   "metadata": {},
   "source": [
    "## Gender Recognition\n"
   ]
  },
  {
   "cell_type": "code",
   "execution_count": 1,
   "id": "050ee524",
   "metadata": {},
   "outputs": [],
   "source": [
    "import pandas as pd\n",
    "import numpy as np"
   ]
  },
  {
   "cell_type": "code",
   "execution_count": 3,
   "id": "40ede62c",
   "metadata": {},
   "outputs": [],
   "source": [
    "data = pd.read_csv(\"../raw_data/database.csv\")"
   ]
  },
  {
   "cell_type": "code",
   "execution_count": 4,
   "id": "f11452ee",
   "metadata": {
    "scrolled": true
   },
   "outputs": [
    {
     "data": {
      "text/html": [
       "<div>\n",
       "<style scoped>\n",
       "    .dataframe tbody tr th:only-of-type {\n",
       "        vertical-align: middle;\n",
       "    }\n",
       "\n",
       "    .dataframe tbody tr th {\n",
       "        vertical-align: top;\n",
       "    }\n",
       "\n",
       "    .dataframe thead th {\n",
       "        text-align: right;\n",
       "    }\n",
       "</style>\n",
       "<table border=\"1\" class=\"dataframe\">\n",
       "  <thead>\n",
       "    <tr style=\"text-align: right;\">\n",
       "      <th></th>\n",
       "      <th>Unnamed: 0</th>\n",
       "      <th>text</th>\n",
       "      <th>name</th>\n",
       "      <th>year</th>\n",
       "      <th>departure</th>\n",
       "      <th>arrival</th>\n",
       "      <th>theme</th>\n",
       "      <th>latitude</th>\n",
       "      <th>longitude</th>\n",
       "      <th>date_slavery</th>\n",
       "    </tr>\n",
       "  </thead>\n",
       "  <tbody>\n",
       "    <tr>\n",
       "      <th>0</th>\n",
       "      <td>0</td>\n",
       "      <td>My name is Vi. And I am 28 years old. I arrive...</td>\n",
       "      <td>Vi</td>\n",
       "      <td>2001</td>\n",
       "      <td>Vietnam</td>\n",
       "      <td>American Samoa</td>\n",
       "      <td>Forced labour</td>\n",
       "      <td>-14.354000</td>\n",
       "      <td>-170.773600</td>\n",
       "      <td>NaN</td>\n",
       "    </tr>\n",
       "    <tr>\n",
       "      <th>1</th>\n",
       "      <td>1</td>\n",
       "      <td>Thank you for the opportunity to testify befor...</td>\n",
       "      <td>Beatrice</td>\n",
       "      <td>2005</td>\n",
       "      <td>Sri Lank</td>\n",
       "      <td>Lebanon</td>\n",
       "      <td>Domestic slavery</td>\n",
       "      <td>33.900000</td>\n",
       "      <td>35.500000</td>\n",
       "      <td>NaN</td>\n",
       "    </tr>\n",
       "    <tr>\n",
       "      <th>2</th>\n",
       "      <td>2</td>\n",
       "      <td>My sister and I were living in a village. We w...</td>\n",
       "      <td>Kavita</td>\n",
       "      <td>2004</td>\n",
       "      <td>Sri Lank</td>\n",
       "      <td>India</td>\n",
       "      <td>Domestic slavery</td>\n",
       "      <td>24.071318</td>\n",
       "      <td>79.652396</td>\n",
       "      <td>2002-2004</td>\n",
       "    </tr>\n",
       "    <tr>\n",
       "      <th>3</th>\n",
       "      <td>3</td>\n",
       "      <td>I grew up in a village of between 500 and 700 ...</td>\n",
       "      <td>Maria</td>\n",
       "      <td>2005</td>\n",
       "      <td>Mexico</td>\n",
       "      <td>United States</td>\n",
       "      <td>Domestic slavery</td>\n",
       "      <td>40.412044</td>\n",
       "      <td>-96.870925</td>\n",
       "      <td>1976-1981</td>\n",
       "    </tr>\n",
       "    <tr>\n",
       "      <th>4</th>\n",
       "      <td>4</td>\n",
       "      <td>I was living in a village, Karko, in the Nuba ...</td>\n",
       "      <td>Mende</td>\n",
       "      <td>2003</td>\n",
       "      <td>Sudan</td>\n",
       "      <td>['Sudan ', 'United Kingdom ']</td>\n",
       "      <td>War slavery</td>\n",
       "      <td>16.865226</td>\n",
       "      <td>32.271106</td>\n",
       "      <td>1994-2000</td>\n",
       "    </tr>\n",
       "  </tbody>\n",
       "</table>\n",
       "</div>"
      ],
      "text/plain": [
       "   Unnamed: 0                                               text      name  \\\n",
       "0           0  My name is Vi. And I am 28 years old. I arrive...        Vi   \n",
       "1           1  Thank you for the opportunity to testify befor...  Beatrice   \n",
       "2           2  My sister and I were living in a village. We w...    Kavita   \n",
       "3           3  I grew up in a village of between 500 and 700 ...     Maria   \n",
       "4           4  I was living in a village, Karko, in the Nuba ...     Mende   \n",
       "\n",
       "   year departure                        arrival             theme   latitude  \\\n",
       "0  2001  Vietnam                 American Samoa      Forced labour -14.354000   \n",
       "1  2005  Sri Lank                       Lebanon   Domestic slavery  33.900000   \n",
       "2  2004  Sri Lank                         India   Domestic slavery  24.071318   \n",
       "3  2005   Mexico                  United States   Domestic slavery  40.412044   \n",
       "4  2003    Sudan   ['Sudan ', 'United Kingdom ']       War slavery  16.865226   \n",
       "\n",
       "    longitude date_slavery  \n",
       "0 -170.773600          NaN  \n",
       "1   35.500000          NaN  \n",
       "2   79.652396    2002-2004  \n",
       "3  -96.870925    1976-1981  \n",
       "4   32.271106    1994-2000  "
      ]
     },
     "execution_count": 4,
     "metadata": {},
     "output_type": "execute_result"
    }
   ],
   "source": [
    "data.head()"
   ]
  },
  {
   "cell_type": "code",
   "execution_count": null,
   "id": "5e862ca3",
   "metadata": {},
   "outputs": [],
   "source": []
  }
 ],
 "metadata": {
  "kernelspec": {
   "display_name": "Python 3 (ipykernel)",
   "language": "python",
   "name": "python3"
  },
  "language_info": {
   "codemirror_mode": {
    "name": "ipython",
    "version": 3
   },
   "file_extension": ".py",
   "mimetype": "text/x-python",
   "name": "python",
   "nbconvert_exporter": "python",
   "pygments_lexer": "ipython3",
   "version": "3.8.12"
  },
  "toc": {
   "base_numbering": 1,
   "nav_menu": {},
   "number_sections": true,
   "sideBar": true,
   "skip_h1_title": false,
   "title_cell": "Table of Contents",
   "title_sidebar": "Contents",
   "toc_cell": false,
   "toc_position": {},
   "toc_section_display": true,
   "toc_window_display": false
  }
 },
 "nbformat": 4,
 "nbformat_minor": 5
}
