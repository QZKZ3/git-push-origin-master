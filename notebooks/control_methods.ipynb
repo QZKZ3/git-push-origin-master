{
 "cells": [
  {
   "cell_type": "code",
   "execution_count": 1,
   "id": "62ffdf85",
   "metadata": {},
   "outputs": [],
   "source": [
    "import pandas as pd\n",
    "import matplotlib.pyplot as plt\n",
    "import seaborn as sns"
   ]
  },
  {
   "cell_type": "code",
   "execution_count": 155,
   "id": "ce8ec61d",
   "metadata": {
    "scrolled": true
   },
   "outputs": [
    {
     "name": "stderr",
     "output_type": "stream",
     "text": [
      "/Users/lega/.pyenv/versions/lewagon/lib/python3.8/site-packages/IPython/core/interactiveshell.py:3444: DtypeWarning: Columns (0,1,4,26,87,89,90,91,92,95,96,100,101,104,108,114,116) have mixed types.Specify dtype option on import or set low_memory=False.\n",
      "  exec(code_obj, self.user_global_ns, self.user_ns)\n"
     ]
    }
   ],
   "source": [
    "HT_df = pd.read_csv('gs://websitehumantrafficking/final_df.csv')"
   ]
  },
  {
   "cell_type": "code",
   "execution_count": 156,
   "id": "17f89a4c",
   "metadata": {},
   "outputs": [
    {
     "data": {
      "text/plain": [
       "array(['female', 'male', 'unknown', 'Female', 'Male', nan,\n",
       "       'Transgender/NonConforming'], dtype=object)"
      ]
     },
     "execution_count": 156,
     "metadata": {},
     "output_type": "execute_result"
    }
   ],
   "source": [
    "HT_df['gender'].unique()"
   ]
  },
  {
   "cell_type": "code",
   "execution_count": 157,
   "id": "c612d0b2",
   "metadata": {},
   "outputs": [],
   "source": [
    "HT_df['gender'].replace({'Male': 'male', 'Female': 'female'}, inplace=True)"
   ]
  },
  {
   "cell_type": "code",
   "execution_count": 158,
   "id": "60f198ab",
   "metadata": {},
   "outputs": [
    {
     "data": {
      "text/plain": [
       "array(['female', 'male', 'unknown', nan, 'Transgender/NonConforming'],\n",
       "      dtype=object)"
      ]
     },
     "execution_count": 158,
     "metadata": {},
     "output_type": "execute_result"
    }
   ],
   "source": [
    "HT_df['gender'].unique()"
   ]
  },
  {
   "cell_type": "code",
   "execution_count": 160,
   "id": "43f3fe02",
   "metadata": {},
   "outputs": [
    {
     "data": {
      "text/plain": [
       "array(['Unknown', '9-17', '0-8', '24-26', '18-20', '21-23', '39-47',\n",
       "       '27-29', '30-38', nan, '48+'], dtype=object)"
      ]
     },
     "execution_count": 160,
     "metadata": {},
     "output_type": "execute_result"
    }
   ],
   "source": [
    "HT_df['ageBroad'].unique()"
   ]
  },
  {
   "cell_type": "code",
   "execution_count": 61,
   "id": "846e384d",
   "metadata": {},
   "outputs": [
    {
     "data": {
      "text/plain": [
       "0        American Samoa\n",
       "1               Lebanon\n",
       "2                 India\n",
       "3         United States\n",
       "4                 Sudan\n",
       "              ...      \n",
       "99103             Libya\n",
       "99104             Libya\n",
       "99105             Libya\n",
       "99106             Libya\n",
       "99107             Libya\n",
       "Name: arrival_1, Length: 99108, dtype: object"
      ]
     },
     "execution_count": 61,
     "metadata": {},
     "output_type": "execute_result"
    }
   ],
   "source": [
    "HT_df['arrival_1']"
   ]
  },
  {
   "cell_type": "code",
   "execution_count": 20,
   "id": "5bc0f49c",
   "metadata": {},
   "outputs": [],
   "source": [
    "scraped_data_only = HT_df[0:1358]"
   ]
  },
  {
   "cell_type": "code",
   "execution_count": 42,
   "id": "75cf1a26",
   "metadata": {},
   "outputs": [],
   "source": [
    "moc_scraped = scraped_data_only.iloc[:,9:26]"
   ]
  },
  {
   "cell_type": "code",
   "execution_count": 48,
   "id": "5e3a6e18",
   "metadata": {
    "scrolled": true
   },
   "outputs": [
    {
     "data": {
      "text/plain": [
       "meansOfControlDebtBondage                 127.0\n",
       "meansOfControlExcessiveWorkingHours       132.0\n",
       "meansOfControlRestrictsMedicalCare         27.0\n",
       "meansOfControlUsesChildren                  0.0\n",
       "control_method_witchcraft                  39.0\n",
       "meansOfControlPhysicalAbuse               831.0\n",
       "meansOfControlPsychologicalAbuse          644.0\n",
       "meansOfControlRestrictsFinancialAccess    213.0\n",
       "meansOfControlRestrictsMovement           391.0\n",
       "meansOfControlSexualAbuse                 277.0\n",
       "meansOfControlTakesEarnings                22.0\n",
       "meansOfControlThreatOfLawEnforcement       90.0\n",
       "meansOfControlThreats                     207.0\n",
       "meansOfControlPsychoactiveSubstances        9.0\n",
       "meansOfControlWithholdsDocuments          251.0\n",
       "meansOfControlWithholdsNecessities        171.0\n",
       "meansOfControlFalsePromises               332.0\n",
       "dtype: float64"
      ]
     },
     "execution_count": 48,
     "metadata": {},
     "output_type": "execute_result"
    }
   ],
   "source": [
    "moc_scraped.sum()"
   ]
  },
  {
   "cell_type": "code",
   "execution_count": 51,
   "id": "ae77d794",
   "metadata": {},
   "outputs": [],
   "source": [
    "moc_scraped_data = pd.DataFrame(moc_scraped.sum(), columns=['sum'])"
   ]
  },
  {
   "cell_type": "code",
   "execution_count": 52,
   "id": "1c27b150",
   "metadata": {},
   "outputs": [
    {
     "data": {
      "text/html": [
       "<div>\n",
       "<style scoped>\n",
       "    .dataframe tbody tr th:only-of-type {\n",
       "        vertical-align: middle;\n",
       "    }\n",
       "\n",
       "    .dataframe tbody tr th {\n",
       "        vertical-align: top;\n",
       "    }\n",
       "\n",
       "    .dataframe thead th {\n",
       "        text-align: right;\n",
       "    }\n",
       "</style>\n",
       "<table border=\"1\" class=\"dataframe\">\n",
       "  <thead>\n",
       "    <tr style=\"text-align: right;\">\n",
       "      <th></th>\n",
       "      <th>sum</th>\n",
       "    </tr>\n",
       "  </thead>\n",
       "  <tbody>\n",
       "    <tr>\n",
       "      <th>meansOfControlDebtBondage</th>\n",
       "      <td>127.0</td>\n",
       "    </tr>\n",
       "    <tr>\n",
       "      <th>meansOfControlExcessiveWorkingHours</th>\n",
       "      <td>132.0</td>\n",
       "    </tr>\n",
       "    <tr>\n",
       "      <th>meansOfControlRestrictsMedicalCare</th>\n",
       "      <td>27.0</td>\n",
       "    </tr>\n",
       "    <tr>\n",
       "      <th>meansOfControlUsesChildren</th>\n",
       "      <td>0.0</td>\n",
       "    </tr>\n",
       "    <tr>\n",
       "      <th>control_method_witchcraft</th>\n",
       "      <td>39.0</td>\n",
       "    </tr>\n",
       "    <tr>\n",
       "      <th>meansOfControlPhysicalAbuse</th>\n",
       "      <td>831.0</td>\n",
       "    </tr>\n",
       "    <tr>\n",
       "      <th>meansOfControlPsychologicalAbuse</th>\n",
       "      <td>644.0</td>\n",
       "    </tr>\n",
       "    <tr>\n",
       "      <th>meansOfControlRestrictsFinancialAccess</th>\n",
       "      <td>213.0</td>\n",
       "    </tr>\n",
       "    <tr>\n",
       "      <th>meansOfControlRestrictsMovement</th>\n",
       "      <td>391.0</td>\n",
       "    </tr>\n",
       "    <tr>\n",
       "      <th>meansOfControlSexualAbuse</th>\n",
       "      <td>277.0</td>\n",
       "    </tr>\n",
       "    <tr>\n",
       "      <th>meansOfControlTakesEarnings</th>\n",
       "      <td>22.0</td>\n",
       "    </tr>\n",
       "    <tr>\n",
       "      <th>meansOfControlThreatOfLawEnforcement</th>\n",
       "      <td>90.0</td>\n",
       "    </tr>\n",
       "    <tr>\n",
       "      <th>meansOfControlThreats</th>\n",
       "      <td>207.0</td>\n",
       "    </tr>\n",
       "    <tr>\n",
       "      <th>meansOfControlPsychoactiveSubstances</th>\n",
       "      <td>9.0</td>\n",
       "    </tr>\n",
       "    <tr>\n",
       "      <th>meansOfControlWithholdsDocuments</th>\n",
       "      <td>251.0</td>\n",
       "    </tr>\n",
       "    <tr>\n",
       "      <th>meansOfControlWithholdsNecessities</th>\n",
       "      <td>171.0</td>\n",
       "    </tr>\n",
       "    <tr>\n",
       "      <th>meansOfControlFalsePromises</th>\n",
       "      <td>332.0</td>\n",
       "    </tr>\n",
       "  </tbody>\n",
       "</table>\n",
       "</div>"
      ],
      "text/plain": [
       "                                          sum\n",
       "meansOfControlDebtBondage               127.0\n",
       "meansOfControlExcessiveWorkingHours     132.0\n",
       "meansOfControlRestrictsMedicalCare       27.0\n",
       "meansOfControlUsesChildren                0.0\n",
       "control_method_witchcraft                39.0\n",
       "meansOfControlPhysicalAbuse             831.0\n",
       "meansOfControlPsychologicalAbuse        644.0\n",
       "meansOfControlRestrictsFinancialAccess  213.0\n",
       "meansOfControlRestrictsMovement         391.0\n",
       "meansOfControlSexualAbuse               277.0\n",
       "meansOfControlTakesEarnings              22.0\n",
       "meansOfControlThreatOfLawEnforcement     90.0\n",
       "meansOfControlThreats                   207.0\n",
       "meansOfControlPsychoactiveSubstances      9.0\n",
       "meansOfControlWithholdsDocuments        251.0\n",
       "meansOfControlWithholdsNecessities      171.0\n",
       "meansOfControlFalsePromises             332.0"
      ]
     },
     "execution_count": 52,
     "metadata": {},
     "output_type": "execute_result"
    }
   ],
   "source": [
    "moc_scraped_data"
   ]
  },
  {
   "cell_type": "code",
   "execution_count": 55,
   "id": "8b052d96",
   "metadata": {
    "scrolled": true
   },
   "outputs": [
    {
     "data": {
      "text/html": [
       "<div>\n",
       "<style scoped>\n",
       "    .dataframe tbody tr th:only-of-type {\n",
       "        vertical-align: middle;\n",
       "    }\n",
       "\n",
       "    .dataframe tbody tr th {\n",
       "        vertical-align: top;\n",
       "    }\n",
       "\n",
       "    .dataframe thead th {\n",
       "        text-align: right;\n",
       "    }\n",
       "</style>\n",
       "<table border=\"1\" class=\"dataframe\">\n",
       "  <thead>\n",
       "    <tr style=\"text-align: right;\">\n",
       "      <th></th>\n",
       "      <th>sum</th>\n",
       "    </tr>\n",
       "  </thead>\n",
       "  <tbody>\n",
       "    <tr>\n",
       "      <th>meansOfControlPhysicalAbuse</th>\n",
       "      <td>831.0</td>\n",
       "    </tr>\n",
       "    <tr>\n",
       "      <th>meansOfControlPsychologicalAbuse</th>\n",
       "      <td>644.0</td>\n",
       "    </tr>\n",
       "    <tr>\n",
       "      <th>meansOfControlRestrictsMovement</th>\n",
       "      <td>391.0</td>\n",
       "    </tr>\n",
       "    <tr>\n",
       "      <th>meansOfControlFalsePromises</th>\n",
       "      <td>332.0</td>\n",
       "    </tr>\n",
       "    <tr>\n",
       "      <th>meansOfControlSexualAbuse</th>\n",
       "      <td>277.0</td>\n",
       "    </tr>\n",
       "    <tr>\n",
       "      <th>meansOfControlWithholdsDocuments</th>\n",
       "      <td>251.0</td>\n",
       "    </tr>\n",
       "    <tr>\n",
       "      <th>meansOfControlRestrictsFinancialAccess</th>\n",
       "      <td>213.0</td>\n",
       "    </tr>\n",
       "    <tr>\n",
       "      <th>meansOfControlThreats</th>\n",
       "      <td>207.0</td>\n",
       "    </tr>\n",
       "    <tr>\n",
       "      <th>meansOfControlWithholdsNecessities</th>\n",
       "      <td>171.0</td>\n",
       "    </tr>\n",
       "    <tr>\n",
       "      <th>meansOfControlExcessiveWorkingHours</th>\n",
       "      <td>132.0</td>\n",
       "    </tr>\n",
       "    <tr>\n",
       "      <th>meansOfControlDebtBondage</th>\n",
       "      <td>127.0</td>\n",
       "    </tr>\n",
       "    <tr>\n",
       "      <th>meansOfControlThreatOfLawEnforcement</th>\n",
       "      <td>90.0</td>\n",
       "    </tr>\n",
       "    <tr>\n",
       "      <th>control_method_witchcraft</th>\n",
       "      <td>39.0</td>\n",
       "    </tr>\n",
       "    <tr>\n",
       "      <th>meansOfControlRestrictsMedicalCare</th>\n",
       "      <td>27.0</td>\n",
       "    </tr>\n",
       "    <tr>\n",
       "      <th>meansOfControlTakesEarnings</th>\n",
       "      <td>22.0</td>\n",
       "    </tr>\n",
       "    <tr>\n",
       "      <th>meansOfControlPsychoactiveSubstances</th>\n",
       "      <td>9.0</td>\n",
       "    </tr>\n",
       "    <tr>\n",
       "      <th>meansOfControlUsesChildren</th>\n",
       "      <td>0.0</td>\n",
       "    </tr>\n",
       "  </tbody>\n",
       "</table>\n",
       "</div>"
      ],
      "text/plain": [
       "                                          sum\n",
       "meansOfControlPhysicalAbuse             831.0\n",
       "meansOfControlPsychologicalAbuse        644.0\n",
       "meansOfControlRestrictsMovement         391.0\n",
       "meansOfControlFalsePromises             332.0\n",
       "meansOfControlSexualAbuse               277.0\n",
       "meansOfControlWithholdsDocuments        251.0\n",
       "meansOfControlRestrictsFinancialAccess  213.0\n",
       "meansOfControlThreats                   207.0\n",
       "meansOfControlWithholdsNecessities      171.0\n",
       "meansOfControlExcessiveWorkingHours     132.0\n",
       "meansOfControlDebtBondage               127.0\n",
       "meansOfControlThreatOfLawEnforcement     90.0\n",
       "control_method_witchcraft                39.0\n",
       "meansOfControlRestrictsMedicalCare       27.0\n",
       "meansOfControlTakesEarnings              22.0\n",
       "meansOfControlPsychoactiveSubstances      9.0\n",
       "meansOfControlUsesChildren                0.0"
      ]
     },
     "execution_count": 55,
     "metadata": {},
     "output_type": "execute_result"
    }
   ],
   "source": [
    "moc_scraped_data.sort_values(by='sum', ascending=False)"
   ]
  },
  {
   "cell_type": "code",
   "execution_count": 4,
   "id": "5204b9fb",
   "metadata": {},
   "outputs": [],
   "source": [
    "MoC_data_bar = HT_df[(HT_df.meansOfControlConcatenated.notna())].\\\n",
    "meansOfControlConcatenated.apply(lambda x: pd.value_counts(str(x).split(\";\"))).sum(axis = 0)"
   ]
  },
  {
   "cell_type": "code",
   "execution_count": 7,
   "id": "f876306a",
   "metadata": {
    "scrolled": true
   },
   "outputs": [
    {
     "data": {
      "text/plain": [
       "Not specified                 25475.0\n",
       "Threats                       11882.0\n",
       "Psychological abuse           11865.0\n",
       "Restricts movement            10590.0\n",
       "Takes earnings                 8004.0\n",
       "Other                          6802.0\n",
       "Physical abuse                 6613.0\n",
       "Psychoactive substances        6041.0\n",
       "Excessive working hours        5387.0\n",
       "False promises                 5333.0\n",
       "Withholds documents            4535.0\n",
       "Withholds necessities          4480.0\n",
       "Threat of law enforcement      4421.0\n",
       "Sexual abuse                   4163.0\n",
       "Debt bondage                   3866.0\n",
       "Physical Abuse                 1890.0\n",
       "Restricts medical care         1871.0\n",
       "Restricts financial access      463.0\n",
       "Uses children                   337.0\n",
       "Withholds necessitie             15.0\n",
       "dtype: float64"
      ]
     },
     "execution_count": 7,
     "metadata": {},
     "output_type": "execute_result"
    }
   ],
   "source": [
    "MoC_data_bar.sort_values(ascending=False)"
   ]
  },
  {
   "cell_type": "code",
   "execution_count": 15,
   "id": "4c785ea8",
   "metadata": {},
   "outputs": [],
   "source": [
    "means_of_control_top = MoC_data_bar.sort_values(ascending=False).head()"
   ]
  },
  {
   "cell_type": "code",
   "execution_count": 16,
   "id": "c0c9631c",
   "metadata": {},
   "outputs": [
    {
     "data": {
      "text/plain": [
       "Not specified          25475.0\n",
       "Threats                11882.0\n",
       "Psychological abuse    11865.0\n",
       "Restricts movement     10590.0\n",
       "Takes earnings          8004.0\n",
       "dtype: float64"
      ]
     },
     "execution_count": 16,
     "metadata": {},
     "output_type": "execute_result"
    }
   ],
   "source": [
    "means_of_control_top"
   ]
  },
  {
   "cell_type": "code",
   "execution_count": 17,
   "id": "e9bbdbaf",
   "metadata": {
    "scrolled": true
   },
   "outputs": [
    {
     "name": "stderr",
     "output_type": "stream",
     "text": [
      "/Users/lega/.pyenv/versions/lewagon/lib/python3.8/site-packages/seaborn/_decorators.py:36: FutureWarning: Pass the following variables as keyword args: x, y. From version 0.12, the only valid positional argument will be `data`, and passing other arguments without an explicit keyword will result in an error or misinterpretation.\n",
      "  warnings.warn(\n"
     ]
    },
    {
     "data": {
      "image/png": "[encoded data removed]",
      "text/plain": [
       "<Figure size 1800x1080 with 1 Axes>"
      ]
     },
     "metadata": {
      "needs_background": "light"
     },
     "output_type": "display_data"
    }
   ],
   "source": [
    "fig = plt.figure(figsize=(25,15))\n",
    "ax = sns.barplot(means_of_control_top.index, means_of_control_top.values)"
   ]
  },
  {
   "cell_type": "code",
   "execution_count": 122,
   "id": "a6bd1334",
   "metadata": {},
   "outputs": [],
   "source": [
    "def bar_from_moc_country(htdf, country_name):\n",
    "    country = htdf[htdf['departure']==country_name].reset_index()\n",
    "    MoC_data_bar = country[(country.meansOfControlConcatenated.notna())].\\\n",
    "    meansOfControlConcatenated.apply(lambda x: pd.value_counts(str(x).split(\";\"))).sum(axis = 0)\n",
    "    \n",
    "    means_of_control_top = MoC_data_bar.sort_values(ascending=False).head()\n",
    "    \n",
    "    fig = plt.figure(figsize=(20,7))\n",
    "    ax = sns.barplot(means_of_control_top.index, means_of_control_top.values)\n",
    "    return ax"
   ]
  },
  {
   "cell_type": "code",
   "execution_count": 116,
   "id": "e7e34ba2",
   "metadata": {},
   "outputs": [
    {
     "name": "stderr",
     "output_type": "stream",
     "text": [
      "/Users/lega/.pyenv/versions/lewagon/lib/python3.8/site-packages/seaborn/_decorators.py:36: FutureWarning: Pass the following variables as keyword args: x, y. From version 0.12, the only valid positional argument will be `data`, and passing other arguments without an explicit keyword will result in an error or misinterpretation.\n",
      "  warnings.warn(\n"
     ]
    },
    {
     "data": {
      "text/plain": [
       "<AxesSubplot:>"
      ]
     },
     "execution_count": 116,
     "metadata": {},
     "output_type": "execute_result"
    },
    {
     "data": {
      "image/png": "[encoded data removed]",
      "text/plain": [
       "<Figure size 1440x504 with 1 Axes>"
      ]
     },
     "metadata": {
      "needs_background": "light"
     },
     "output_type": "display_data"
    }
   ],
   "source": [
    "bar_from_moc_country(HT_df, 'India')"
   ]
  },
  {
   "cell_type": "code",
   "execution_count": 117,
   "id": "0bbb594c",
   "metadata": {
    "scrolled": false
   },
   "outputs": [
    {
     "name": "stderr",
     "output_type": "stream",
     "text": [
      "/Users/lega/.pyenv/versions/lewagon/lib/python3.8/site-packages/seaborn/_decorators.py:36: FutureWarning: Pass the following variables as keyword args: x, y. From version 0.12, the only valid positional argument will be `data`, and passing other arguments without an explicit keyword will result in an error or misinterpretation.\n",
      "  warnings.warn(\n"
     ]
    },
    {
     "data": {
      "text/plain": [
       "<AxesSubplot:>"
      ]
     },
     "execution_count": 117,
     "metadata": {},
     "output_type": "execute_result"
    },
    {
     "data": {
      "image/png": "[encoded data removed]",
      "text/plain": [
       "<Figure size 1440x504 with 1 Axes>"
      ]
     },
     "metadata": {
      "needs_background": "light"
     },
     "output_type": "display_data"
    }
   ],
   "source": [
    "bar_from_moc_country(HT_df, 'United States')"
   ]
  },
  {
   "cell_type": "code",
   "execution_count": 148,
   "id": "dd1df968",
   "metadata": {},
   "outputs": [],
   "source": [
    "def bar_from_moc_gender(htdf, gender_name):\n",
    "    gen = htdf[htdf['gender']==gender_name].reset_index()\n",
    "    MoC_data_bar = gen[(gen.meansOfControlConcatenated.notna())].\\\n",
    "    meansOfControlConcatenated.apply(lambda x: pd.value_counts(str(x).split(\";\"))).sum(axis = 0)\n",
    "    \n",
    "    means_of_control_top = MoC_data_bar.sort_values(ascending=False).head()\n",
    "    \n",
    "    fig = plt.figure(figsize=(20,7))\n",
    "    ax = sns.barplot(means_of_control_top.index, means_of_control_top.values)\n",
    "    return ax"
   ]
  },
  {
   "cell_type": "code",
   "execution_count": 149,
   "id": "5287d05e",
   "metadata": {},
   "outputs": [
    {
     "name": "stderr",
     "output_type": "stream",
     "text": [
      "/Users/lega/.pyenv/versions/lewagon/lib/python3.8/site-packages/seaborn/_decorators.py:36: FutureWarning: Pass the following variables as keyword args: x, y. From version 0.12, the only valid positional argument will be `data`, and passing other arguments without an explicit keyword will result in an error or misinterpretation.\n",
      "  warnings.warn(\n"
     ]
    },
    {
     "data": {
      "text/plain": [
       "<AxesSubplot:>"
      ]
     },
     "execution_count": 149,
     "metadata": {},
     "output_type": "execute_result"
    },
    {
     "data": {
      "image/png": "[encoded data removed]",
      "text/plain": [
       "<Figure size 1440x504 with 1 Axes>"
      ]
     },
     "metadata": {
      "needs_background": "light"
     },
     "output_type": "display_data"
    }
   ],
   "source": [
    "#MoC female victims: mostly undocumented Moc, psychological abuse, movement restriction, threats, physical abuse\n",
    "\n",
    "bar_from_moc_gender(HT_df, 'female')\n"
   ]
  },
  {
   "cell_type": "code",
   "execution_count": 150,
   "id": "3681b741",
   "metadata": {},
   "outputs": [
    {
     "name": "stderr",
     "output_type": "stream",
     "text": [
      "/Users/lega/.pyenv/versions/lewagon/lib/python3.8/site-packages/seaborn/_decorators.py:36: FutureWarning: Pass the following variables as keyword args: x, y. From version 0.12, the only valid positional argument will be `data`, and passing other arguments without an explicit keyword will result in an error or misinterpretation.\n",
      "  warnings.warn(\n"
     ]
    },
    {
     "data": {
      "text/plain": [
       "<AxesSubplot:>"
      ]
     },
     "execution_count": 150,
     "metadata": {},
     "output_type": "execute_result"
    },
    {
     "data": {
      "image/png": "[encoded data removed]",
      "text/plain": [
       "<Figure size 1440x504 with 1 Axes>"
      ]
     },
     "metadata": {
      "needs_background": "light"
     },
     "output_type": "display_data"
    }
   ],
   "source": [
    "#MoC male victims: psychological abuse, wages taken, made to work excessive hours, threats, false promises\n",
    "\n",
    "bar_from_moc_gender(HT_df, 'male')\n"
   ]
  },
  {
   "cell_type": "code",
   "execution_count": 151,
   "id": "19df5ac1",
   "metadata": {},
   "outputs": [
    {
     "name": "stderr",
     "output_type": "stream",
     "text": [
      "/Users/lega/.pyenv/versions/lewagon/lib/python3.8/site-packages/seaborn/_decorators.py:36: FutureWarning: Pass the following variables as keyword args: x, y. From version 0.12, the only valid positional argument will be `data`, and passing other arguments without an explicit keyword will result in an error or misinterpretation.\n",
      "  warnings.warn(\n"
     ]
    },
    {
     "data": {
      "text/plain": [
       "<AxesSubplot:>"
      ]
     },
     "execution_count": 151,
     "metadata": {},
     "output_type": "execute_result"
    },
    {
     "data": {
      "image/png": "[encoded data removed]",
      "text/plain": [
       "<Figure size 1440x504 with 1 Axes>"
      ]
     },
     "metadata": {
      "needs_background": "light"
     },
     "output_type": "display_data"
    }
   ],
   "source": [
    "#MoC transgender/gender nonconforming victims: mostly undocumented Moc, threats, psychoactive substances, movement restriction, physical abuse\n",
    "bar_from_moc_gender(HT_df, 'Transgender/NonConforming')\n"
   ]
  },
  {
   "cell_type": "code",
   "execution_count": 152,
   "id": "008342b2",
   "metadata": {},
   "outputs": [],
   "source": [
    "def bar_from_moc_age(htdf, age_group):\n",
    "    age_broad = htdf[htdf['ageBroad']==age_group].reset_index()\n",
    "    MoC_data_bar = age_broad[(age_broad.meansOfControlConcatenated.notna())].\\\n",
    "    meansOfControlConcatenated.apply(lambda x: pd.value_counts(str(x).split(\";\"))).sum(axis = 0)\n",
    "    \n",
    "    means_of_control_top = MoC_data_bar.sort_values(ascending=False).head()\n",
    "    \n",
    "    fig = plt.figure(figsize=(20,7))\n",
    "    ax = sns.barplot(means_of_control_top.index, means_of_control_top.values)\n",
    "    return ax"
   ]
  },
  {
   "cell_type": "code",
   "execution_count": 163,
   "id": "3274b48c",
   "metadata": {},
   "outputs": [
    {
     "name": "stderr",
     "output_type": "stream",
     "text": [
      "/Users/lega/.pyenv/versions/lewagon/lib/python3.8/site-packages/seaborn/_decorators.py:36: FutureWarning: Pass the following variables as keyword args: x, y. From version 0.12, the only valid positional argument will be `data`, and passing other arguments without an explicit keyword will result in an error or misinterpretation.\n",
      "  warnings.warn(\n"
     ]
    },
    {
     "data": {
      "text/plain": [
       "<AxesSubplot:>"
      ]
     },
     "execution_count": 163,
     "metadata": {},
     "output_type": "execute_result"
    },
    {
     "data": {
      "image/png": "[encoded data removed]",
      "text/plain": [
       "<Figure size 1440x504 with 1 Axes>"
      ]
     },
     "metadata": {
      "needs_background": "light"
     },
     "output_type": "display_data"
    }
   ],
   "source": [
    "bar_from_moc_age(HT_df, '39-47')"
   ]
  },
  {
   "cell_type": "code",
   "execution_count": null,
   "id": "307a8f70",
   "metadata": {},
   "outputs": [],
   "source": [
    "gen = htdf[htdf['gender']==gender_name].reset_index()\n",
    "age = gen[gen['ageBroad']==age_group].reset_index()"
   ]
  },
  {
   "cell_type": "code",
   "execution_count": 164,
   "id": "e9d65060",
   "metadata": {},
   "outputs": [],
   "source": [
    "def bar_from_moc_gender_age(htdf, gender_name, age_group):\n",
    "    gen = htdf[htdf['gender']==gender_name].reset_index()\n",
    "    age_broad = gen[gen['ageBroad']==age_group].reset_index()\n",
    "    MoC_data_bar = age_broad[(age_broad.meansOfControlConcatenated.notna())].\\\n",
    "    meansOfControlConcatenated.apply(lambda x: pd.value_counts(str(x).split(\";\"))).sum(axis = 0)\n",
    "    \n",
    "    means_of_control_top = MoC_data_bar.sort_values(ascending=False).head()\n",
    "    \n",
    "    fig = plt.figure(figsize=(20,7))\n",
    "    ax = sns.barplot(means_of_control_top.index, means_of_control_top.values)\n",
    "    return ax"
   ]
  },
  {
   "cell_type": "code",
   "execution_count": 166,
   "id": "eccabc2d",
   "metadata": {},
   "outputs": [
    {
     "name": "stderr",
     "output_type": "stream",
     "text": [
      "/Users/lega/.pyenv/versions/lewagon/lib/python3.8/site-packages/seaborn/_decorators.py:36: FutureWarning: Pass the following variables as keyword args: x, y. From version 0.12, the only valid positional argument will be `data`, and passing other arguments without an explicit keyword will result in an error or misinterpretation.\n",
      "  warnings.warn(\n"
     ]
    },
    {
     "data": {
      "text/plain": [
       "<AxesSubplot:>"
      ]
     },
     "execution_count": 166,
     "metadata": {},
     "output_type": "execute_result"
    },
    {
     "data": {
      "image/png": "[encoded data removed]",
      "text/plain": [
       "<Figure size 1440x504 with 1 Axes>"
      ]
     },
     "metadata": {
      "needs_background": "light"
     },
     "output_type": "display_data"
    }
   ],
   "source": [
    "bar_from_moc_gender_age(HT_df, 'male', '48+')"
   ]
  },
  {
   "cell_type": "code",
   "execution_count": 181,
   "id": "8eb2d9a4",
   "metadata": {},
   "outputs": [],
   "source": [
    "import numpy as np\n",
    "def bar_from_moc_gender_age(htdf, country_name=-1, gender_name=-1, age_group=-1):\n",
    "    if country_name != -1:\n",
    "        country = htdf[htdf['arrival_1']==country_name].reset_index(drop=True)\n",
    "    else:\n",
    "        country = htdf\n",
    "    if gender_name != -1:\n",
    "        gen = country[country['gender']==gender_name].reset_index(drop=True)\n",
    "    else:\n",
    "        gen = country\n",
    "    if age_group != -1:\n",
    "        age_broad = gen[gen['ageBroad']==age_group].reset_index(drop=True)\n",
    "    else:\n",
    "        age_broad = gen\n",
    "        \n",
    "#     country = htdf[htdf['arrival_1']==country_name].reset_index()\n",
    "#     gen = country[country['gender']==gender_name].reset_index()\n",
    "#     age_broad = gen[gen['ageBroad']==age_group].reset_index()\n",
    "    MoC_data_bar = age_broad[(age_broad.meansOfControlConcatenated.notna())].\\\n",
    "    meansOfControlConcatenated.apply(lambda x: pd.value_counts(str(x).split(\";\"))).sum(axis = 0)\n",
    "    \n",
    "    means_of_control_top = MoC_data_bar.sort_values(ascending=False).head()\n",
    "    \n",
    "    fig = plt.figure(figsize=(20,7))\n",
    "    ax = sns.barplot(means_of_control_top.index, means_of_control_top.values)\n",
    "    return ax"
   ]
  },
  {
   "cell_type": "code",
   "execution_count": 196,
   "id": "9413fd87",
   "metadata": {},
   "outputs": [
    {
     "name": "stderr",
     "output_type": "stream",
     "text": [
      "/Users/lega/.pyenv/versions/lewagon/lib/python3.8/site-packages/seaborn/_decorators.py:36: FutureWarning: Pass the following variables as keyword args: x, y. From version 0.12, the only valid positional argument will be `data`, and passing other arguments without an explicit keyword will result in an error or misinterpretation.\n",
      "  warnings.warn(\n"
     ]
    },
    {
     "data": {
      "text/plain": [
       "<AxesSubplot:>"
      ]
     },
     "execution_count": 196,
     "metadata": {},
     "output_type": "execute_result"
    },
    {
     "data": {
      "image/png": "[encoded data removed]",
      "text/plain": [
       "<Figure size 1440x504 with 1 Axes>"
      ]
     },
     "metadata": {
      "needs_background": "light"
     },
     "output_type": "display_data"
    }
   ],
   "source": [
    "bar_from_moc_gender_age(HT_df, country_name = 'United States', gender_name = 'female', age_group='48+')\n",
    "#use drop down list in web page to avoid getting null returns/ errors"
   ]
  },
  {
   "cell_type": "code",
   "execution_count": null,
   "id": "b1ae835b",
   "metadata": {},
   "outputs": [],
   "source": []
  }
 ],
 "metadata": {
  "kernelspec": {
   "display_name": "lewagon",
   "language": "python",
   "name": "lewagon"
  },
  "language_info": {
   "codemirror_mode": {
    "name": "ipython",
    "version": 3
   },
   "file_extension": ".py",
   "mimetype": "text/x-python",
   "name": "python",
   "nbconvert_exporter": "python",
   "pygments_lexer": "ipython3",
   "version": "3.8.12"
  },
  "toc": {
   "base_numbering": 1,
   "nav_menu": {},
   "number_sections": true,
   "sideBar": true,
   "skip_h1_title": false,
   "title_cell": "Table of Contents",
   "title_sidebar": "Contents",
   "toc_cell": false,
   "toc_position": {},
   "toc_section_display": true,
   "toc_window_display": false
  }
 },
 "nbformat": 4,
 "nbformat_minor": 5
}
