{
 "cells": [
  {
   "cell_type": "code",
   "execution_count": 1,
   "id": "f684e64f",
   "metadata": {},
   "outputs": [],
   "source": [
    "import joblib"
   ]
  },
  {
   "cell_type": "code",
   "execution_count": 2,
   "id": "08901025",
   "metadata": {},
   "outputs": [],
   "source": [
    "model_sexualexploit = joblib.load('test_IsSexualExploit.joblib')"
   ]
  },
  {
   "cell_type": "code",
   "execution_count": 3,
   "id": "42b467aa",
   "metadata": {},
   "outputs": [],
   "source": [
    "my_X = [['female', 'Vietnam', '48+']]"
   ]
  },
  {
   "cell_type": "code",
   "execution_count": 4,
   "id": "04bf0d50",
   "metadata": {},
   "outputs": [
    {
     "name": "stderr",
     "output_type": "stream",
     "text": [
      "/Users/paloma/.pyenv/versions/3.8.12/envs/ht_project/lib/python3.8/site-packages/sklearn/base.py:445: UserWarning: X does not have valid feature names, but OrdinalEncoder was fitted with feature names\n",
      "  warnings.warn(\n"
     ]
    },
    {
     "data": {
      "text/plain": [
       "array([1.])"
      ]
     },
     "execution_count": 4,
     "metadata": {},
     "output_type": "execute_result"
    }
   ],
   "source": [
    "model_sexualexploit.predict(my_X)"
   ]
  },
  {
   "cell_type": "code",
   "execution_count": 7,
   "id": "85ef0abb",
   "metadata": {},
   "outputs": [
    {
     "name": "stderr",
     "output_type": "stream",
     "text": [
      "/Users/paloma/.pyenv/versions/3.8.12/envs/ht_project/lib/python3.8/site-packages/sklearn/base.py:445: UserWarning: X does not have valid feature names, but OrdinalEncoder was fitted with feature names\n",
      "  warnings.warn(\n"
     ]
    },
    {
     "data": {
      "text/plain": [
       "0.44652489177489185"
      ]
     },
     "execution_count": 7,
     "metadata": {},
     "output_type": "execute_result"
    }
   ],
   "source": [
    "model_sexualexploit.predict_proba(my_X)[0][0]"
   ]
  },
  {
   "cell_type": "code",
   "execution_count": null,
   "id": "79559453",
   "metadata": {},
   "outputs": [],
   "source": []
  }
 ],
 "metadata": {
  "kernelspec": {
   "display_name": "Python 3 (ipykernel)",
   "language": "python",
   "name": "python3"
  },
  "language_info": {
   "codemirror_mode": {
    "name": "ipython",
    "version": 3
   },
   "file_extension": ".py",
   "mimetype": "text/x-python",
   "name": "python",
   "nbconvert_exporter": "python",
   "pygments_lexer": "ipython3",
   "version": "3.8.12"
  },
  "toc": {
   "base_numbering": 1,
   "nav_menu": {},
   "number_sections": true,
   "sideBar": true,
   "skip_h1_title": false,
   "title_cell": "Table of Contents",
   "title_sidebar": "Contents",
   "toc_cell": false,
   "toc_position": {},
   "toc_section_display": true,
   "toc_window_display": false
  }
 },
 "nbformat": 4,
 "nbformat_minor": 5
}
