{
 "cells": [
  {
   "cell_type": "code",
   "execution_count": 1,
   "id": "70715eed",
   "metadata": {},
   "outputs": [],
   "source": [
    "import pandas as pd\n",
    "import numpy as np"
   ]
  },
  {
   "cell_type": "code",
   "execution_count": 2,
   "id": "e3770310",
   "metadata": {},
   "outputs": [
    {
     "name": "stderr",
     "output_type": "stream",
     "text": [
      "/Users/paloma/.pyenv/versions/3.8.12/envs/ht_project/lib/python3.8/site-packages/IPython/core/interactiveshell.py:3444: DtypeWarning: Columns (6,55,57) have mixed types.Specify dtype option on import or set low_memory=False.\n",
      "  exec(code_obj, self.user_global_ns, self.user_ns)\n"
     ]
    }
   ],
   "source": [
    "kaggle = pd.read_csv(\"/Users/paloma/Downloads/The_Global_K-anon_Dataset_15_July_2021 - CTDC_K_anon_ds.csv\")\n",
    "data = pd.read_csv(\"/Users/paloma/Downloads/df_year_cleaned_and_age_groups.csv\")\n",
    "data2 = pd.read_csv(\"dfht_25-11_17-08.csv\")"
   ]
  },
  {
   "cell_type": "code",
   "execution_count": null,
   "id": "2a84bdc3",
   "metadata": {},
   "outputs": [],
   "source": []
  },
  {
   "cell_type": "code",
   "execution_count": 3,
   "id": "1461e361",
   "metadata": {},
   "outputs": [],
   "source": [
    "data3 = data2[['url', 'arrival_1', 'arrival_2', 'arrival_3',\n",
    "       'theme_1', 'theme_2', 'date_slavery_from', 'date_slavery_to',\n",
    "       'bought_sold_for', 'any_money_mention']]"
   ]
  },
  {
   "cell_type": "code",
   "execution_count": 4,
   "id": "3640a57d",
   "metadata": {},
   "outputs": [],
   "source": [
    "final = data.merge(data3, how='inner', right_index=True, left_index=True)"
   ]
  },
  {
   "cell_type": "code",
   "execution_count": 5,
   "id": "a55cb003",
   "metadata": {},
   "outputs": [
    {
     "data": {
      "text/plain": [
       "Index(['text', 'name', 'year', 'departure', 'arrival', 'theme', 'latitude',\n",
       "       'longitude', 'date_slavery', 'gender', 'accuracy',\n",
       "       'meansOfControlDebtBondage', 'meansOfControlExcessiveWorkingHours',\n",
       "       'meansOfControlRestrictsMedicalCare', 'meansOfControlUsesChildren',\n",
       "       'control_method_witchcraft', 'meansOfControlPhysicalAbuse',\n",
       "       'meansOfControlPsychologicalAbuse',\n",
       "       'meansOfControlRestrictsFinancialAccess',\n",
       "       'meansOfControlRestrictsMovement', 'meansOfControlSexualAbuse',\n",
       "       'meansOfControlTakesEarnings', 'meansOfControlThreatOfLawEnforcement',\n",
       "       'meansOfControlThreats', 'meansOfControlPsychoactiveSubstances',\n",
       "       'meansOfControlWithholdsDocuments',\n",
       "       'meansOfControlWithholdsNecessities', 'meansOfControlFalsePromises',\n",
       "       'RecruiterRelationship', 'isAbduction', 'rec_method_online',\n",
       "       'rec_method_recagency', 'recruiterRelationIntimatePartner',\n",
       "       'recruiterRelationFamily', 'rec_method_social_media', 'traf_type_child',\n",
       "       'isSexualExploit', 'isForcedLabour', 'isForcedMarriage',\n",
       "       'traf_type_cmarriage', 'traf_type_domestic', 'traf_type_fcriminality',\n",
       "       'isForcedMilitary', 'traf_type_fpregnancy', 'traf_type_illegaladoption',\n",
       "       'isOrganRemoval', 'typeOfLabourHospitality', 'typeOfLabourAgriculture',\n",
       "       'typeOfLabourAquafarming', 'traf_industry_cleaning',\n",
       "       'typeOfLabourConstruction', 'typeOfLabourDomesticWork',\n",
       "       'typeOfLabourIllicitActivities', 'traf_subtype_forestry',\n",
       "       'traf_subtype_foodprocessing', 'traf_subtype_forcedbegging',\n",
       "       'traf_subtype_healthcare', 'traf_subtype_healthbeauty',\n",
       "       'traf_subtype_landscaping', 'typeOfLabourManufacturing',\n",
       "       'traf_industry_clothes_manufacturing', 'typeOfLabourMiningOrDrilling',\n",
       "       'typeOfSexProstitution', 'typeOfSexPornography',\n",
       "       'typeOfSexRemoteInteractiveServices', 'traf_industry_retail',\n",
       "       'traf_industry_sexualservitude', 'traf_industry_benefitfraud',\n",
       "       'transport_plane', 'transport_boat', 'transport_bus', 'transport_ferry',\n",
       "       'transport_motorbike', 'transport_onfoot', 'transport_car',\n",
       "       'transport_shippingcontainer', 'transport_taxi', 'transport_train',\n",
       "       'transport_truck', 'age_0_to_8', 'age_9_to_17', 'age_18_to_20',\n",
       "       'age_21_to_23', 'age_24_to_26', 'age_27_to_29', 'age_30-38',\n",
       "       'age_39_47', 'age_48+', 'ageBroad', 'url', 'arrival_1', 'arrival_2',\n",
       "       'arrival_3', 'theme_1', 'theme_2', 'date_slavery_from',\n",
       "       'date_slavery_to', 'bought_sold_for', 'any_money_mention'],\n",
       "      dtype='object')"
      ]
     },
     "execution_count": 5,
     "metadata": {},
     "output_type": "execute_result"
    }
   ],
   "source": [
    "final.columns "
   ]
  },
  {
   "cell_type": "code",
   "execution_count": 8,
   "id": "4ea53fa8",
   "metadata": {},
   "outputs": [],
   "source": [
    "#Rename citizenship as departure\n",
    "kaggle = kaggle.rename(columns={\"citizenship\": \"departure\", \"CountryOfExploitation\": \"arrival_1\"})"
   ]
  },
  {
   "cell_type": "code",
   "execution_count": 10,
   "id": "025ffacc",
   "metadata": {},
   "outputs": [],
   "source": [
    "kaggle = kaggle.drop(columns = 'By using this data you agree to the Terms of Use: https://www.ctdatacollaborative.org/terms-use')"
   ]
  },
  {
   "cell_type": "code",
   "execution_count": 11,
   "id": "4809affd",
   "metadata": {},
   "outputs": [],
   "source": [
    "df_29_11_09_46 =pd.concat([final,kaggle], axis=0, ignore_index=True)"
   ]
  },
  {
   "cell_type": "code",
   "execution_count": 16,
   "id": "c5974564",
   "metadata": {},
   "outputs": [],
   "source": [
    "df_29_11_09_46=df_29_11_09_46.drop(columns = [\"date_slavery\",\"theme\"])"
   ]
  },
  {
   "cell_type": "code",
   "execution_count": 19,
   "id": "c5f16c76",
   "metadata": {},
   "outputs": [],
   "source": [
    "df_29_11_09_46.to_csv('dfht_29_11_09_54.csv')"
   ]
  },
  {
   "cell_type": "code",
   "execution_count": null,
   "id": "3ddea433",
   "metadata": {},
   "outputs": [],
   "source": []
  }
 ],
 "metadata": {
  "kernelspec": {
   "display_name": "Python 3 (ipykernel)",
   "language": "python",
   "name": "python3"
  },
  "language_info": {
   "codemirror_mode": {
    "name": "ipython",
    "version": 3
   },
   "file_extension": ".py",
   "mimetype": "text/x-python",
   "name": "python",
   "nbconvert_exporter": "python",
   "pygments_lexer": "ipython3",
   "version": "3.8.12"
  },
  "toc": {
   "base_numbering": 1,
   "nav_menu": {},
   "number_sections": true,
   "sideBar": true,
   "skip_h1_title": false,
   "title_cell": "Table of Contents",
   "title_sidebar": "Contents",
   "toc_cell": false,
   "toc_position": {},
   "toc_section_display": true,
   "toc_window_display": false
  }
 },
 "nbformat": 4,
 "nbformat_minor": 5
}
