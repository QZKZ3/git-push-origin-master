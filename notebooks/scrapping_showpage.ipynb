{
 "cells": [
  {
   "cell_type": "code",
   "execution_count": 1,
   "id": "e89586c6",
   "metadata": {},
   "outputs": [],
   "source": [
    "import pandas as pd\n",
    "import re\n",
    "import requests\n",
    "from bs4 import BeautifulSoup"
   ]
  },
  {
   "cell_type": "code",
   "execution_count": 77,
   "id": "7dc6aa24",
   "metadata": {},
   "outputs": [],
   "source": [
    "response = requests.get(\"http://antislavery.ac.uk/items/show/2632\")\n",
    "soup = BeautifulSoup(response.content, \"html.parser\")"
   ]
  },
  {
   "cell_type": "code",
   "execution_count": 78,
   "id": "0736c40f",
   "metadata": {},
   "outputs": [
    {
     "data": {
      "text/plain": [
       "'Yar'"
      ]
     },
     "execution_count": 78,
     "metadata": {},
     "output_type": "execute_result"
    }
   ],
   "source": [
    "name = soup.find(\"h3\", class_ =\"item-title__title\")\n",
    "name.text.split()[0]"
   ]
  },
  {
   "cell_type": "code",
   "execution_count": 79,
   "id": "3722263e",
   "metadata": {},
   "outputs": [
    {
     "data": {
      "text/plain": [
       "[{'name': 'Yar', 'narrative_year': '2014'}]"
      ]
     },
     "execution_count": 79,
     "metadata": {},
     "output_type": "execute_result"
    }
   ],
   "source": [
    "testimonies = []\n",
    "for item in soup.find_all(\"div\", class_= \"item-title\"):\n",
    "    name = item.find(\"h3\", class_=\"item-title__title\").text.split()[0]\n",
    "    narrative_year = item.find(\"h5\", class_=\"item-title__meta\").text.split()[0]\n",
    "    testimonies.append({'name': name, 'narrative_year': narrative_year})\n",
    "testimonies"
   ]
  },
  {
   "cell_type": "code",
   "execution_count": 80,
   "id": "b3434a33",
   "metadata": {},
   "outputs": [
    {
     "data": {
      "text/plain": [
       "'I do not remember how I was captured. I only remember living with Ibrahim Mohammed as a slave. Ibrahim has a wife called Zaynab and two children, one boy and one girl. I knew from the way I was treated that I was not from them. They called me “dirty Dinka,” “slave,” “ugly Dinka.” I used to sleep on the ground with the goats. I cleaned the house, collected water and looked after the goats. I had to eat left over food most of the time. I was forced to be Muslim, and circumcised. I got sick one day, but Ibrahim insisted that I must go and collect water. I came home late from the water, so Ibrahim beat me and hit my eye with a piece of wood. He continued beating me for very long time. I saw blood coming out from my eye and I could not see with it. I have been in pain for many days.\\xa0 The Arab master said,\\xa0“Look, you slave Dinka girl, I will kill you the same way my father killed your mother in South Sudan.”\\xa0This was the first time I learned that my mother was killed by Arab master’s father. I was very upset. I went to the forest with goats and escaped to another village. I met the slave retriever, who took me to his camp and then put me on a truck to the Kiir River with other freed Dinka slaves. We walked from there to South Sudan. The slave retriever gave us food to eat.\\xa0\\xa0 I am very happy to be in South Sudan. No one calls me names or beats me here. Narrative provided by Christian Solidarity International \\xa0'"
      ]
     },
     "execution_count": 80,
     "metadata": {},
     "output_type": "execute_result"
    }
   ],
   "source": [
    "text = []\n",
    "for element in soup.find(\"div\", class_=\"text-item-body no-select\").find_all(\"p\"):\n",
    "    text.append(element.text)\n",
    "text3 =' '.join(text)\n",
    "text3"
   ]
  },
  {
   "cell_type": "code",
   "execution_count": null,
   "id": "3ad8b91c",
   "metadata": {},
   "outputs": [],
   "source": []
  },
  {
   "cell_type": "code",
   "execution_count": 81,
   "id": "3eda3680",
   "metadata": {},
   "outputs": [
    {
     "data": {
      "text/plain": [
       "'12.862807,30.217636'"
      ]
     },
     "execution_count": 81,
     "metadata": {},
     "output_type": "execute_result"
    }
   ],
   "source": [
    "maplocation = re.findall(\"mapLocation = .(.*).,\",soup.find(\"script\").text)[0]\n",
    "maplocation"
   ]
  },
  {
   "cell_type": "code",
   "execution_count": 82,
   "id": "6a7bf925",
   "metadata": {},
   "outputs": [
    {
     "data": {
      "text/plain": [
       "'<section class=\"item-meta\">\\n<dl class=\"item-meta__list\">\\n<dt class=\"item-meta__title-container\"><h4 class=\"item-meta__title\">Country</h4></dt>\\n<dd class=\"item-meta__value\">\\n<ul> <li class=\"inline-meta__item\"> <a class=\"no-underline\" href=\"/items/browse?advanced%5B0%5D%5Belement_id%5D=92&amp;advanced%5B0%5D%5Btype%5D=contains&amp;advanced%5B0%5D%5Bterms%5D=Sudan&amp;submit_search=Search\">Sudan</a> </li> </ul> </dd>\\n<dt class=\"item-meta__title-container\"><h4 class=\"item-meta__title\">Theme</h4></dt>\\n<dd class=\"item-meta__value\">\\n<ul> <li class=\"inline-meta__item\"> <a class=\"no-underline\" href=\"/items/browse?advanced%5B0%5D%5Belement_id%5D=59&amp;advanced%5B0%5D%5Btype%5D=contains&amp;advanced%5B0%5D%5Bterms%5D=Forced+labour&amp;submit_search=Search\">Forced labour</a> </li> </ul> </dd>\\n<dt class=\"item-meta__title-container\"><h4 class=\"item-meta__title\">Type</h4></dt>\\n<dd class=\"item-meta__value\">\\n<ul> <li class=\"inline-meta__item\"> <a class=\"no-underline\" href=\"/items/browse?advanced%5B0%5D%5Belement_id%5D=51&amp;advanced%5B0%5D%5Btype%5D=contains&amp;advanced%5B0%5D%5Bterms%5D=Narrative&amp;submit_search=Search\">Narrative</a> </li> </ul> </dd>\\n<dt class=\"item-meta__title-container\"><h4 class=\"item-meta__title\">Tags</h4></dt>\\n<dd class=\"item-meta__value\">\\n<ul>\\n<a href=\"/items/browse?tags=Religious+Persecution\" rel=\"tag\">Religious Persecution</a> </ul>\\n</dd>\\n</dl>\\n</section>'"
      ]
     },
     "execution_count": 82,
     "metadata": {},
     "output_type": "execute_result"
    }
   ],
   "source": [
    "x = str(soup.find(\"section\", class_=\"item-meta\"))\n",
    "x"
   ]
  },
  {
   "cell_type": "code",
   "execution_count": 83,
   "id": "297ceb75",
   "metadata": {},
   "outputs": [
    {
     "ename": "IndexError",
     "evalue": "list index out of range",
     "output_type": "error",
     "traceback": [
      "\u001b[0;31m---------------------------------------------------------------------------\u001b[0m",
      "\u001b[0;31mIndexError\u001b[0m                                Traceback (most recent call last)",
      "\u001b[0;32m/var/folders/lg/t4n83w_x2snc6b97t2zqm1tm0000gn/T/ipykernel_6549/997455582.py\u001b[0m in \u001b[0;36m<module>\u001b[0;34m\u001b[0m\n\u001b[0;32m----> 1\u001b[0;31m \u001b[0mdate_slavery\u001b[0m \u001b[0;34m=\u001b[0m \u001b[0mre\u001b[0m\u001b[0;34m.\u001b[0m\u001b[0mfindall\u001b[0m\u001b[0;34m(\u001b[0m\u001b[0;34m\"\\d{4}-\\d*\"\u001b[0m\u001b[0;34m,\u001b[0m \u001b[0mstr\u001b[0m\u001b[0;34m(\u001b[0m\u001b[0msoup\u001b[0m\u001b[0;34m.\u001b[0m\u001b[0mfind\u001b[0m\u001b[0;34m(\u001b[0m\u001b[0;34m\"section\"\u001b[0m\u001b[0;34m,\u001b[0m \u001b[0mclass_\u001b[0m\u001b[0;34m=\u001b[0m\u001b[0;34m\"item-meta\"\u001b[0m\u001b[0;34m)\u001b[0m\u001b[0;34m)\u001b[0m\u001b[0;34m)\u001b[0m\u001b[0;34m[\u001b[0m\u001b[0;36m0\u001b[0m\u001b[0;34m]\u001b[0m\u001b[0;34m\u001b[0m\u001b[0;34m\u001b[0m\u001b[0m\n\u001b[0m",
      "\u001b[0;31mIndexError\u001b[0m: list index out of range"
     ]
    }
   ],
   "source": [
    "date_slavery = re.findall(\"\\d{4}-\\d*\", str(soup.find(\"section\", class_=\"item-meta\")))[0]"
   ]
  },
  {
   "cell_type": "code",
   "execution_count": 84,
   "id": "6ee5f940",
   "metadata": {},
   "outputs": [
    {
     "data": {
      "text/plain": [
       "'[<li class=\"inline-meta__item\"> <a class=\"no-underline\" href=\"/items/browse?advanced%5B0%5D%5Belement_id%5D=92&amp;advanced%5B0%5D%5Btype%5D=contains&amp;advanced%5B0%5D%5Bterms%5D=Sudan&amp;submit_search=Search\">Sudan</a> </li>, <li class=\"inline-meta__item\"> <a class=\"no-underline\" href=\"/items/browse?advanced%5B0%5D%5Belement_id%5D=59&amp;advanced%5B0%5D%5Btype%5D=contains&amp;advanced%5B0%5D%5Bterms%5D=Forced+labour&amp;submit_search=Search\">Forced labour</a> </li>, <li class=\"inline-meta__item\"> <a class=\"no-underline\" href=\"/items/browse?advanced%5B0%5D%5Belement_id%5D=51&amp;advanced%5B0%5D%5Btype%5D=contains&amp;advanced%5B0%5D%5Bterms%5D=Narrative&amp;submit_search=Search\">Narrative</a> </li>]'"
      ]
     },
     "execution_count": 84,
     "metadata": {},
     "output_type": "execute_result"
    }
   ],
   "source": [
    "x = str(soup.find_all(\"li\", {\"class\": \"inline-meta__item\"}))\n",
    "x"
   ]
  },
  {
   "cell_type": "code",
   "execution_count": 85,
   "id": "c35b7535",
   "metadata": {},
   "outputs": [
    {
     "data": {
      "text/plain": [
       "[]"
      ]
     },
     "execution_count": 85,
     "metadata": {},
     "output_type": "execute_result"
    }
   ],
   "source": [
    "re.findall(\".trafficked from\", str(soup.find_all(\"li\", {\"class\": \"inline-meta__item\"})))\n",
    "     "
   ]
  },
  {
   "cell_type": "code",
   "execution_count": 86,
   "id": "7ec0221a",
   "metadata": {},
   "outputs": [
    {
     "data": {
      "text/plain": [
       "[]"
      ]
     },
     "execution_count": 86,
     "metadata": {},
     "output_type": "execute_result"
    }
   ],
   "source": [
    "re.findall(\".>(.*).slavery location\", str(soup.find_all(\"li\", {\"class\": \"inline-meta__item\"})))\n"
   ]
  },
  {
   "cell_type": "code",
   "execution_count": null,
   "id": "bbda94a3",
   "metadata": {},
   "outputs": [],
   "source": []
  },
  {
   "cell_type": "code",
   "execution_count": null,
   "id": "7a3bc746",
   "metadata": {},
   "outputs": [],
   "source": []
  },
  {
   "cell_type": "code",
   "execution_count": 89,
   "id": "e47e3c80",
   "metadata": {},
   "outputs": [
    {
     "ename": "IndexError",
     "evalue": "list index out of range",
     "output_type": "error",
     "traceback": [
      "\u001b[0;31m---------------------------------------------------------------------------\u001b[0m",
      "\u001b[0;31mIndexError\u001b[0m                                Traceback (most recent call last)",
      "\u001b[0;32m/var/folders/lg/t4n83w_x2snc6b97t2zqm1tm0000gn/T/ipykernel_6549/434748991.py\u001b[0m in \u001b[0;36m<module>\u001b[0;34m\u001b[0m\n\u001b[1;32m      1\u001b[0m \u001b[0mtake\u001b[0m \u001b[0;34m=\u001b[0m \u001b[0msoup\u001b[0m\u001b[0;34m.\u001b[0m\u001b[0mfind\u001b[0m\u001b[0;34m(\u001b[0m\u001b[0;34m\"dd\"\u001b[0m\u001b[0;34m,\u001b[0m \u001b[0;34m{\u001b[0m\u001b[0;34m\"class\"\u001b[0m\u001b[0;34m:\u001b[0m \u001b[0;34m\"item-meta__value\"\u001b[0m\u001b[0;34m}\u001b[0m\u001b[0;34m)\u001b[0m\u001b[0;34m.\u001b[0m\u001b[0mtext\u001b[0m\u001b[0;34m\u001b[0m\u001b[0;34m\u001b[0m\u001b[0m\n\u001b[1;32m      2\u001b[0m \u001b[0mcountries\u001b[0m \u001b[0;34m=\u001b[0m \u001b[0mre\u001b[0m\u001b[0;34m.\u001b[0m\u001b[0mfindall\u001b[0m\u001b[0;34m(\u001b[0m\u001b[0;34m\"\\n..(.*)\"\u001b[0m\u001b[0;34m,\u001b[0m \u001b[0mtake\u001b[0m\u001b[0;34m)\u001b[0m\u001b[0;34m[\u001b[0m\u001b[0;36m0\u001b[0m\u001b[0;34m]\u001b[0m\u001b[0;34m\u001b[0m\u001b[0;34m\u001b[0m\u001b[0m\n\u001b[0;32m----> 3\u001b[0;31m \u001b[0mdeparture\u001b[0m \u001b[0;34m=\u001b[0m \u001b[0mre\u001b[0m\u001b[0;34m.\u001b[0m\u001b[0mfindall\u001b[0m\u001b[0;34m(\u001b[0m\u001b[0;34m\"(.*).slavery location\"\u001b[0m\u001b[0;34m,\u001b[0m \u001b[0mcountries\u001b[0m\u001b[0;34m)\u001b[0m\u001b[0;34m[\u001b[0m\u001b[0;36m0\u001b[0m\u001b[0;34m]\u001b[0m\u001b[0;34m.\u001b[0m\u001b[0mstrip\u001b[0m\u001b[0;34m(\u001b[0m\u001b[0;34m)\u001b[0m\u001b[0;34m\u001b[0m\u001b[0;34m\u001b[0m\u001b[0m\n\u001b[0m\u001b[1;32m      4\u001b[0m arrival = re.findall(\"slavery location.*?(\\w.*) .trafficked from\",\n\u001b[1;32m      5\u001b[0m                         countries)[0]\n",
      "\u001b[0;31mIndexError\u001b[0m: list index out of range"
     ]
    }
   ],
   "source": [
    "take = soup.find(\"dd\", {\"class\": \"item-meta__value\"}).text\n",
    "countries = re.findall(\"\\n..(.*)\", take)[0]\n",
    "departure = re.findall(\"(.*).slavery location\", countries)[0].strip()\n",
    "arrival = re.findall(\"slavery location.*?(\\w.*) .trafficked from\",\n",
    "                        countries)[0]"
   ]
  },
  {
   "cell_type": "code",
   "execution_count": null,
   "id": "55289e8d",
   "metadata": {},
   "outputs": [],
   "source": []
  },
  {
   "cell_type": "code",
   "execution_count": 90,
   "id": "dfe2cbd6",
   "metadata": {},
   "outputs": [],
   "source": [
    "arrival = 'Sudan (slavery location),             United Kingdom'"
   ]
  },
  {
   "cell_type": "code",
   "execution_count": 91,
   "id": "fb4241bf",
   "metadata": {},
   "outputs": [
    {
     "data": {
      "text/plain": [
       "2"
      ]
     },
     "execution_count": 91,
     "metadata": {},
     "output_type": "execute_result"
    }
   ],
   "source": [
    "len(arrival.split(\", \"))"
   ]
  },
  {
   "cell_type": "code",
   "execution_count": 92,
   "id": "c3fe7789",
   "metadata": {},
   "outputs": [
    {
     "name": "stdout",
     "output_type": "stream",
     "text": [
      "Sudan (slavery location)\n",
      "            United Kingdom\n"
     ]
    }
   ],
   "source": [
    "if len(arrival.split(\", \"))==2:\n",
    "    print(arrival.split(\", \")[0])\n",
    "    print(arrival.split(\", \")[1])\n",
    "     "
   ]
  },
  {
   "cell_type": "code",
   "execution_count": 93,
   "id": "1c97375b",
   "metadata": {},
   "outputs": [],
   "source": [
    "if len(arrival.split(\", \"))==3:\n",
    "    arrive = [arrival.split(\", \")[0], arrival.split(\", \")[1], arrival.split(\", \")[2]]\n",
    "elif len(arrival.split(\", \"))==2:\n",
    "     arrive = [arrival.split(\", \")[0], arrival.split(\", \")[1]]\n",
    "elif len(arrival.split(\", \"))==1:\n",
    "    arrive = [arrival.split(\", \")[0]]"
   ]
  },
  {
   "cell_type": "code",
   "execution_count": 94,
   "id": "0cdb27b0",
   "metadata": {},
   "outputs": [],
   "source": [
    "countries = pd.read_csv(\"countries of the world.csv\")"
   ]
  },
  {
   "cell_type": "code",
   "execution_count": 95,
   "id": "3c651054",
   "metadata": {},
   "outputs": [
    {
     "data": {
      "text/plain": [
       "False"
      ]
     },
     "execution_count": 95,
     "metadata": {},
     "output_type": "execute_result"
    }
   ],
   "source": [
    "soup.find_all(\"li\", {\"class\": \"inline-meta__item\"})[0].text.strip() in list(countries[\"Country\"])"
   ]
  },
  {
   "cell_type": "code",
   "execution_count": 96,
   "id": "8e68e3c7",
   "metadata": {},
   "outputs": [
    {
     "data": {
      "text/plain": [
       "'[]'"
      ]
     },
     "execution_count": 96,
     "metadata": {},
     "output_type": "execute_result"
    }
   ],
   "source": [
    "str(re.findall(\".trafficked from\", str(soup.find_all(\"li\", {\"class\": \"inline-meta__item\"}))))"
   ]
  },
  {
   "cell_type": "code",
   "execution_count": 97,
   "id": "1c3c6221",
   "metadata": {},
   "outputs": [
    {
     "data": {
      "text/plain": [
       "['Afghanistan',\n",
       " 'Albania',\n",
       " 'Algeria',\n",
       " 'American Samoa',\n",
       " 'Andorra',\n",
       " 'Angola',\n",
       " 'Anguilla',\n",
       " 'Antigua & Barbuda',\n",
       " 'Argentina',\n",
       " 'Armenia',\n",
       " 'Aruba',\n",
       " 'Australia',\n",
       " 'Austria',\n",
       " 'Azerbaijan',\n",
       " 'Bahamas, The',\n",
       " 'Bahrain',\n",
       " 'Bangladesh',\n",
       " 'Barbados',\n",
       " 'Belarus',\n",
       " 'Belgium',\n",
       " 'Belize',\n",
       " 'Benin',\n",
       " 'Bermuda',\n",
       " 'Bhutan',\n",
       " 'Bolivia',\n",
       " 'Bosnia & Herzegovina',\n",
       " 'Botswana',\n",
       " 'Brazil',\n",
       " 'British Virgin Is.',\n",
       " 'Brunei',\n",
       " 'Bulgaria',\n",
       " 'Burkina Faso',\n",
       " 'Burma',\n",
       " 'Burundi',\n",
       " 'Cambodia',\n",
       " 'Cameroon',\n",
       " 'Canada',\n",
       " 'Cape Verde',\n",
       " 'Cayman Islands',\n",
       " 'Central African Rep.',\n",
       " 'Chad',\n",
       " 'Chile',\n",
       " 'China',\n",
       " 'Colombia',\n",
       " 'Comoros',\n",
       " 'Congo, Dem. Rep.',\n",
       " 'Congo, Repub. of the',\n",
       " 'Cook Islands',\n",
       " 'Costa Rica',\n",
       " \"Cote d'Ivoire\",\n",
       " 'Croatia',\n",
       " 'Cuba',\n",
       " 'Cyprus',\n",
       " 'Czech Republic',\n",
       " 'Denmark',\n",
       " 'Djibouti',\n",
       " 'Dominica',\n",
       " 'Dominican Republic',\n",
       " 'East Timor',\n",
       " 'Ecuador',\n",
       " 'Egypt',\n",
       " 'El Salvador',\n",
       " 'Equatorial Guinea',\n",
       " 'Eritrea',\n",
       " 'Estonia',\n",
       " 'Ethiopia',\n",
       " 'Faroe Islands',\n",
       " 'Fiji',\n",
       " 'Finland',\n",
       " 'France',\n",
       " 'French Guiana',\n",
       " 'French Polynesia',\n",
       " 'Gabon',\n",
       " 'Gambia, The',\n",
       " 'Gaza Strip',\n",
       " 'Georgia',\n",
       " 'Germany',\n",
       " 'Ghana',\n",
       " 'Gibraltar',\n",
       " 'Greece',\n",
       " 'Greenland',\n",
       " 'Grenada',\n",
       " 'Guadeloupe',\n",
       " 'Guam',\n",
       " 'Guatemala',\n",
       " 'Guernsey',\n",
       " 'Guinea',\n",
       " 'Guinea-Bissau',\n",
       " 'Guyana',\n",
       " 'Haiti',\n",
       " 'Honduras',\n",
       " 'Hong Kong',\n",
       " 'Hungary',\n",
       " 'Iceland',\n",
       " 'India',\n",
       " 'Indonesia',\n",
       " 'Iran',\n",
       " 'Iraq',\n",
       " 'Ireland',\n",
       " 'Isle of Man',\n",
       " 'Israel',\n",
       " 'Italy',\n",
       " 'Jamaica',\n",
       " 'Japan',\n",
       " 'Jersey',\n",
       " 'Jordan',\n",
       " 'Kazakhstan',\n",
       " 'Kenya',\n",
       " 'Kiribati',\n",
       " 'Korea, North',\n",
       " 'Korea, South',\n",
       " 'Kuwait',\n",
       " 'Kyrgyzstan',\n",
       " 'Laos',\n",
       " 'Latvia',\n",
       " 'Lebanon',\n",
       " 'Lesotho',\n",
       " 'Liberia',\n",
       " 'Libya',\n",
       " 'Liechtenstein',\n",
       " 'Lithuania',\n",
       " 'Luxembourg',\n",
       " 'Macau',\n",
       " 'Macedonia',\n",
       " 'Madagascar',\n",
       " 'Malawi',\n",
       " 'Malaysia',\n",
       " 'Maldives',\n",
       " 'Mali',\n",
       " 'Malta',\n",
       " 'Marshall Islands',\n",
       " 'Martinique',\n",
       " 'Mauritania',\n",
       " 'Mauritius',\n",
       " 'Mayotte',\n",
       " 'Mexico',\n",
       " 'Micronesia, Fed. St.',\n",
       " 'Moldova',\n",
       " 'Monaco',\n",
       " 'Mongolia',\n",
       " 'Montserrat',\n",
       " 'Morocco',\n",
       " 'Mozambique',\n",
       " 'Namibia',\n",
       " 'Nauru',\n",
       " 'Nepal',\n",
       " 'Netherlands',\n",
       " 'Netherlands Antilles',\n",
       " 'New Caledonia',\n",
       " 'New Zealand',\n",
       " 'Nicaragua',\n",
       " 'Niger',\n",
       " 'Nigeria',\n",
       " 'N. Mariana Islands',\n",
       " 'Norway',\n",
       " 'Oman',\n",
       " 'Pakistan',\n",
       " 'Palau',\n",
       " 'Panama',\n",
       " 'Papua New Guinea',\n",
       " 'Paraguay',\n",
       " 'Peru',\n",
       " 'Philippines',\n",
       " 'Poland',\n",
       " 'Portugal',\n",
       " 'Puerto Rico',\n",
       " 'Qatar',\n",
       " 'Reunion',\n",
       " 'Romania',\n",
       " 'Russia',\n",
       " 'Rwanda',\n",
       " 'Saint Helena',\n",
       " 'Saint Kitts & Nevis',\n",
       " 'Saint Lucia',\n",
       " 'St Pierre & Miquelon',\n",
       " 'Saint Vincent and the Grenadines',\n",
       " 'Samoa',\n",
       " 'San Marino',\n",
       " 'Sao Tome & Principe',\n",
       " 'Saudi Arabia',\n",
       " 'Senegal',\n",
       " 'Serbia',\n",
       " 'Seychelles',\n",
       " 'Sierra Leone',\n",
       " 'Singapore',\n",
       " 'Slovakia',\n",
       " 'Slovenia',\n",
       " 'Solomon Islands',\n",
       " 'Somalia',\n",
       " 'South Africa',\n",
       " 'Spain',\n",
       " 'Sri Lanka',\n",
       " 'Sudan',\n",
       " 'Suriname',\n",
       " 'Swaziland',\n",
       " 'Sweden',\n",
       " 'Switzerland',\n",
       " 'Syria',\n",
       " 'Taiwan',\n",
       " 'Tajikistan',\n",
       " 'Tanzania',\n",
       " 'Thailand',\n",
       " 'Togo',\n",
       " 'Tonga',\n",
       " 'Trinidad & Tobago',\n",
       " 'Tunisia',\n",
       " 'Turkey',\n",
       " 'Turkmenistan',\n",
       " 'Turks & Caicos Is',\n",
       " 'Tuvalu',\n",
       " 'Uganda',\n",
       " 'Ukraine',\n",
       " 'United Arab Emirates',\n",
       " 'United Kingdom',\n",
       " 'United States',\n",
       " 'Uruguay',\n",
       " 'Uzbekistan',\n",
       " 'Vanuatu',\n",
       " 'Venezuela',\n",
       " 'Vietnam',\n",
       " 'Virgin Islands',\n",
       " 'Wallis and Futuna',\n",
       " 'West Bank',\n",
       " 'Western Sahara',\n",
       " 'Yemen',\n",
       " 'Zambia',\n",
       " 'Zimbabwe']"
      ]
     },
     "execution_count": 97,
     "metadata": {},
     "output_type": "execute_result"
    }
   ],
   "source": [
    "countries['Country']= countries['Country'].apply(lambda x: x.strip())\n",
    "list(countries['Country'])"
   ]
  },
  {
   "cell_type": "code",
   "execution_count": 98,
   "id": "18b6b563",
   "metadata": {},
   "outputs": [
    {
     "data": {
      "text/plain": [
       "True"
      ]
     },
     "execution_count": 98,
     "metadata": {},
     "output_type": "execute_result"
    }
   ],
   "source": [
    "soup.find_all(\"li\", {\"class\": \"inline-meta__item\"})[0].text.strip() in list(countries[\"Country\"])"
   ]
  },
  {
   "cell_type": "code",
   "execution_count": 99,
   "id": "7c6257f9",
   "metadata": {},
   "outputs": [],
   "source": [
    "if soup.find_all(\"li\", {\"class\": \"inline-meta__item\"})[0].text.strip() in list(countries[\"Country\"]):\n",
    "    departure = soup.find_all(\"li\", {\"class\": \"inline-meta__item\"})[0].text.strip()\n",
    "if soup.find_all(\"li\", {\"class\": \"inline-meta__item\"})[1].text.strip() in list(countries[\"Country\"]):\n",
    "    departure = soup.find_all(\"li\", {\"class\": \"inline-meta__item\"})[1].text.strip()\n",
    "if soup.find_all(\"li\", {\"class\": \"inline-meta__item\"})[2].text.strip() in list(countries[\"Country\"]):\n",
    "    arrival = soup.find_all(\"li\", {\"class\": \"inline-meta__item\"})[2].text.strip()"
   ]
  },
  {
   "cell_type": "code",
   "execution_count": 101,
   "id": "cf84a773",
   "metadata": {},
   "outputs": [
    {
     "data": {
      "text/plain": [
       "'Sudan'"
      ]
     },
     "execution_count": 101,
     "metadata": {},
     "output_type": "execute_result"
    }
   ],
   "source": [
    "departure"
   ]
  },
  {
   "cell_type": "code",
   "execution_count": 102,
   "id": "4af8e648",
   "metadata": {},
   "outputs": [],
   "source": [
    "themes = [\"Sexual exploitation\", \"Children\", \"Forced labour\", \"Domestic slavery\", \"Forced marriage\", \"Trafficking\", \"Debt bondage\",\n",
    "\"War slavery\", \"Armed conflict\", \"Women\", \"Prison labour\", \"Migration\", \"Emancipation\"]"
   ]
  },
  {
   "cell_type": "markdown",
   "id": "ee7c995a",
   "metadata": {},
   "source": [
    "## Feature Engineering"
   ]
  },
  {
   "cell_type": "code",
   "execution_count": 2,
   "id": "db56d84b",
   "metadata": {},
   "outputs": [],
   "source": [
    "import pandas as pd"
   ]
  },
  {
   "cell_type": "code",
   "execution_count": 4,
   "id": "47551f01",
   "metadata": {},
   "outputs": [
    {
     "data": {
      "text/html": [
       "<div>\n",
       "<style scoped>\n",
       "    .dataframe tbody tr th:only-of-type {\n",
       "        vertical-align: middle;\n",
       "    }\n",
       "\n",
       "    .dataframe tbody tr th {\n",
       "        vertical-align: top;\n",
       "    }\n",
       "\n",
       "    .dataframe thead th {\n",
       "        text-align: right;\n",
       "    }\n",
       "</style>\n",
       "<table border=\"1\" class=\"dataframe\">\n",
       "  <thead>\n",
       "    <tr style=\"text-align: right;\">\n",
       "      <th></th>\n",
       "      <th>text</th>\n",
       "      <th>name</th>\n",
       "      <th>year</th>\n",
       "      <th>departure</th>\n",
       "      <th>arrival</th>\n",
       "      <th>theme</th>\n",
       "      <th>latitude</th>\n",
       "      <th>longitude</th>\n",
       "      <th>date_slavery</th>\n",
       "    </tr>\n",
       "  </thead>\n",
       "  <tbody>\n",
       "    <tr>\n",
       "      <th>0</th>\n",
       "      <td>My name is Vi. And I am 28 years old. I arrive...</td>\n",
       "      <td>Vi</td>\n",
       "      <td>2001.0</td>\n",
       "      <td>Vietnam</td>\n",
       "      <td>American Samoa</td>\n",
       "      <td>Forced labour</td>\n",
       "      <td>-14.354000</td>\n",
       "      <td>-170.773600</td>\n",
       "      <td>NaN</td>\n",
       "    </tr>\n",
       "    <tr>\n",
       "      <th>1</th>\n",
       "      <td>Thank you for the opportunity to testify befor...</td>\n",
       "      <td>Beatrice</td>\n",
       "      <td>2005.0</td>\n",
       "      <td>Sri Lank</td>\n",
       "      <td>Lebanon</td>\n",
       "      <td>Domestic slavery</td>\n",
       "      <td>33.900000</td>\n",
       "      <td>35.500000</td>\n",
       "      <td>NaN</td>\n",
       "    </tr>\n",
       "    <tr>\n",
       "      <th>2</th>\n",
       "      <td>My sister and I were living in a village. We w...</td>\n",
       "      <td>Kavita</td>\n",
       "      <td>2004.0</td>\n",
       "      <td>Sri Lank</td>\n",
       "      <td>India</td>\n",
       "      <td>Domestic slavery</td>\n",
       "      <td>24.071318</td>\n",
       "      <td>79.652396</td>\n",
       "      <td>2002-2004</td>\n",
       "    </tr>\n",
       "    <tr>\n",
       "      <th>3</th>\n",
       "      <td>I grew up in a village of between 500 and 700 ...</td>\n",
       "      <td>Maria</td>\n",
       "      <td>2005.0</td>\n",
       "      <td>Mexico</td>\n",
       "      <td>United States</td>\n",
       "      <td>Domestic slavery</td>\n",
       "      <td>40.412044</td>\n",
       "      <td>-96.870925</td>\n",
       "      <td>1976-1981</td>\n",
       "    </tr>\n",
       "    <tr>\n",
       "      <th>4</th>\n",
       "      <td>I was living in a village, Karko, in the Nuba ...</td>\n",
       "      <td>Mende</td>\n",
       "      <td>2003.0</td>\n",
       "      <td>Sudan</td>\n",
       "      <td>['Sudan ', 'United Kingdom ']</td>\n",
       "      <td>War slavery</td>\n",
       "      <td>16.865226</td>\n",
       "      <td>32.271106</td>\n",
       "      <td>1994-2000</td>\n",
       "    </tr>\n",
       "  </tbody>\n",
       "</table>\n",
       "</div>"
      ],
      "text/plain": [
       "                                                text      name    year  \\\n",
       "0  My name is Vi. And I am 28 years old. I arrive...        Vi  2001.0   \n",
       "1  Thank you for the opportunity to testify befor...  Beatrice  2005.0   \n",
       "2  My sister and I were living in a village. We w...    Kavita  2004.0   \n",
       "3  I grew up in a village of between 500 and 700 ...     Maria  2005.0   \n",
       "4  I was living in a village, Karko, in the Nuba ...     Mende  2003.0   \n",
       "\n",
       "  departure                        arrival             theme   latitude  \\\n",
       "0  Vietnam                 American Samoa      Forced labour -14.354000   \n",
       "1  Sri Lank                       Lebanon   Domestic slavery  33.900000   \n",
       "2  Sri Lank                         India   Domestic slavery  24.071318   \n",
       "3   Mexico                  United States   Domestic slavery  40.412044   \n",
       "4    Sudan   ['Sudan ', 'United Kingdom ']       War slavery  16.865226   \n",
       "\n",
       "    longitude date_slavery  \n",
       "0 -170.773600          NaN  \n",
       "1   35.500000          NaN  \n",
       "2   79.652396    2002-2004  \n",
       "3  -96.870925    1976-1981  \n",
       "4   32.271106    1994-2000  "
      ]
     },
     "execution_count": 4,
     "metadata": {},
     "output_type": "execute_result"
    }
   ],
   "source": [
    "data = pd.read_csv(\"try.csv\")\n",
    "data.head()"
   ]
  },
  {
   "cell_type": "code",
   "execution_count": 5,
   "id": "3594ff61",
   "metadata": {},
   "outputs": [],
   "source": [
    "def arrival1(n):\n",
    "    if len(n)==2:\n",
    "        return n[0]\n",
    "def arrival2(n):\n",
    "    if len(n)==2:\n",
    "        return n[1]"
   ]
  },
  {
   "cell_type": "code",
   "execution_count": 6,
   "id": "61e0c107",
   "metadata": {
    "scrolled": true
   },
   "outputs": [
    {
     "ename": "TypeError",
     "evalue": "object of type 'float' has no len()",
     "output_type": "error",
     "traceback": [
      "\u001b[0;31m---------------------------------------------------------------------------\u001b[0m",
      "\u001b[0;31mTypeError\u001b[0m                                 Traceback (most recent call last)",
      "\u001b[0;32m/var/folders/lg/t4n83w_x2snc6b97t2zqm1tm0000gn/T/ipykernel_7828/3970774679.py\u001b[0m in \u001b[0;36m<module>\u001b[0;34m\u001b[0m\n\u001b[0;32m----> 1\u001b[0;31m \u001b[0mdata\u001b[0m\u001b[0;34m[\u001b[0m\u001b[0;34m\"arrival_1\"\u001b[0m\u001b[0;34m]\u001b[0m\u001b[0;34m=\u001b[0m \u001b[0mdata\u001b[0m\u001b[0;34m[\u001b[0m\u001b[0;34m\"arrival\"\u001b[0m\u001b[0;34m]\u001b[0m\u001b[0;34m.\u001b[0m\u001b[0mmap\u001b[0m\u001b[0;34m(\u001b[0m\u001b[0marrival1\u001b[0m\u001b[0;34m)\u001b[0m\u001b[0;34m\u001b[0m\u001b[0;34m\u001b[0m\u001b[0m\n\u001b[0m",
      "\u001b[0;32m~/.pyenv/versions/3.8.12/envs/ht_project/lib/python3.8/site-packages/pandas/core/series.py\u001b[0m in \u001b[0;36mmap\u001b[0;34m(self, arg, na_action)\u001b[0m\n\u001b[1;32m   4159\u001b[0m         \u001b[0mdtype\u001b[0m\u001b[0;34m:\u001b[0m \u001b[0mobject\u001b[0m\u001b[0;34m\u001b[0m\u001b[0;34m\u001b[0m\u001b[0m\n\u001b[1;32m   4160\u001b[0m         \"\"\"\n\u001b[0;32m-> 4161\u001b[0;31m         \u001b[0mnew_values\u001b[0m \u001b[0;34m=\u001b[0m \u001b[0msuper\u001b[0m\u001b[0;34m(\u001b[0m\u001b[0;34m)\u001b[0m\u001b[0;34m.\u001b[0m\u001b[0m_map_values\u001b[0m\u001b[0;34m(\u001b[0m\u001b[0marg\u001b[0m\u001b[0;34m,\u001b[0m \u001b[0mna_action\u001b[0m\u001b[0;34m=\u001b[0m\u001b[0mna_action\u001b[0m\u001b[0;34m)\u001b[0m\u001b[0;34m\u001b[0m\u001b[0;34m\u001b[0m\u001b[0m\n\u001b[0m\u001b[1;32m   4162\u001b[0m         return self._constructor(new_values, index=self.index).__finalize__(\n\u001b[1;32m   4163\u001b[0m             \u001b[0mself\u001b[0m\u001b[0;34m,\u001b[0m \u001b[0mmethod\u001b[0m\u001b[0;34m=\u001b[0m\u001b[0;34m\"map\"\u001b[0m\u001b[0;34m\u001b[0m\u001b[0;34m\u001b[0m\u001b[0m\n",
      "\u001b[0;32m~/.pyenv/versions/3.8.12/envs/ht_project/lib/python3.8/site-packages/pandas/core/base.py\u001b[0m in \u001b[0;36m_map_values\u001b[0;34m(self, mapper, na_action)\u001b[0m\n\u001b[1;32m    868\u001b[0m \u001b[0;34m\u001b[0m\u001b[0m\n\u001b[1;32m    869\u001b[0m         \u001b[0;31m# mapper is a function\u001b[0m\u001b[0;34m\u001b[0m\u001b[0;34m\u001b[0m\u001b[0;34m\u001b[0m\u001b[0m\n\u001b[0;32m--> 870\u001b[0;31m         \u001b[0mnew_values\u001b[0m \u001b[0;34m=\u001b[0m \u001b[0mmap_f\u001b[0m\u001b[0;34m(\u001b[0m\u001b[0mvalues\u001b[0m\u001b[0;34m,\u001b[0m \u001b[0mmapper\u001b[0m\u001b[0;34m)\u001b[0m\u001b[0;34m\u001b[0m\u001b[0;34m\u001b[0m\u001b[0m\n\u001b[0m\u001b[1;32m    871\u001b[0m \u001b[0;34m\u001b[0m\u001b[0m\n\u001b[1;32m    872\u001b[0m         \u001b[0;32mreturn\u001b[0m \u001b[0mnew_values\u001b[0m\u001b[0;34m\u001b[0m\u001b[0;34m\u001b[0m\u001b[0m\n",
      "\u001b[0;32m~/.pyenv/versions/3.8.12/envs/ht_project/lib/python3.8/site-packages/pandas/_libs/lib.pyx\u001b[0m in \u001b[0;36mpandas._libs.lib.map_infer\u001b[0;34m()\u001b[0m\n",
      "\u001b[0;32m/var/folders/lg/t4n83w_x2snc6b97t2zqm1tm0000gn/T/ipykernel_7828/1642466865.py\u001b[0m in \u001b[0;36marrival1\u001b[0;34m(n)\u001b[0m\n\u001b[1;32m      1\u001b[0m \u001b[0;32mdef\u001b[0m \u001b[0marrival1\u001b[0m\u001b[0;34m(\u001b[0m\u001b[0mn\u001b[0m\u001b[0;34m)\u001b[0m\u001b[0;34m:\u001b[0m\u001b[0;34m\u001b[0m\u001b[0;34m\u001b[0m\u001b[0m\n\u001b[0;32m----> 2\u001b[0;31m     \u001b[0;32mif\u001b[0m \u001b[0mlen\u001b[0m\u001b[0;34m(\u001b[0m\u001b[0mn\u001b[0m\u001b[0;34m)\u001b[0m\u001b[0;34m==\u001b[0m\u001b[0;36m2\u001b[0m\u001b[0;34m:\u001b[0m\u001b[0;34m\u001b[0m\u001b[0;34m\u001b[0m\u001b[0m\n\u001b[0m\u001b[1;32m      3\u001b[0m         \u001b[0;32mreturn\u001b[0m \u001b[0mn\u001b[0m\u001b[0;34m[\u001b[0m\u001b[0;36m0\u001b[0m\u001b[0;34m]\u001b[0m\u001b[0;34m\u001b[0m\u001b[0;34m\u001b[0m\u001b[0m\n\u001b[1;32m      4\u001b[0m \u001b[0;32mdef\u001b[0m \u001b[0marrival2\u001b[0m\u001b[0;34m(\u001b[0m\u001b[0mn\u001b[0m\u001b[0;34m)\u001b[0m\u001b[0;34m:\u001b[0m\u001b[0;34m\u001b[0m\u001b[0;34m\u001b[0m\u001b[0m\n\u001b[1;32m      5\u001b[0m     \u001b[0;32mif\u001b[0m \u001b[0mlen\u001b[0m\u001b[0;34m(\u001b[0m\u001b[0mn\u001b[0m\u001b[0;34m)\u001b[0m\u001b[0;34m==\u001b[0m\u001b[0;36m2\u001b[0m\u001b[0;34m:\u001b[0m\u001b[0;34m\u001b[0m\u001b[0;34m\u001b[0m\u001b[0m\n",
      "\u001b[0;31mTypeError\u001b[0m: object of type 'float' has no len()"
     ]
    }
   ],
   "source": [
    "data[\"arrival_1\"]= data[\"arrival\"].map(arrival1)"
   ]
  },
  {
   "cell_type": "code",
   "execution_count": 10,
   "id": "42e5c0c8",
   "metadata": {},
   "outputs": [
    {
     "data": {
      "text/plain": [
       "dtype('O')"
      ]
     },
     "execution_count": 10,
     "metadata": {},
     "output_type": "execute_result"
    }
   ],
   "source": [
    "data[\"arrival\"].dtype\n"
   ]
  },
  {
   "cell_type": "code",
   "execution_count": 15,
   "id": "0d0d41bd",
   "metadata": {},
   "outputs": [
    {
     "data": {
      "text/plain": [
       "str"
      ]
     },
     "execution_count": 15,
     "metadata": {},
     "output_type": "execute_result"
    }
   ],
   "source": [
    "type(data[\"arrival\"].iloc[0])"
   ]
  },
  {
   "cell_type": "code",
   "execution_count": 16,
   "id": "dfb30244",
   "metadata": {},
   "outputs": [],
   "source": [
    "def list_converter(n):\n",
    "    return n.split(\",\")\n"
   ]
  },
  {
   "cell_type": "code",
   "execution_count": 19,
   "id": "fc237f76",
   "metadata": {},
   "outputs": [
    {
     "ename": "AttributeError",
     "evalue": "'float' object has no attribute 'split'",
     "output_type": "error",
     "traceback": [
      "\u001b[0;31m---------------------------------------------------------------------------\u001b[0m",
      "\u001b[0;31mAttributeError\u001b[0m                            Traceback (most recent call last)",
      "\u001b[0;32m/var/folders/lg/t4n83w_x2snc6b97t2zqm1tm0000gn/T/ipykernel_7828/2341498304.py\u001b[0m in \u001b[0;36m<module>\u001b[0;34m\u001b[0m\n\u001b[0;32m----> 1\u001b[0;31m \u001b[0mdata\u001b[0m\u001b[0;34m[\u001b[0m\u001b[0;34m\"arrival\"\u001b[0m\u001b[0;34m]\u001b[0m\u001b[0;34m.\u001b[0m\u001b[0mmap\u001b[0m\u001b[0;34m(\u001b[0m\u001b[0mlist_converter\u001b[0m\u001b[0;34m)\u001b[0m\u001b[0;34m\u001b[0m\u001b[0;34m\u001b[0m\u001b[0m\n\u001b[0m",
      "\u001b[0;32m~/.pyenv/versions/3.8.12/envs/ht_project/lib/python3.8/site-packages/pandas/core/series.py\u001b[0m in \u001b[0;36mmap\u001b[0;34m(self, arg, na_action)\u001b[0m\n\u001b[1;32m   4159\u001b[0m         \u001b[0mdtype\u001b[0m\u001b[0;34m:\u001b[0m \u001b[0mobject\u001b[0m\u001b[0;34m\u001b[0m\u001b[0;34m\u001b[0m\u001b[0m\n\u001b[1;32m   4160\u001b[0m         \"\"\"\n\u001b[0;32m-> 4161\u001b[0;31m         \u001b[0mnew_values\u001b[0m \u001b[0;34m=\u001b[0m \u001b[0msuper\u001b[0m\u001b[0;34m(\u001b[0m\u001b[0;34m)\u001b[0m\u001b[0;34m.\u001b[0m\u001b[0m_map_values\u001b[0m\u001b[0;34m(\u001b[0m\u001b[0marg\u001b[0m\u001b[0;34m,\u001b[0m \u001b[0mna_action\u001b[0m\u001b[0;34m=\u001b[0m\u001b[0mna_action\u001b[0m\u001b[0;34m)\u001b[0m\u001b[0;34m\u001b[0m\u001b[0;34m\u001b[0m\u001b[0m\n\u001b[0m\u001b[1;32m   4162\u001b[0m         return self._constructor(new_values, index=self.index).__finalize__(\n\u001b[1;32m   4163\u001b[0m             \u001b[0mself\u001b[0m\u001b[0;34m,\u001b[0m \u001b[0mmethod\u001b[0m\u001b[0;34m=\u001b[0m\u001b[0;34m\"map\"\u001b[0m\u001b[0;34m\u001b[0m\u001b[0;34m\u001b[0m\u001b[0m\n",
      "\u001b[0;32m~/.pyenv/versions/3.8.12/envs/ht_project/lib/python3.8/site-packages/pandas/core/base.py\u001b[0m in \u001b[0;36m_map_values\u001b[0;34m(self, mapper, na_action)\u001b[0m\n\u001b[1;32m    868\u001b[0m \u001b[0;34m\u001b[0m\u001b[0m\n\u001b[1;32m    869\u001b[0m         \u001b[0;31m# mapper is a function\u001b[0m\u001b[0;34m\u001b[0m\u001b[0;34m\u001b[0m\u001b[0;34m\u001b[0m\u001b[0m\n\u001b[0;32m--> 870\u001b[0;31m         \u001b[0mnew_values\u001b[0m \u001b[0;34m=\u001b[0m \u001b[0mmap_f\u001b[0m\u001b[0;34m(\u001b[0m\u001b[0mvalues\u001b[0m\u001b[0;34m,\u001b[0m \u001b[0mmapper\u001b[0m\u001b[0;34m)\u001b[0m\u001b[0;34m\u001b[0m\u001b[0;34m\u001b[0m\u001b[0m\n\u001b[0m\u001b[1;32m    871\u001b[0m \u001b[0;34m\u001b[0m\u001b[0m\n\u001b[1;32m    872\u001b[0m         \u001b[0;32mreturn\u001b[0m \u001b[0mnew_values\u001b[0m\u001b[0;34m\u001b[0m\u001b[0;34m\u001b[0m\u001b[0m\n",
      "\u001b[0;32m~/.pyenv/versions/3.8.12/envs/ht_project/lib/python3.8/site-packages/pandas/_libs/lib.pyx\u001b[0m in \u001b[0;36mpandas._libs.lib.map_infer\u001b[0;34m()\u001b[0m\n",
      "\u001b[0;32m/var/folders/lg/t4n83w_x2snc6b97t2zqm1tm0000gn/T/ipykernel_7828/2758847663.py\u001b[0m in \u001b[0;36mlist_converter\u001b[0;34m(n)\u001b[0m\n\u001b[1;32m      1\u001b[0m \u001b[0;32mdef\u001b[0m \u001b[0mlist_converter\u001b[0m\u001b[0;34m(\u001b[0m\u001b[0mn\u001b[0m\u001b[0;34m)\u001b[0m\u001b[0;34m:\u001b[0m\u001b[0;34m\u001b[0m\u001b[0;34m\u001b[0m\u001b[0m\n\u001b[0;32m----> 2\u001b[0;31m     \u001b[0;32mreturn\u001b[0m \u001b[0mn\u001b[0m\u001b[0;34m.\u001b[0m\u001b[0msplit\u001b[0m\u001b[0;34m(\u001b[0m\u001b[0;34m\",\"\u001b[0m\u001b[0;34m)\u001b[0m\u001b[0;34m\u001b[0m\u001b[0;34m\u001b[0m\u001b[0m\n\u001b[0m",
      "\u001b[0;31mAttributeError\u001b[0m: 'float' object has no attribute 'split'"
     ]
    }
   ],
   "source": [
    "data[\"arrival\"].map(list_converter)"
   ]
  },
  {
   "cell_type": "code",
   "execution_count": 18,
   "id": "7ab08d48",
   "metadata": {},
   "outputs": [
    {
     "data": {
      "text/plain": [
       "[\"['Sudan '\", \" 'United Kingdom ']\"]"
      ]
     },
     "execution_count": 18,
     "metadata": {},
     "output_type": "execute_result"
    }
   ],
   "source": [
    "data[\"arrival\"].iloc[4].split(\",\")"
   ]
  },
  {
   "cell_type": "markdown",
   "id": "2b6f2bc6",
   "metadata": {},
   "source": [
    "end of notebook\n"
   ]
  },
  {
   "cell_type": "code",
   "execution_count": null,
   "id": "daae718c",
   "metadata": {},
   "outputs": [],
   "source": []
  }
 ],
 "metadata": {
  "kernelspec": {
   "display_name": "Python 3 (ipykernel)",
   "language": "python",
   "name": "python3"
  },
  "language_info": {
   "codemirror_mode": {
    "name": "ipython",
    "version": 3
   },
   "file_extension": ".py",
   "mimetype": "text/x-python",
   "name": "python",
   "nbconvert_exporter": "python",
   "pygments_lexer": "ipython3",
   "version": "3.8.12"
  },
  "toc": {
   "base_numbering": 1,
   "nav_menu": {},
   "number_sections": true,
   "sideBar": true,
   "skip_h1_title": false,
   "title_cell": "Table of Contents",
   "title_sidebar": "Contents",
   "toc_cell": false,
   "toc_position": {},
   "toc_section_display": true,
   "toc_window_display": false
  }
 },
 "nbformat": 4,
 "nbformat_minor": 5
}
