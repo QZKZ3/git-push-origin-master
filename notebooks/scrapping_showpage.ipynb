{
 "cells": [
  {
   "cell_type": "code",
   "execution_count": 13,
   "id": "e89586c6",
   "metadata": {},
   "outputs": [],
   "source": [
    "import pandas as pd\n",
    "import re\n",
    "import requests\n",
    "from bs4 import BeautifulSoup"
   ]
  },
  {
   "cell_type": "code",
   "execution_count": 14,
   "id": "7dc6aa24",
   "metadata": {},
   "outputs": [],
   "source": [
    "response = requests.get(\"http://antislavery.ac.uk/items/show/121\")\n",
    "soup = BeautifulSoup(response.content, \"html.parser\")"
   ]
  },
  {
   "cell_type": "code",
   "execution_count": 15,
   "id": "0736c40f",
   "metadata": {},
   "outputs": [
    {
     "data": {
      "text/plain": [
       "'Salma'"
      ]
     },
     "execution_count": 15,
     "metadata": {},
     "output_type": "execute_result"
    }
   ],
   "source": [
    "name = soup.find(\"h3\", class_ =\"item-title__title\")\n",
    "name.text.split()[0]"
   ]
  },
  {
   "cell_type": "code",
   "execution_count": 16,
   "id": "3722263e",
   "metadata": {},
   "outputs": [
    {
     "data": {
      "text/plain": [
       "[{'name': 'Salma', 'narrative_year': '2003'}]"
      ]
     },
     "execution_count": 16,
     "metadata": {},
     "output_type": "execute_result"
    }
   ],
   "source": [
    "testimonies = []\n",
    "for item in soup.find_all(\"div\", class_= \"item-title\"):\n",
    "    name = item.find(\"h3\", class_=\"item-title__title\").text.split()[0]\n",
    "    narrative_year = item.find(\"h5\", class_=\"item-title__meta\").text.split()[0]\n",
    "    testimonies.append({'name': name, 'narrative_year': narrative_year})\n",
    "testimonies"
   ]
  },
  {
   "cell_type": "code",
   "execution_count": 54,
   "id": "b3434a33",
   "metadata": {},
   "outputs": [
    {
     "data": {
      "text/plain": [
       "'My name is Salma. I want you to read this attentively. If you want to meet me, I am here. I am a witness, before the whole world, to the fact of slavery in Mauritania. I was born a slave. I was born in Mauritania in 1956. My mother and father were slaves for one family, and their parents were slaves of the same family. Ever since I was old enough to walk, I was forced to work for this family all day, every day. We never had days off. We hardly knew that it was Saturday or Sunday, because we had to work every day. Even if we were sick, we had to work. When I was still a child, I started taking over my mother’s job, taking care of the first wife of the head of the family, and her 15 children. Every day at 5am I had to make their breakfast. First, I had to get water, and wood to make a fire. We were in the desert, and the well was far away, so often I had to walk a long way. I had to cook all their meals, and clean their clothes, and watch all the children. Even if one of my children was hurt or in danger, I didn’t dare help my child, because I had to watch the children of the master’s wife first. If I didn’t, they would beat me. I was beaten very often, with a wooden stick or leather belt. One day they were beating my mother and I couldn’t stand it, I tried to stop them. The head of the family got very angry with me, and he tied my hands, and branded me with a burning iron, and he hit me across the face. The ring on his finger left a scar on my face. When I was a slave, I was never allowed to go to school or learn anything more than some Koran verses and prayers. But I was lucky, because the eldest son of the master had gone to school away from our village and had different ideas than his father. This eldest son decided to help me. He saw that I was smart, and he secretly taught me to speak French, and to read and write a little. I think that everyone thought he was raping me, but he was teaching me. The first time I tried to escape was about ten years ago. When I left the family’s village, I didn’t know where to go, and I went in the wrong direction. I didn’t know how close I was to Senegal, just on the other side of the river. So instead of going to Senegal, I walked for two days in the wrong direction. I found another family with slaves, and I hid with the slaves, but that family found me and sent me back. The head of the family punished me terribly. They bound my wrists and ankles and tied me to a date tree in the middle of the family compound, and left me there for a week. He cut my wrists with a razor, so that I bled terribly. I still have scars on my arms. Finally I managed to escape. I met a man in the market who told me that Senegal was not far away, that it was just across the river, and that I could escape. So I decided that I had to try. I ran away from the family compound and went to the river. At the river, a man with a small wooden boat agreed to take me into Senegal. There I made my way to a safe house run by a former slave from Mauritania. I stayed in Senegal for a few years. But I never felt safe there. I knew that Mauritania wasn’t far away. Always, I had in my head that the master of the family could come and pay people to look for me and bring me back to his house. I was afraid all the time in Dakar. I was free. I still wasn’t free. The man whom I met in Rosso told me that I had to go to the United States to be truly free. I saw this man again in Senegal, and he told me that I had to go to the US. I spent several years in Dakar. I worked to live. I cleaned the house, and I washed clothes. When I got to New York, to the US, I found liberty. I worked when I got here, braiding hair. That was the first time I had been paid for work I had done. To be paid for my work, that was really liberty. To work for someone and be paid, I can’t even explain it. I had never believed in that. Even here, in New York, I believed that I would be treated like I was in Mauritania. The first time I was paid here, I cried that day. That really helped me. I didn’t know that. I had never seen a person paid for her work before in my life. It was a very, very good surprise. Now I am used to that. It has really made me happy. To work, and to learn things, to go to school, to learn, to talk with people I choose to talk to: these things are liberty to me. To have the liberty to discuss with people, to be free to go where I want, to eat what I want, to sleep where I want. Before, I didn’t have that. Really, seriously, before, I didn’t have that. Also, to have my children with me. One of the hardest things for me was leaving my children behind in Mauritania, but I knew that I had to escape first and then figure out how to get them out of there. In the three years I have been here, I have been working to secure the liberty of my children, so that they would be as free as me. I had to pay people in Senegal so that they would find them and bring them to Senegal. Now most of my children are in Senegal. Every morning I get up early, and buy a phone card, and I speak with my children. All my children tell me that they would rather die in the street than to return to Mauritania. Also I have been paying for them to go to school in Senegal. They never want to school in Mauritania, there they got nothing. For them, they love to go to school, to learn. One of my children is now in the United States with me. My children were like dreams for me. Since I have had my first daughter here in the US it has become reality. I want very, very much that the others will join us. That is also liberty for me. In Mauritania, I never had the right to make decisions concerning my own children. Here, it is incomparably different. I myself went to school in the US. I have been learning English. I want to continue learning English. I want to learn many things. I want to learn to speak English well, like everyone. I want my children to learn English better than me. I want to become an interpreter somewhere. I also want to learn how to use computers. These are things that would never ever have been possible for me in Mauritania. In Mauritania, I didn’t dare go to the government, because they wouldn’t listen. Because for them, slavery is normal. It doesn’t matter what the laws say there, because there they don’t apply the laws. Maybe it’s written that there is no slavery, but it’s not true. Even in front of the President of Mauritania I can say in full voice that there is slavery in Mauritania, because now I’m as free as he is. When I arrived in the United States, I was in Harlem, with Africans, who took me for a while. Then I went to the Bronx. The Africans with whom I was living explained to me that I should apply for asylum, that I should go to Immigration. I made an application with the help of some Africans. Then I went to Immigration for my interview. Immigration sent me to Federal Plaza, to Court. I went to Immigration Court, and the judge asked me if I had a lawyer. I told him that I had a lawyer, but he didn’t come. The judge told me I should get my money back, and that I should go to a different lawyer, who was honest. I saw the name “New York Association for New Americans,” and I liked that name, and I went there. In the beginning, in the US, I was afraid of going to Immigration. I was so afraid that I would be sent back to Mauritania. After I met my lawyer, I learned that that wasn’t true. Here, if you are honest and correct and you tell the truth, you will really have your liberty. Here, it’s freedom. The judge was honest, and he did his job. The judge demanded proof, but then he paid attention and listened. I met a doctor who helped me, and Professor Kevin Bales, and the Bellevue Program for Torture Survivors. It was a big difference from Mauritania, and a big surprise to me. A big difference. The hard things in life now are not understanding English, and finding work. To live here, you really have to work. Those are my difficulties. In Dakar, I was in a house, and I didn’t pay, I just did a little work. Here, people don’t help you that way. You have to pay for everything. At NYANA people helped me. At a certain time, they gave me money to pay my rent. I would like to be a citizen of the United States one day. I want my children to be citizens. I came here and got total liberty. I see that here there is democracy, which to me means freedom of expression. In Mauritania, there was no liberty of expression. In Dakar, I was afraid to speak out, because we were so close to Mauritania. I had to be cautious. I had to be far, far, far from Mauritania. Here in America, I can speak out. For me, liberty was a thing that was necessary, that all the slaves must dream of. I always thought about liberty. The other slaves were afraid of being free. They were afraid that they wouldn’t know where to go or what to do or who to talk to. Me, I knew that it wasn’t good to be afraid, and I was never afraid of liberty. I always believed that I had to be free, and I think that helped me to escape.I know many people who are still slaves there, from my family and other families. I never knew people in my family who escaped before me. In my family, I was the first one. My mother and father died slaves. I told my mother that one day I would be free. Narrative as written by the narrator, in Cincinnati, USA.'"
      ]
     },
     "execution_count": 54,
     "metadata": {},
     "output_type": "execute_result"
    }
   ],
   "source": [
    "text = []\n",
    "for element in soup.find(\"div\", class_=\"text-item-body no-select\").find_all(\"p\"):\n",
    "    text.append(element.text)\n",
    "text3 =' '.join(text)\n",
    "text3"
   ]
  },
  {
   "cell_type": "code",
   "execution_count": null,
   "id": "3a9848e9",
   "metadata": {},
   "outputs": [],
   "source": []
  },
  {
   "cell_type": "code",
   "execution_count": 50,
   "id": "3eda3680",
   "metadata": {},
   "outputs": [
    {
     "data": {
      "text/plain": [
       "'21.164555, -9.362622'"
      ]
     },
     "execution_count": 50,
     "metadata": {},
     "output_type": "execute_result"
    }
   ],
   "source": [
    "maplocation = re.findall(\"mapLocation = .(.*).,\",soup.find(\"script\").text)[0]\n",
    "maplocation"
   ]
  },
  {
   "cell_type": "code",
   "execution_count": 84,
   "id": "4015628b",
   "metadata": {},
   "outputs": [
    {
     "data": {
      "text/plain": [
       "'<section class=\"item-meta\">\\n<dl class=\"item-meta__list\">\\n<dt class=\"item-meta__title-container\"><h4 class=\"item-meta__title\">Country</h4></dt>\\n<dd class=\"item-meta__value\">\\n<ul> <li class=\"inline-meta__item\"> <a class=\"no-underline\" href=\"/items/browse?advanced%5B0%5D%5Belement_id%5D=92&amp;advanced%5B0%5D%5Btype%5D=contains&amp;advanced%5B0%5D%5Bterms%5D=Mauritania+%28slavery+location%29&amp;submit_search=Search\">Mauritania (slavery location)</a>,           </li> <li class=\"inline-meta__item\"> <a class=\"no-underline\" href=\"/items/browse?advanced%5B0%5D%5Belement_id%5D=92&amp;advanced%5B0%5D%5Btype%5D=contains&amp;advanced%5B0%5D%5Bterms%5D=Mauritania+%28trafficked+from%29&amp;submit_search=Search\">Mauritania (trafficked from)</a> </li> </ul> </dd>\\n<dt class=\"item-meta__title-container\"><h4 class=\"item-meta__title\">Theme</h4></dt>\\n<dd class=\"item-meta__value\">\\n<ul> <li class=\"inline-meta__item\"> <a class=\"no-underline\" href=\"/items/browse?advanced%5B0%5D%5Belement_id%5D=59&amp;advanced%5B0%5D%5Btype%5D=contains&amp;advanced%5B0%5D%5Bterms%5D=Domestic+slavery&amp;submit_search=Search\">Domestic slavery</a> </li> </ul> </dd>\\n<dt class=\"item-meta__title-container\"><h4 class=\"item-meta__title\">Type</h4></dt>\\n<dd class=\"item-meta__value\">\\n<ul> <li class=\"inline-meta__item\"> <a class=\"no-underline\" href=\"/items/browse?advanced%5B0%5D%5Belement_id%5D=51&amp;advanced%5B0%5D%5Btype%5D=contains&amp;advanced%5B0%5D%5Bterms%5D=Narrative&amp;submit_search=Search\">Narrative</a> </li> </ul> </dd>\\n<dt class=\"item-meta__title-container\"><h4 class=\"item-meta__title\">Tags</h4></dt>\\n<dd class=\"item-meta__value\">\\n<ul>\\n<a href=\"/items/browse?tags=1956-1997+%28Enslavement+period%29\" rel=\"tag\">1956-1997 (Enslavement period)</a>, <a href=\"/items/browse?tags=Hereditary+slavery\" rel=\"tag\">Hereditary slavery</a> </ul>\\n</dd>\\n</dl>\\n</section>'"
      ]
     },
     "execution_count": 84,
     "metadata": {},
     "output_type": "execute_result"
    }
   ],
   "source": [
    "x = str(soup.find(\"section\", class_=\"item-meta\"))\n",
    "x"
   ]
  },
  {
   "cell_type": "code",
   "execution_count": 104,
   "id": "582fceab",
   "metadata": {},
   "outputs": [
    {
     "data": {
      "text/plain": [
       "'1956-1997'"
      ]
     },
     "execution_count": 104,
     "metadata": {},
     "output_type": "execute_result"
    }
   ],
   "source": [
    "date_slavery = re.findall(\"\\d{4}-\\d*\", str(soup.find(\"section\", class_=\"item-meta\")))[0]"
   ]
  },
  {
   "cell_type": "code",
   "execution_count": 135,
   "id": "344f09ae",
   "metadata": {},
   "outputs": [
    {
     "data": {
      "text/plain": [
       "'[<li class=\"inline-meta__item\"> <a class=\"no-underline\" href=\"/items/browse?advanced%5B0%5D%5Belement_id%5D=92&amp;advanced%5B0%5D%5Btype%5D=contains&amp;advanced%5B0%5D%5Bterms%5D=Mauritania+%28slavery+location%29&amp;submit_search=Search\">Mauritania (slavery location)</a>,           </li>, <li class=\"inline-meta__item\"> <a class=\"no-underline\" href=\"/items/browse?advanced%5B0%5D%5Belement_id%5D=92&amp;advanced%5B0%5D%5Btype%5D=contains&amp;advanced%5B0%5D%5Bterms%5D=Mauritania+%28trafficked+from%29&amp;submit_search=Search\">Mauritania (trafficked from)</a> </li>, <li class=\"inline-meta__item\"> <a class=\"no-underline\" href=\"/items/browse?advanced%5B0%5D%5Belement_id%5D=59&amp;advanced%5B0%5D%5Btype%5D=contains&amp;advanced%5B0%5D%5Bterms%5D=Domestic+slavery&amp;submit_search=Search\">Domestic slavery</a> </li>, <li class=\"inline-meta__item\"> <a class=\"no-underline\" href=\"/items/browse?advanced%5B0%5D%5Belement_id%5D=51&amp;advanced%5B0%5D%5Btype%5D=contains&amp;advanced%5B0%5D%5Bterms%5D=Narrative&amp;submit_search=Search\">Narrative</a> </li>]'"
      ]
     },
     "execution_count": 135,
     "metadata": {},
     "output_type": "execute_result"
    }
   ],
   "source": [
    "x = str(soup.find_all(\"li\", {\"class\": \"inline-meta__item\"}))\n",
    "x"
   ]
  },
  {
   "cell_type": "code",
   "execution_count": 131,
   "id": "b2d80208",
   "metadata": {},
   "outputs": [
    {
     "data": {
      "text/plain": [
       "['(trafficked from']"
      ]
     },
     "execution_count": 131,
     "metadata": {},
     "output_type": "execute_result"
    }
   ],
   "source": [
    "re.findall(\".trafficked from\", str(soup.find_all(\"li\", {\"class\": \"inline-meta__item\"})))\n",
    "     "
   ]
  },
  {
   "cell_type": "code",
   "execution_count": 146,
   "id": "6c4fc59b",
   "metadata": {},
   "outputs": [
    {
     "ename": "AttributeError",
     "evalue": "'list' object has no attribute 'strip'",
     "output_type": "error",
     "traceback": [
      "\u001b[0;31m---------------------------------------------------------------------------\u001b[0m",
      "\u001b[0;31mAttributeError\u001b[0m                            Traceback (most recent call last)",
      "\u001b[0;32m/var/folders/lg/t4n83w_x2snc6b97t2zqm1tm0000gn/T/ipykernel_3750/1896444400.py\u001b[0m in \u001b[0;36m<module>\u001b[0;34m\u001b[0m\n\u001b[0;32m----> 1\u001b[0;31m \u001b[0mre\u001b[0m\u001b[0;34m.\u001b[0m\u001b[0mfindall\u001b[0m\u001b[0;34m(\u001b[0m\u001b[0;34m\".>(.*).slavery location\"\u001b[0m\u001b[0;34m,\u001b[0m \u001b[0mstr\u001b[0m\u001b[0;34m(\u001b[0m\u001b[0msoup\u001b[0m\u001b[0;34m.\u001b[0m\u001b[0mfind_all\u001b[0m\u001b[0;34m(\u001b[0m\u001b[0;34m\"li\"\u001b[0m\u001b[0;34m,\u001b[0m \u001b[0;34m{\u001b[0m\u001b[0;34m\"class\"\u001b[0m\u001b[0;34m:\u001b[0m \u001b[0;34m\"inline-meta__item\"\u001b[0m\u001b[0;34m}\u001b[0m\u001b[0;34m)\u001b[0m\u001b[0;34m)\u001b[0m\u001b[0;34m)\u001b[0m\u001b[0;34m.\u001b[0m\u001b[0mstrip\u001b[0m\u001b[0;34m(\u001b[0m\u001b[0;34m)\u001b[0m\u001b[0;34m\u001b[0m\u001b[0;34m\u001b[0m\u001b[0m\n\u001b[0m",
      "\u001b[0;31mAttributeError\u001b[0m: 'list' object has no attribute 'strip'"
     ]
    }
   ],
   "source": [
    "re.findall(\".>(.*).slavery location\", str(soup.find_all(\"li\", {\"class\": \"inline-meta__item\"})))"
   ]
  },
  {
   "cell_type": "code",
   "execution_count": null,
   "id": "d3611e4d",
   "metadata": {},
   "outputs": [],
   "source": [
    "re.findall(\"slavery location.*?(\\w.*) .trafficked from\",\n",
    "                        )[0]"
   ]
  },
  {
   "cell_type": "code",
   "execution_count": 151,
   "id": "f7ef703e",
   "metadata": {},
   "outputs": [],
   "source": [
    "take = soup.find(\"dd\", {\"class\": \"item-meta__value\"}).text\n",
    "countries = re.findall(\"\\n..(.*)\", take)[0]\n",
    "departure = re.findall(\"(.*).slavery location\", countries)[0].strip()\n",
    "arrival = re.findall(\"slavery location.*?(\\w.*) .trafficked from\",\n",
    "                        countries)[0]"
   ]
  },
  {
   "cell_type": "code",
   "execution_count": 157,
   "id": "44aecc31",
   "metadata": {},
   "outputs": [
    {
     "name": "stdout",
     "output_type": "stream",
     "text": [
      "no\n"
     ]
    }
   ],
   "source": [
    "if str(re.findall(\".trafficked from\", str(soup.find_all(\"li\", {\"class\": \"inline-meta__item\"})))) in countries:\n",
    "    "
   ]
  },
  {
   "cell_type": "code",
   "execution_count": 191,
   "id": "58f1898f",
   "metadata": {},
   "outputs": [],
   "source": [
    "arrival = 'Sudan (slavery location),             United Kingdom'"
   ]
  },
  {
   "cell_type": "code",
   "execution_count": 192,
   "id": "d23091a1",
   "metadata": {},
   "outputs": [
    {
     "data": {
      "text/plain": [
       "2"
      ]
     },
     "execution_count": 192,
     "metadata": {},
     "output_type": "execute_result"
    }
   ],
   "source": [
    "len(arrival.split(\", \"))"
   ]
  },
  {
   "cell_type": "code",
   "execution_count": 193,
   "id": "e46480bf",
   "metadata": {},
   "outputs": [
    {
     "name": "stdout",
     "output_type": "stream",
     "text": [
      "Sudan (slavery location)\n",
      "            United Kingdom\n"
     ]
    }
   ],
   "source": [
    "if len(a.split(\", \"))==2:\n",
    "    print(a.split(\", \")[0])\n",
    "    print(a.split(\", \")[1])\n",
    "     "
   ]
  },
  {
   "cell_type": "code",
   "execution_count": 194,
   "id": "4bbaa811",
   "metadata": {},
   "outputs": [],
   "source": [
    "if len(arrival.split(\", \"))==3:\n",
    "    arrive = [arrival.split(\", \")[0], arrival.split(\", \")[1], arrival.split(\", \")[2]]\n",
    "elif len(arrival.split(\", \"))==2:\n",
    "     arrive = [arrival.split(\", \")[0], arrival.split(\", \")[1]]\n",
    "elif len(arrival.split(\", \"))==1:\n",
    "    arrive = [arrival.split(\", \")[0]]"
   ]
  },
  {
   "cell_type": "code",
   "execution_count": 183,
   "id": "cc130fab",
   "metadata": {},
   "outputs": [],
   "source": []
  },
  {
   "cell_type": "code",
   "execution_count": null,
   "id": "9c5ec3a3",
   "metadata": {},
   "outputs": [],
   "source": []
  },
  {
   "cell_type": "code",
   "execution_count": null,
   "id": "d05ab721",
   "metadata": {},
   "outputs": [],
   "source": []
  }
 ],
 "metadata": {
  "kernelspec": {
   "display_name": "Python 3 (ipykernel)",
   "language": "python",
   "name": "python3"
  },
  "language_info": {
   "codemirror_mode": {
    "name": "ipython",
    "version": 3
   },
   "file_extension": ".py",
   "mimetype": "text/x-python",
   "name": "python",
   "nbconvert_exporter": "python",
   "pygments_lexer": "ipython3",
   "version": "3.8.12"
  },
  "toc": {
   "base_numbering": 1,
   "nav_menu": {},
   "number_sections": true,
   "sideBar": true,
   "skip_h1_title": false,
   "title_cell": "Table of Contents",
   "title_sidebar": "Contents",
   "toc_cell": false,
   "toc_position": {},
   "toc_section_display": true,
   "toc_window_display": false
  }
 },
 "nbformat": 4,
 "nbformat_minor": 5
}
