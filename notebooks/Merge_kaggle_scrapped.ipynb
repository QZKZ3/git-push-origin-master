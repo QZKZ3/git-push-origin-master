{
 "cells": [
  {
   "cell_type": "markdown",
   "id": "3138c073",
   "metadata": {},
   "source": [
    "## Merge scrapped data and kaggle"
   ]
  },
  {
   "cell_type": "code",
   "execution_count": 22,
   "id": "ec2b4751",
   "metadata": {},
   "outputs": [],
   "source": [
    "import pandas as pd\n",
    "import numpy as np"
   ]
  },
  {
   "cell_type": "code",
   "execution_count": 23,
   "id": "1139b223",
   "metadata": {},
   "outputs": [
    {
     "name": "stderr",
     "output_type": "stream",
     "text": [
      "/Users/paloma/.pyenv/versions/3.8.12/envs/ht_project/lib/python3.8/site-packages/IPython/core/interactiveshell.py:3444: DtypeWarning: Columns (6,55,57) have mixed types.Specify dtype option on import or set low_memory=False.\n",
      "  exec(code_obj, self.user_global_ns, self.user_ns)\n"
     ]
    }
   ],
   "source": [
    "kaggle = pd.read_csv(\"/Users/paloma/Downloads/The_Global_K-anon_Dataset_15_July_2021 - CTDC_K_anon_ds.csv\")\n",
    "data = pd.read_csv(\"/Users/paloma/Downloads/df_year_cleaned_and_age_groups.csv\")\n"
   ]
  },
  {
   "cell_type": "code",
   "execution_count": 24,
   "id": "d45443c7",
   "metadata": {},
   "outputs": [
    {
     "data": {
      "text/plain": [
       "Index(['By using this data you agree to the Terms of Use: https://www.ctdatacollaborative.org/terms-use',\n",
       "       'yearOfRegistration', 'Datasource', 'gender', 'ageBroad',\n",
       "       'majorityStatus', 'majorityStatusAtExploit', 'majorityEntry',\n",
       "       'citizenship', 'meansOfControlDebtBondage',\n",
       "       'meansOfControlTakesEarnings', 'meansOfControlRestrictsFinancialAccess',\n",
       "       'meansOfControlThreats', 'meansOfControlPsychologicalAbuse',\n",
       "       'meansOfControlPhysicalAbuse', 'meansOfControlSexualAbuse',\n",
       "       'meansOfControlFalsePromises', 'meansOfControlPsychoactiveSubstances',\n",
       "       'meansOfControlRestrictsMovement', 'meansOfControlRestrictsMedicalCare',\n",
       "       'meansOfControlExcessiveWorkingHours', 'meansOfControlUsesChildren',\n",
       "       'meansOfControlThreatOfLawEnforcement',\n",
       "       'meansOfControlWithholdsNecessities',\n",
       "       'meansOfControlWithholdsDocuments', 'meansOfControlOther',\n",
       "       'meansOfControlNotSpecified', 'meansOfControlConcatenated',\n",
       "       'isForcedLabour', 'isSexualExploit', 'isOtherExploit', 'isSexAndLabour',\n",
       "       'isForcedMarriage', 'isForcedMilitary', 'isOrganRemoval',\n",
       "       'isSlaveryAndPractices', 'typeOfExploitConcatenated',\n",
       "       'typeOfLabourAgriculture', 'typeOfLabourAquafarming',\n",
       "       'typeOfLabourBegging', 'typeOfLabourConstruction',\n",
       "       'typeOfLabourDomesticWork', 'typeOfLabourHospitality',\n",
       "       'typeOfLabourIllicitActivities', 'typeOfLabourManufacturing',\n",
       "       'typeOfLabourMiningOrDrilling', 'typeOfLabourPeddling',\n",
       "       'typeOfLabourTransportation', 'typeOfLabourOther',\n",
       "       'typeOfLabourNotSpecified', 'typeOfLabourConcatenated',\n",
       "       'typeOfSexProstitution', 'typeOfSexPornography',\n",
       "       'typeOfSexRemoteInteractiveServices', 'typeOfSexPrivateSexualServices',\n",
       "       'typeOfSexConcatenated', 'isAbduction', 'RecruiterRelationship',\n",
       "       'CountryOfExploitation', 'recruiterRelationIntimatePartner',\n",
       "       'recruiterRelationFriend', 'recruiterRelationFamily',\n",
       "       'recruiterRelationOther', 'recruiterRelationUnknown'],\n",
       "      dtype='object')"
      ]
     },
     "execution_count": 24,
     "metadata": {},
     "output_type": "execute_result"
    }
   ],
   "source": [
    "kaggle.columns"
   ]
  },
  {
   "cell_type": "code",
   "execution_count": 25,
   "id": "b67004a3",
   "metadata": {},
   "outputs": [
    {
     "data": {
      "text/plain": [
       "Index(['text', 'name', 'year', 'departure', 'arrival', 'theme', 'latitude',\n",
       "       'longitude', 'date_slavery', 'gender', 'accuracy',\n",
       "       'meansOfControlDebtBondage', 'meansOfControlExcessiveWorkingHours',\n",
       "       'meansOfControlRestrictsMedicalCare', 'meansOfControlUsesChildren',\n",
       "       'control_method_witchcraft', 'meansOfControlPhysicalAbuse',\n",
       "       'meansOfControlPsychologicalAbuse',\n",
       "       'meansOfControlRestrictsFinancialAccess',\n",
       "       'meansOfControlRestrictsMovement', 'meansOfControlSexualAbuse',\n",
       "       'meansOfControlTakesEarnings', 'meansOfControlThreatOfLawEnforcement',\n",
       "       'meansOfControlThreats', 'meansOfControlPsychoactiveSubstances',\n",
       "       'meansOfControlWithholdsDocuments',\n",
       "       'meansOfControlWithholdsNecessities', 'meansOfControlFalsePromises',\n",
       "       'RecruiterRelationship', 'isAbduction', 'rec_method_online',\n",
       "       'rec_method_recagency', 'recruiterRelationIntimatePartner',\n",
       "       'recruiterRelationFamily', 'rec_method_social_media', 'traf_type_child',\n",
       "       'isSexualExploit', 'isForcedLabour', 'isForcedMarriage',\n",
       "       'traf_type_cmarriage', 'traf_type_domestic', 'traf_type_fcriminality',\n",
       "       'isForcedMilitary', 'traf_type_fpregnancy', 'traf_type_illegaladoption',\n",
       "       'isOrganRemoval', 'typeOfLabourHospitality', 'typeOfLabourAgriculture',\n",
       "       'typeOfLabourAquafarming', 'traf_industry_cleaning',\n",
       "       'typeOfLabourConstruction', 'typeOfLabourDomesticWork',\n",
       "       'typeOfLabourIllicitActivities', 'traf_subtype_forestry',\n",
       "       'traf_subtype_foodprocessing', 'traf_subtype_forcedbegging',\n",
       "       'traf_subtype_healthcare', 'traf_subtype_healthbeauty',\n",
       "       'traf_subtype_landscaping', 'typeOfLabourManufacturing',\n",
       "       'traf_industry_clothes_manufacturing', 'typeOfLabourMiningOrDrilling',\n",
       "       'typeOfSexProstitution', 'typeOfSexPornography',\n",
       "       'typeOfSexRemoteInteractiveServices', 'traf_industry_retail',\n",
       "       'traf_industry_sexualservitude', 'traf_industry_benefitfraud',\n",
       "       'transport_plane', 'transport_boat', 'transport_bus', 'transport_ferry',\n",
       "       'transport_motorbike', 'transport_onfoot', 'transport_car',\n",
       "       'transport_shippingcontainer', 'transport_taxi', 'transport_train',\n",
       "       'transport_truck', 'age_0_to_8', 'age_9_to_17', 'age_18_to_20',\n",
       "       'age_21_to_23', 'age_24_to_26', 'age_27_to_29', 'age_30-38',\n",
       "       'age_39_47', 'age_48+', 'ageBroad'],\n",
       "      dtype='object')"
      ]
     },
     "execution_count": 25,
     "metadata": {},
     "output_type": "execute_result"
    }
   ],
   "source": [
    "data.columns "
   ]
  },
  {
   "cell_type": "code",
   "execution_count": 26,
   "id": "1a5208a8",
   "metadata": {},
   "outputs": [],
   "source": [
    "concat_dfht_26_11_15_18 =pd.concat([data,kaggle], axis=0, ignore_index=True)"
   ]
  },
  {
   "cell_type": "code",
   "execution_count": null,
   "id": "b20b14a5",
   "metadata": {},
   "outputs": [],
   "source": []
  },
  {
   "cell_type": "code",
   "execution_count": 27,
   "id": "c640a354",
   "metadata": {},
   "outputs": [],
   "source": [
    "concat_dfht_26_11_15_37 = concat_dfht_26_11_15_18.drop(columns = 'By using this data you agree to the Terms of Use: https://www.ctdatacollaborative.org/terms-use')"
   ]
  },
  {
   "cell_type": "code",
   "execution_count": null,
   "id": "2dedeecd",
   "metadata": {},
   "outputs": [],
   "source": [
    "concat_dfht_26_11_15_37['']"
   ]
  },
  {
   "cell_type": "code",
   "execution_count": 28,
   "id": "63c9560a",
   "metadata": {},
   "outputs": [],
   "source": [
    "concat_dfht_26_11_15_37.to_csv(\"concat_dfht_26_11_15_17.csv\")"
   ]
  },
  {
   "cell_type": "code",
   "execution_count": null,
   "id": "979385e5",
   "metadata": {},
   "outputs": [],
   "source": []
  }
 ],
 "metadata": {
  "kernelspec": {
   "display_name": "Python 3 (ipykernel)",
   "language": "python",
   "name": "python3"
  },
  "language_info": {
   "codemirror_mode": {
    "name": "ipython",
    "version": 3
   },
   "file_extension": ".py",
   "mimetype": "text/x-python",
   "name": "python",
   "nbconvert_exporter": "python",
   "pygments_lexer": "ipython3",
   "version": "3.8.12"
  },
  "toc": {
   "base_numbering": 1,
   "nav_menu": {},
   "number_sections": true,
   "sideBar": true,
   "skip_h1_title": false,
   "title_cell": "Table of Contents",
   "title_sidebar": "Contents",
   "toc_cell": false,
   "toc_position": {},
   "toc_section_display": true,
   "toc_window_display": false
  }
 },
 "nbformat": 4,
 "nbformat_minor": 5
}
