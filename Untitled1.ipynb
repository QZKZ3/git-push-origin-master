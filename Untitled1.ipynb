{
 "cells": [
  {
   "cell_type": "code",
   "execution_count": 1,
   "id": "0673dc9d",
   "metadata": {},
   "outputs": [],
   "source": [
    "from bs4 import BeautifulSoup\n",
    "import requests \n",
    "import re"
   ]
  },
  {
   "cell_type": "code",
   "execution_count": 169,
   "id": "8bc79746",
   "metadata": {},
   "outputs": [],
   "source": [
    "response=requests.get(\"http://antislavery.ac.uk/items/show/2889\")"
   ]
  },
  {
   "cell_type": "code",
   "execution_count": 170,
   "id": "6987c62d",
   "metadata": {},
   "outputs": [],
   "source": [
    "html=response.text\n",
    "soup=BeautifulSoup(html)"
   ]
  },
  {
   "cell_type": "code",
   "execution_count": 171,
   "id": "0ecab89e",
   "metadata": {},
   "outputs": [],
   "source": [
    "a=soup.find(\"div\",{\"class\": \"text-item-body no-select\"}).find_all(\"p\")"
   ]
  },
  {
   "cell_type": "code",
   "execution_count": 179,
   "id": "7d173b6f",
   "metadata": {},
   "outputs": [],
   "source": [
    "lista=list()\n",
    "for i in a:\n",
    "    if i.text != \"\\xa0\":\n",
    "        lista.append(i.text)"
   ]
  },
  {
   "cell_type": "code",
   "execution_count": 183,
   "id": "7678f81d",
   "metadata": {},
   "outputs": [
    {
     "data": {
      "text/plain": [
       "['We all used the same agent. We stayed at the airport for a night. The next day, the employer and an agent came to collect us. Our passports were taken by them. They took us to Seremban to work with another company that had nothing to do with [the first company]. Myself and other workers telephoned [the first company], and they told us that the job I had been promised did not exist. We called numerous times, the first time being from the airport and the most recent being last month [June 2009]. The company said that they knew nothing about us.',\n",
       " 'Narrative credit to Amnesty International',\n",
       " 'Originally published in ‘Trapped: The Exploitation of Migrant Workers in Malaysia’']"
      ]
     },
     "execution_count": 183,
     "metadata": {},
     "output_type": "execute_result"
    }
   ],
   "source": [
    "[i.text for i in a if i.text != \"\\xa0\"]"
   ]
  },
  {
   "cell_type": "code",
   "execution_count": 181,
   "id": "66cc704d",
   "metadata": {},
   "outputs": [
    {
     "data": {
      "text/plain": [
       "'We all used the same agent. We stayed at the airport for a night. The next day, the employer and an agent came to collect us. Our passports were taken by them. They took us to Seremban to work with another company that had nothing to do with [the first company]. Myself and other workers telephoned [the first company], and they told us that the job I had been promised did not exist. We called numerous times, the first time being from the airport and the most recent being last month [June 2009]. The company said that they knew nothing about us.,Narrative credit to Amnesty International,Originally published in ‘Trapped: The Exploitation of Migrant Workers in Malaysia’'"
      ]
     },
     "execution_count": 181,
     "metadata": {},
     "output_type": "execute_result"
    }
   ],
   "source": [
    "\",\".join(lista)"
   ]
  },
  {
   "cell_type": "code",
   "execution_count": 173,
   "id": "e5806a65",
   "metadata": {},
   "outputs": [],
   "source": [
    "#countries\n",
    "take=soup.find(\"dd\",{\"class\":\"item-meta__value\"}).text\n",
    "countries=re.findall(\"\\n..(.*)\",take)[0]\n",
    "departure=re.findall(\"(.*).slavery location\",countries)[0].strip()\n",
    "arrival=re.findall(\"slavery location.*?(\\w.*) .trafficked from\",countries)[0]"
   ]
  },
  {
   "cell_type": "code",
   "execution_count": null,
   "id": "51b0554a",
   "metadata": {},
   "outputs": [],
   "source": []
  },
  {
   "cell_type": "code",
   "execution_count": 174,
   "id": "e2caa580",
   "metadata": {},
   "outputs": [],
   "source": [
    "typee=soup.find_all(\"a\",{\"class\":\"no-underline\"})\n",
    "theme=typee[2].text"
   ]
  },
  {
   "cell_type": "code",
   "execution_count": 175,
   "id": "0e571b20",
   "metadata": {},
   "outputs": [
    {
     "data": {
      "text/plain": [
       "'Malaysia'"
      ]
     },
     "execution_count": 175,
     "metadata": {},
     "output_type": "execute_result"
    }
   ],
   "source": [
    "departure"
   ]
  },
  {
   "cell_type": "code",
   "execution_count": 176,
   "id": "cd7c0745",
   "metadata": {},
   "outputs": [
    {
     "data": {
      "text/plain": [
       "'Bangladesh'"
      ]
     },
     "execution_count": 176,
     "metadata": {},
     "output_type": "execute_result"
    }
   ],
   "source": [
    "arrival"
   ]
  },
  {
   "cell_type": "code",
   "execution_count": 177,
   "id": "bfece540",
   "metadata": {},
   "outputs": [
    {
     "data": {
      "text/plain": [
       "'Trafficking'"
      ]
     },
     "execution_count": 177,
     "metadata": {},
     "output_type": "execute_result"
    }
   ],
   "source": [
    "theme"
   ]
  },
  {
   "cell_type": "code",
   "execution_count": null,
   "id": "0068dab6",
   "metadata": {},
   "outputs": [],
   "source": []
  }
 ],
 "metadata": {
  "kernelspec": {
   "display_name": "lewagon",
   "language": "python",
   "name": "lewagon"
  },
  "language_info": {
   "codemirror_mode": {
    "name": "ipython",
    "version": 3
   },
   "file_extension": ".py",
   "mimetype": "text/x-python",
   "name": "python",
   "nbconvert_exporter": "python",
   "pygments_lexer": "ipython3",
   "version": "3.8.12"
  },
  "toc": {
   "base_numbering": 1,
   "nav_menu": {},
   "number_sections": true,
   "sideBar": true,
   "skip_h1_title": false,
   "title_cell": "Table of Contents",
   "title_sidebar": "Contents",
   "toc_cell": false,
   "toc_position": {},
   "toc_section_display": true,
   "toc_window_display": false
  }
 },
 "nbformat": 4,
 "nbformat_minor": 5
}
