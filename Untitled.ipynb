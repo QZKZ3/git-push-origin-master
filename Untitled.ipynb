{
 "cells": [
  {
   "cell_type": "code",
   "execution_count": 26,
   "id": "f5a0f81e",
   "metadata": {},
   "outputs": [],
   "source": [
    "from bs4 import BeautifulSoup\n",
    "import requests\n",
    "import re\n",
    "import pandas as pd\n",
    "path = \"raw_data/index_url.csv\"\n",
    "df=pd.read_csv(path)\n",
    "\n"
   ]
  },
  {
   "cell_type": "code",
   "execution_count": 36,
   "id": "ed915bb8",
   "metadata": {},
   "outputs": [],
   "source": [
    "df=pd.read_csv(\"/Users/fenice/code/QZKZ3/ht_project/try.csv\")"
   ]
  },
  {
   "cell_type": "code",
   "execution_count": 38,
   "id": "caffe981",
   "metadata": {},
   "outputs": [],
   "source": [
    "x=df[\"coordinates\"][0]"
   ]
  },
  {
   "cell_type": "code",
   "execution_count": 42,
   "id": "6a7069f9",
   "metadata": {},
   "outputs": [
    {
     "data": {
      "text/plain": [
       "'[-14.354, -170.7736]'"
      ]
     },
     "execution_count": 42,
     "metadata": {},
     "output_type": "execute_result"
    }
   ],
   "source": [
    "x"
   ]
  },
  {
   "cell_type": "code",
   "execution_count": 172,
   "id": "905a499e",
   "metadata": {},
   "outputs": [],
   "source": [
    "\n",
    "response = requests.get(\"http://antislavery.ac.uk/items/show/2632\")\n",
    "html = response.text\n",
    "soup = BeautifulSoup(html, features=\"html.parser\")\n",
    "take = soup.find(\"dd\", {\"class\": \"item-meta__value\"}).text\n",
    "text = []\n",
    "for element in soup.find(\"div\", class_=\"text-item-body no-select\").find_all(\"p\"):\n",
    "    text.append(element.text)\n",
    "text=' '.join(text)\n",
    "\n",
    "name_list = []\n",
    "narrative_year_list = []\n",
    "for item in soup.find_all(\"div\", class_= \"item-title\"):\n",
    "    name = item.find(\"h3\", class_=\"item-title__title\").text.split()[0]\n",
    "    narrative_year = item.find(\"h5\", class_=\"item-title__meta\").text.split()[0]\n",
    "    name_list.append(name)\n",
    "    narrative_year_list.append(narrative_year)\n",
    "    \n",
    "\n"
   ]
  },
  {
   "cell_type": "code",
   "execution_count": null,
   "id": "24b42f80",
   "metadata": {},
   "outputs": [],
   "source": []
  },
  {
   "cell_type": "code",
   "execution_count": null,
   "id": "3ee6902c",
   "metadata": {},
   "outputs": [],
   "source": [
    "\n"
   ]
  },
  {
   "cell_type": "code",
   "execution_count": 113,
   "id": "201fe5d1",
   "metadata": {},
   "outputs": [
    {
     "data": {
      "text/plain": [
       "'War slavery'"
      ]
     },
     "execution_count": 113,
     "metadata": {},
     "output_type": "execute_result"
    }
   ],
   "source": [
    "inline_item_str= str(soup.find_all(\"li\", {\"class\": \"inline-meta__item\"}))\n",
    "summ=len(re.findall(\"slavery location\",inline_item_str))+len(re.findall(\"trafficked from\",inline_item_str))\n",
    "\n",
    "inline_item = soup.find_all(\"li\", {\"class\": \"inline-meta__item\"})\n",
    "\n",
    "if summ==0:\n",
    "    theme = (inline_item[0].text).strip()    \n",
    "elif summ==1:\n",
    "    theme = (inline_item[1].text).strip()\n",
    "elif summ==2:\n",
    "    theme = (inline_item[2].text).strip()\n",
    "elif summ==3:\n",
    "    theme = (inline_item[3].text).strip()\n",
    "elif summ==4:\n",
    "    theme = (inline_item[3].text).strip()\n",
    "else:\n",
    "    theme = (inline_item[5].text).strip()\n",
    "    \n",
    "theme"
   ]
  },
  {
   "cell_type": "code",
   "execution_count": 149,
   "id": "abb66e73",
   "metadata": {},
   "outputs": [
    {
     "data": {
      "text/plain": [
       "88"
      ]
     },
     "execution_count": 149,
     "metadata": {},
     "output_type": "execute_result"
    }
   ],
   "source": [
    "pd.read_csv(\"/Users/fenice/code/QZKZ3/ht_project/try.csv\")[\"theme\"].value_counts()[16:].sum()"
   ]
  },
  {
   "cell_type": "code",
   "execution_count": null,
   "id": "e05ccbef",
   "metadata": {},
   "outputs": [],
   "source": []
  },
  {
   "cell_type": "code",
   "execution_count": 167,
   "id": "22c5410a",
   "metadata": {},
   "outputs": [
    {
     "data": {
      "text/plain": [
       "'Sudan (slavery location),             United Kingdom'"
      ]
     },
     "execution_count": 167,
     "metadata": {},
     "output_type": "execute_result"
    }
   ],
   "source": [
    "pd.read_csv(\"/Users/fenice/code/QZKZ3/ht_project/try.csv\").iloc[4]"
   ]
  },
  {
   "cell_type": "code",
   "execution_count": 156,
   "id": "bbd7d316",
   "metadata": {},
   "outputs": [],
   "source": [
    "df_country=pd.read_csv(\"/Users/fenice/code/QZKZ3/ht_project/raw_data/data_csv.csv\")[\"Name\"]\n",
    "country=list(df_country)"
   ]
  },
  {
   "cell_type": "code",
   "execution_count": 162,
   "id": "a026efcc",
   "metadata": {},
   "outputs": [],
   "source": []
  },
  {
   "cell_type": "code",
   "execution_count": null,
   "id": "5ca6f161",
   "metadata": {},
   "outputs": [],
   "source": []
  },
  {
   "cell_type": "code",
   "execution_count": 177,
   "id": "fbc8c234",
   "metadata": {},
   "outputs": [],
   "source": [
    "inline_item = str(soup.find_all(\"li\", {\"class\": \"inline-meta__item\"}))"
   ]
  },
  {
   "cell_type": "code",
   "execution_count": 178,
   "id": "37494df0",
   "metadata": {},
   "outputs": [
    {
     "name": "stdout",
     "output_type": "stream",
     "text": [
      "Sudan\n"
     ]
    }
   ],
   "source": [
    "for i in country:\n",
    "    if len(re.findall(i,inline_item))>0:\n",
    "        print(i)"
   ]
  },
  {
   "cell_type": "code",
   "execution_count": null,
   "id": "9105eaa2",
   "metadata": {},
   "outputs": [],
   "source": []
  }
 ],
 "metadata": {
  "kernelspec": {
   "display_name": "lewagon",
   "language": "python",
   "name": "lewagon"
  },
  "language_info": {
   "codemirror_mode": {
    "name": "ipython",
    "version": 3
   },
   "file_extension": ".py",
   "mimetype": "text/x-python",
   "name": "python",
   "nbconvert_exporter": "python",
   "pygments_lexer": "ipython3",
   "version": "3.8.12"
  },
  "toc": {
   "base_numbering": 1,
   "nav_menu": {},
   "number_sections": true,
   "sideBar": true,
   "skip_h1_title": false,
   "title_cell": "Table of Contents",
   "title_sidebar": "Contents",
   "toc_cell": false,
   "toc_position": {},
   "toc_section_display": true,
   "toc_window_display": false
  }
 },
 "nbformat": 4,
 "nbformat_minor": 5
}
